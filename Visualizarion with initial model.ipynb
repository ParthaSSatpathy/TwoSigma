{
 "cells": [
  {
   "cell_type": "code",
   "execution_count": 1,
   "metadata": {
    "collapsed": true
   },
   "outputs": [],
   "source": [
    "import numpy as np\n",
    "import pandas as pd"
   ]
  },
  {
   "cell_type": "code",
   "execution_count": 2,
   "metadata": {
    "collapsed": false
   },
   "outputs": [
    {
     "data": {
      "text/html": [
       "<div>\n",
       "<table border=\"1\" class=\"dataframe\">\n",
       "  <thead>\n",
       "    <tr style=\"text-align: right;\">\n",
       "      <th></th>\n",
       "      <th>bathrooms</th>\n",
       "      <th>bedrooms</th>\n",
       "      <th>building_id</th>\n",
       "      <th>created</th>\n",
       "      <th>description</th>\n",
       "      <th>display_address</th>\n",
       "      <th>features</th>\n",
       "      <th>interest_level</th>\n",
       "      <th>latitude</th>\n",
       "      <th>listing_id</th>\n",
       "      <th>longitude</th>\n",
       "      <th>manager_id</th>\n",
       "      <th>photos</th>\n",
       "      <th>price</th>\n",
       "      <th>street_address</th>\n",
       "    </tr>\n",
       "  </thead>\n",
       "  <tbody>\n",
       "    <tr>\n",
       "      <th>10</th>\n",
       "      <td>1.5</td>\n",
       "      <td>3</td>\n",
       "      <td>53a5b119ba8f7b61d4e010512e0dfc85</td>\n",
       "      <td>2016-06-24 07:54:24</td>\n",
       "      <td>A Brand New 3 Bedroom 1.5 bath ApartmentEnjoy ...</td>\n",
       "      <td>Metropolitan Avenue</td>\n",
       "      <td>[]</td>\n",
       "      <td>medium</td>\n",
       "      <td>40.7145</td>\n",
       "      <td>7211212</td>\n",
       "      <td>-73.9425</td>\n",
       "      <td>5ba989232d0489da1b5f2c45f6688adc</td>\n",
       "      <td>[https://photos.renthop.com/2/7211212_1ed4542e...</td>\n",
       "      <td>3000</td>\n",
       "      <td>792 Metropolitan Avenue</td>\n",
       "    </tr>\n",
       "    <tr>\n",
       "      <th>10000</th>\n",
       "      <td>1.0</td>\n",
       "      <td>2</td>\n",
       "      <td>c5c8a357cba207596b04d1afd1e4f130</td>\n",
       "      <td>2016-06-12 12:19:27</td>\n",
       "      <td></td>\n",
       "      <td>Columbus Avenue</td>\n",
       "      <td>[Doorman, Elevator, Fitness Center, Cats Allow...</td>\n",
       "      <td>low</td>\n",
       "      <td>40.7947</td>\n",
       "      <td>7150865</td>\n",
       "      <td>-73.9667</td>\n",
       "      <td>7533621a882f71e25173b27e3139d83d</td>\n",
       "      <td>[https://photos.renthop.com/2/7150865_be3306c5...</td>\n",
       "      <td>5465</td>\n",
       "      <td>808 Columbus Avenue</td>\n",
       "    </tr>\n",
       "    <tr>\n",
       "      <th>100004</th>\n",
       "      <td>1.0</td>\n",
       "      <td>1</td>\n",
       "      <td>c3ba40552e2120b0acfc3cb5730bb2aa</td>\n",
       "      <td>2016-04-17 03:26:41</td>\n",
       "      <td>Top Top West Village location, beautiful Pre-w...</td>\n",
       "      <td>W 13 Street</td>\n",
       "      <td>[Laundry In Building, Dishwasher, Hardwood Flo...</td>\n",
       "      <td>high</td>\n",
       "      <td>40.7388</td>\n",
       "      <td>6887163</td>\n",
       "      <td>-74.0018</td>\n",
       "      <td>d9039c43983f6e564b1482b273bd7b01</td>\n",
       "      <td>[https://photos.renthop.com/2/6887163_de85c427...</td>\n",
       "      <td>2850</td>\n",
       "      <td>241 W 13 Street</td>\n",
       "    </tr>\n",
       "    <tr>\n",
       "      <th>100007</th>\n",
       "      <td>1.0</td>\n",
       "      <td>1</td>\n",
       "      <td>28d9ad350afeaab8027513a3e52ac8d5</td>\n",
       "      <td>2016-04-18 02:22:02</td>\n",
       "      <td>Building Amenities - Garage - Garden - fitness...</td>\n",
       "      <td>East 49th Street</td>\n",
       "      <td>[Hardwood Floors, No Fee]</td>\n",
       "      <td>low</td>\n",
       "      <td>40.7539</td>\n",
       "      <td>6888711</td>\n",
       "      <td>-73.9677</td>\n",
       "      <td>1067e078446a7897d2da493d2f741316</td>\n",
       "      <td>[https://photos.renthop.com/2/6888711_6e660cee...</td>\n",
       "      <td>3275</td>\n",
       "      <td>333 East 49th Street</td>\n",
       "    </tr>\n",
       "    <tr>\n",
       "      <th>100013</th>\n",
       "      <td>1.0</td>\n",
       "      <td>4</td>\n",
       "      <td>0</td>\n",
       "      <td>2016-04-28 01:32:41</td>\n",
       "      <td>Beautifully renovated 3 bedroom flex 4 bedroom...</td>\n",
       "      <td>West 143rd Street</td>\n",
       "      <td>[Pre-War]</td>\n",
       "      <td>low</td>\n",
       "      <td>40.8241</td>\n",
       "      <td>6934781</td>\n",
       "      <td>-73.9493</td>\n",
       "      <td>98e13ad4b495b9613cef886d79a6291f</td>\n",
       "      <td>[https://photos.renthop.com/2/6934781_1fa4b41a...</td>\n",
       "      <td>3350</td>\n",
       "      <td>500 West 143rd Street</td>\n",
       "    </tr>\n",
       "  </tbody>\n",
       "</table>\n",
       "</div>"
      ],
      "text/plain": [
       "        bathrooms  bedrooms                       building_id  \\\n",
       "10            1.5         3  53a5b119ba8f7b61d4e010512e0dfc85   \n",
       "10000         1.0         2  c5c8a357cba207596b04d1afd1e4f130   \n",
       "100004        1.0         1  c3ba40552e2120b0acfc3cb5730bb2aa   \n",
       "100007        1.0         1  28d9ad350afeaab8027513a3e52ac8d5   \n",
       "100013        1.0         4                                 0   \n",
       "\n",
       "                    created  \\\n",
       "10      2016-06-24 07:54:24   \n",
       "10000   2016-06-12 12:19:27   \n",
       "100004  2016-04-17 03:26:41   \n",
       "100007  2016-04-18 02:22:02   \n",
       "100013  2016-04-28 01:32:41   \n",
       "\n",
       "                                              description  \\\n",
       "10      A Brand New 3 Bedroom 1.5 bath ApartmentEnjoy ...   \n",
       "10000                                                       \n",
       "100004  Top Top West Village location, beautiful Pre-w...   \n",
       "100007  Building Amenities - Garage - Garden - fitness...   \n",
       "100013  Beautifully renovated 3 bedroom flex 4 bedroom...   \n",
       "\n",
       "            display_address  \\\n",
       "10      Metropolitan Avenue   \n",
       "10000       Columbus Avenue   \n",
       "100004          W 13 Street   \n",
       "100007     East 49th Street   \n",
       "100013    West 143rd Street   \n",
       "\n",
       "                                                 features interest_level  \\\n",
       "10                                                     []         medium   \n",
       "10000   [Doorman, Elevator, Fitness Center, Cats Allow...            low   \n",
       "100004  [Laundry In Building, Dishwasher, Hardwood Flo...           high   \n",
       "100007                          [Hardwood Floors, No Fee]            low   \n",
       "100013                                          [Pre-War]            low   \n",
       "\n",
       "        latitude  listing_id  longitude                        manager_id  \\\n",
       "10       40.7145     7211212   -73.9425  5ba989232d0489da1b5f2c45f6688adc   \n",
       "10000    40.7947     7150865   -73.9667  7533621a882f71e25173b27e3139d83d   \n",
       "100004   40.7388     6887163   -74.0018  d9039c43983f6e564b1482b273bd7b01   \n",
       "100007   40.7539     6888711   -73.9677  1067e078446a7897d2da493d2f741316   \n",
       "100013   40.8241     6934781   -73.9493  98e13ad4b495b9613cef886d79a6291f   \n",
       "\n",
       "                                                   photos  price  \\\n",
       "10      [https://photos.renthop.com/2/7211212_1ed4542e...   3000   \n",
       "10000   [https://photos.renthop.com/2/7150865_be3306c5...   5465   \n",
       "100004  [https://photos.renthop.com/2/6887163_de85c427...   2850   \n",
       "100007  [https://photos.renthop.com/2/6888711_6e660cee...   3275   \n",
       "100013  [https://photos.renthop.com/2/6934781_1fa4b41a...   3350   \n",
       "\n",
       "                 street_address  \n",
       "10      792 Metropolitan Avenue  \n",
       "10000       808 Columbus Avenue  \n",
       "100004          241 W 13 Street  \n",
       "100007     333 East 49th Street  \n",
       "100013    500 West 143rd Street  "
      ]
     },
     "execution_count": 2,
     "metadata": {},
     "output_type": "execute_result"
    }
   ],
   "source": [
    "train_df = pd.read_json('C:/Users/parth/Desktop/Git/Projects/TwoSigma/Data/train.json')\n",
    "train_df.head()\n",
    "#train_df.to_excel('C:/Users/parth/Desktop/Git/Projects/TwoSigma/Data/train_xl.xlsx',index=False)"
   ]
  },
  {
   "cell_type": "code",
   "execution_count": 3,
   "metadata": {
    "collapsed": false
   },
   "outputs": [
    {
     "data": {
      "text/html": [
       "<div>\n",
       "<table border=\"1\" class=\"dataframe\">\n",
       "  <thead>\n",
       "    <tr style=\"text-align: right;\">\n",
       "      <th></th>\n",
       "      <th>bathrooms</th>\n",
       "      <th>bedrooms</th>\n",
       "      <th>building_id</th>\n",
       "      <th>created</th>\n",
       "      <th>description</th>\n",
       "      <th>display_address</th>\n",
       "      <th>features</th>\n",
       "      <th>latitude</th>\n",
       "      <th>listing_id</th>\n",
       "      <th>longitude</th>\n",
       "      <th>manager_id</th>\n",
       "      <th>photos</th>\n",
       "      <th>price</th>\n",
       "      <th>street_address</th>\n",
       "    </tr>\n",
       "  </thead>\n",
       "  <tbody>\n",
       "    <tr>\n",
       "      <th>0</th>\n",
       "      <td>1.0</td>\n",
       "      <td>1</td>\n",
       "      <td>79780be1514f645d7e6be99a3de696c5</td>\n",
       "      <td>2016-06-11 05:29:41</td>\n",
       "      <td>Large with awesome terrace--accessible via bed...</td>\n",
       "      <td>Suffolk Street</td>\n",
       "      <td>[Elevator, Laundry in Building, Laundry in Uni...</td>\n",
       "      <td>40.7185</td>\n",
       "      <td>7142618</td>\n",
       "      <td>-73.9865</td>\n",
       "      <td>b1b1852c416d78d7765d746cb1b8921f</td>\n",
       "      <td>[https://photos.renthop.com/2/7142618_1c45a2c8...</td>\n",
       "      <td>2950</td>\n",
       "      <td>99 Suffolk Street</td>\n",
       "    </tr>\n",
       "    <tr>\n",
       "      <th>1</th>\n",
       "      <td>1.0</td>\n",
       "      <td>2</td>\n",
       "      <td>0</td>\n",
       "      <td>2016-06-24 06:36:34</td>\n",
       "      <td>Prime Soho - between Bleecker and Houston - Ne...</td>\n",
       "      <td>Thompson Street</td>\n",
       "      <td>[Pre-War, Dogs Allowed, Cats Allowed]</td>\n",
       "      <td>40.7278</td>\n",
       "      <td>7210040</td>\n",
       "      <td>-74.0000</td>\n",
       "      <td>d0b5648017832b2427eeb9956d966a14</td>\n",
       "      <td>[https://photos.renthop.com/2/7210040_d824cc71...</td>\n",
       "      <td>2850</td>\n",
       "      <td>176 Thompson Street</td>\n",
       "    </tr>\n",
       "    <tr>\n",
       "      <th>100</th>\n",
       "      <td>1.0</td>\n",
       "      <td>1</td>\n",
       "      <td>3dbbb69fd52e0d25131aa1cd459c87eb</td>\n",
       "      <td>2016-06-03 04:29:40</td>\n",
       "      <td>New York chic has reached a new level ...</td>\n",
       "      <td>101 East 10th Street</td>\n",
       "      <td>[Doorman, Elevator, No Fee]</td>\n",
       "      <td>40.7306</td>\n",
       "      <td>7103890</td>\n",
       "      <td>-73.9890</td>\n",
       "      <td>9ca6f3baa475c37a3b3521a394d65467</td>\n",
       "      <td>[https://photos.renthop.com/2/7103890_85b33077...</td>\n",
       "      <td>3758</td>\n",
       "      <td>101 East 10th Street</td>\n",
       "    </tr>\n",
       "    <tr>\n",
       "      <th>1000</th>\n",
       "      <td>1.0</td>\n",
       "      <td>2</td>\n",
       "      <td>783d21d013a7e655bddc4ed0d461cc5e</td>\n",
       "      <td>2016-06-11 06:17:35</td>\n",
       "      <td>Step into this fantastic new Construction in t...</td>\n",
       "      <td>South Third Street\\r</td>\n",
       "      <td>[Roof Deck, Balcony, Elevator, Laundry in Buil...</td>\n",
       "      <td>40.7109</td>\n",
       "      <td>7143442</td>\n",
       "      <td>-73.9571</td>\n",
       "      <td>0b9d5db96db8472d7aeb67c67338c4d2</td>\n",
       "      <td>[https://photos.renthop.com/2/7143442_0879e9e0...</td>\n",
       "      <td>3300</td>\n",
       "      <td>251  South Third Street\\r</td>\n",
       "    </tr>\n",
       "    <tr>\n",
       "      <th>100000</th>\n",
       "      <td>2.0</td>\n",
       "      <td>2</td>\n",
       "      <td>6134e7c4dd1a98d9aee36623c9872b49</td>\n",
       "      <td>2016-04-12 05:24:17</td>\n",
       "      <td>~Take a stroll in Central Park, enjoy the ente...</td>\n",
       "      <td>Midtown West, 8th Ave</td>\n",
       "      <td>[Common Outdoor Space, Cats Allowed, Dogs Allo...</td>\n",
       "      <td>40.7650</td>\n",
       "      <td>6860601</td>\n",
       "      <td>-73.9845</td>\n",
       "      <td>b5eda0eb31b042ce2124fd9e9fcfce2f</td>\n",
       "      <td>[https://photos.renthop.com/2/6860601_c96164d8...</td>\n",
       "      <td>4900</td>\n",
       "      <td>260 West 54th Street</td>\n",
       "    </tr>\n",
       "  </tbody>\n",
       "</table>\n",
       "</div>"
      ],
      "text/plain": [
       "        bathrooms  bedrooms                       building_id  \\\n",
       "0             1.0         1  79780be1514f645d7e6be99a3de696c5   \n",
       "1             1.0         2                                 0   \n",
       "100           1.0         1  3dbbb69fd52e0d25131aa1cd459c87eb   \n",
       "1000          1.0         2  783d21d013a7e655bddc4ed0d461cc5e   \n",
       "100000        2.0         2  6134e7c4dd1a98d9aee36623c9872b49   \n",
       "\n",
       "                    created  \\\n",
       "0       2016-06-11 05:29:41   \n",
       "1       2016-06-24 06:36:34   \n",
       "100     2016-06-03 04:29:40   \n",
       "1000    2016-06-11 06:17:35   \n",
       "100000  2016-04-12 05:24:17   \n",
       "\n",
       "                                              description  \\\n",
       "0       Large with awesome terrace--accessible via bed...   \n",
       "1       Prime Soho - between Bleecker and Houston - Ne...   \n",
       "100             New York chic has reached a new level ...   \n",
       "1000    Step into this fantastic new Construction in t...   \n",
       "100000  ~Take a stroll in Central Park, enjoy the ente...   \n",
       "\n",
       "              display_address  \\\n",
       "0              Suffolk Street   \n",
       "1             Thompson Street   \n",
       "100      101 East 10th Street   \n",
       "1000     South Third Street\\r   \n",
       "100000  Midtown West, 8th Ave   \n",
       "\n",
       "                                                 features  latitude  \\\n",
       "0       [Elevator, Laundry in Building, Laundry in Uni...   40.7185   \n",
       "1                   [Pre-War, Dogs Allowed, Cats Allowed]   40.7278   \n",
       "100                           [Doorman, Elevator, No Fee]   40.7306   \n",
       "1000    [Roof Deck, Balcony, Elevator, Laundry in Buil...   40.7109   \n",
       "100000  [Common Outdoor Space, Cats Allowed, Dogs Allo...   40.7650   \n",
       "\n",
       "        listing_id  longitude                        manager_id  \\\n",
       "0          7142618   -73.9865  b1b1852c416d78d7765d746cb1b8921f   \n",
       "1          7210040   -74.0000  d0b5648017832b2427eeb9956d966a14   \n",
       "100        7103890   -73.9890  9ca6f3baa475c37a3b3521a394d65467   \n",
       "1000       7143442   -73.9571  0b9d5db96db8472d7aeb67c67338c4d2   \n",
       "100000     6860601   -73.9845  b5eda0eb31b042ce2124fd9e9fcfce2f   \n",
       "\n",
       "                                                   photos  price  \\\n",
       "0       [https://photos.renthop.com/2/7142618_1c45a2c8...   2950   \n",
       "1       [https://photos.renthop.com/2/7210040_d824cc71...   2850   \n",
       "100     [https://photos.renthop.com/2/7103890_85b33077...   3758   \n",
       "1000    [https://photos.renthop.com/2/7143442_0879e9e0...   3300   \n",
       "100000  [https://photos.renthop.com/2/6860601_c96164d8...   4900   \n",
       "\n",
       "                   street_address  \n",
       "0               99 Suffolk Street  \n",
       "1             176 Thompson Street  \n",
       "100          101 East 10th Street  \n",
       "1000    251  South Third Street\\r  \n",
       "100000       260 West 54th Street  "
      ]
     },
     "execution_count": 3,
     "metadata": {},
     "output_type": "execute_result"
    }
   ],
   "source": [
    "test_df = pd.read_json('C:/Users/parth/Desktop/Git/Projects/TwoSigma/Data/test.json')\n",
    "test_df.head()"
   ]
  },
  {
   "cell_type": "code",
   "execution_count": 4,
   "metadata": {
    "collapsed": true
   },
   "outputs": [],
   "source": [
    "selectedFeatures = []"
   ]
  },
  {
   "cell_type": "code",
   "execution_count": 5,
   "metadata": {
    "collapsed": true
   },
   "outputs": [],
   "source": [
    "import matplotlib.pyplot as plt\n",
    "import seaborn as sns\n",
    "%matplotlib inline"
   ]
  },
  {
   "cell_type": "markdown",
   "metadata": {},
   "source": [
    "The variables bathroom, bedroom, created, latitude and longitude, manager id and price seem to need investigation."
   ]
  },
  {
   "cell_type": "markdown",
   "metadata": {},
   "source": [
    "But first let's check the distribution of the interest level"
   ]
  },
  {
   "cell_type": "code",
   "execution_count": 6,
   "metadata": {
    "collapsed": false
   },
   "outputs": [
    {
     "data": {
      "image/png": "[encoded data removed]",
      "text/plain": [
       "<matplotlib.figure.Figure at 0x1e71e9e1c18>"
      ]
     },
     "metadata": {},
     "output_type": "display_data"
    }
   ],
   "source": [
    "## value.counts() function returns the counts of categorical variable in a panda data frame\n",
    "\n",
    "interestLevelCount = train_df['interest_level'].value_counts()\n",
    "\n",
    "sns.barplot(interestLevelCount.index,interestLevelCount.values)\n",
    "plt.xlabel('Interest Level')\n",
    "plt.ylabel('Count of Interest Level')\n",
    "\n",
    "for i in range(0,3):\n",
    "    plt.text(i,interestLevelCount.values[i],str(interestLevelCount.values[i]),fontsize = 20)\n",
    "plt.show()"
   ]
  },
  {
   "cell_type": "code",
   "execution_count": 7,
   "metadata": {
    "collapsed": false
   },
   "outputs": [
    {
     "data": {
      "image/png": "[encoded data removed]",
      "text/plain": [
       "<matplotlib.figure.Figure at 0x1e71e9e1668>"
      ]
     },
     "metadata": {},
     "output_type": "display_data"
    }
   ],
   "source": [
    "labels = 'low','medium','high'\n",
    "colors = ['gold', 'yellowgreen', 'lightskyblue']\n",
    "explode = (0.1, 0.1, 0)  # explode 1st slice\n",
    " \n",
    "# Plot\n",
    "plt.pie(interestLevelCount, explode=explode, labels=labels, colors=colors,\n",
    "        autopct='%1.1f%%', shadow=True, startangle=140)\n",
    " \n",
    "plt.axis('equal')\n",
    "plt.show()"
   ]
  },
  {
   "cell_type": "markdown",
   "metadata": {},
   "source": [
    "The above plots shows most of the postings on the website has low interest level, followed by Medium and there are very few high interest level posts."
   ]
  },
  {
   "cell_type": "markdown",
   "metadata": {},
   "source": [
    "Let's start with the three main numerical variables:\n",
    "1. Bathrooms (Categorical Variable values ranging from 0 to 10)\n",
    "2. Bedrooms (Categorical Variable values ranging from 0 to 8)\n",
    "3. Price (Continious Variable)"
   ]
  },
  {
   "cell_type": "markdown",
   "metadata": {},
   "source": [
    "# Analysis of Bathrooms:"
   ]
  },
  {
   "cell_type": "code",
   "execution_count": 8,
   "metadata": {
    "collapsed": false
   },
   "outputs": [
    {
     "data": {
      "image/png": "[encoded data removed]",
      "text/plain": [
       "<matplotlib.figure.Figure at 0x1e71e7669e8>"
      ]
     },
     "metadata": {},
     "output_type": "display_data"
    }
   ],
   "source": [
    "bathRoomCount = train_df['bathrooms'].value_counts()\n",
    "\n",
    "plt.figure(figsize=(12,6))\n",
    "sns.barplot(bathRoomCount.index,bathRoomCount.values)\n",
    "plt.xlabel('No of bathrooms')\n",
    "plt.ylabel('Occurance of the no of Bathroom')\n",
    "\n",
    "'''\n",
    "for i in range(0,bathRoomCount.index.shape[0]):\n",
    "    plt.text(i,bathRoomCount.values[i],str(bathRoomCount.values[i]),fontsize = 14)\n",
    "'''\n",
    "plt.show()"
   ]
  },
  {
   "cell_type": "markdown",
   "metadata": {},
   "source": [
    "As we can see most of the posts have houses with 1 and 2 bathrooms(1 Bathrooms house being dominant in posts).\n",
    "Now let's see what is their distribution as per the interest level."
   ]
  },
  {
   "cell_type": "code",
   "execution_count": 9,
   "metadata": {
    "collapsed": false
   },
   "outputs": [
    {
     "data": {
      "image/png": "[encoded data removed]",
      "text/plain": [
       "<matplotlib.figure.Figure at 0x1e71e7ad9e8>"
      ]
     },
     "metadata": {},
     "output_type": "display_data"
    }
   ],
   "source": [
    "sns.violinplot(x='interest_level', y='bathrooms',data=train_df)\n",
    "plt.show()"
   ]
  },
  {
   "cell_type": "markdown",
   "metadata": {},
   "source": [
    "No of bathrooms above 4 are not contributing much, so we can remove them from the plot"
   ]
  },
  {
   "cell_type": "code",
   "execution_count": 10,
   "metadata": {
    "collapsed": false
   },
   "outputs": [
    {
     "name": "stderr",
     "output_type": "stream",
     "text": [
      "C:\\Users\\parth\\Anaconda3\\lib\\site-packages\\pandas\\core\\indexing.py:132: SettingWithCopyWarning: \n",
      "A value is trying to be set on a copy of a slice from a DataFrame\n",
      "\n",
      "See the caveats in the documentation: http://pandas.pydata.org/pandas-docs/stable/indexing.html#indexing-view-versus-copy\n",
      "  self._setitem_with_indexer(indexer, value)\n"
     ]
    },
    {
     "data": {
      "image/png": "[encoded data removed]",
      "text/plain": [
       "<matplotlib.figure.Figure at 0x1e71e729208>"
      ]
     },
     "metadata": {},
     "output_type": "display_data"
    }
   ],
   "source": [
    "#tempTrain_df= pd.DataFrame(train_df[['interest_level','bathrooms']])\n",
    "train_df['bathrooms'].ix[train_df['bathrooms']>3] = 4\n",
    "test_df['bathrooms'].ix[test_df['bathrooms']>3] = 4\n",
    "selectedFeatures.append('bathrooms')\n",
    "\n",
    "plt.figure(figsize=(8,6))\n",
    "sns.violinplot(x='interest_level', y='bathrooms',data=train_df)\n",
    "plt.show()"
   ]
  },
  {
   "cell_type": "markdown",
   "metadata": {},
   "source": [
    "From the above graph, we can see that all interst levels are equally distributed as per no of bathrooms."
   ]
  },
  {
   "cell_type": "markdown",
   "metadata": {},
   "source": [
    "# Analysis of Bedrooms"
   ]
  },
  {
   "cell_type": "code",
   "execution_count": 11,
   "metadata": {
    "collapsed": false
   },
   "outputs": [
    {
     "data": {
      "image/png": "[encoded data removed]",
      "text/plain": [
       "<matplotlib.figure.Figure at 0x1e71eb033c8>"
      ]
     },
     "metadata": {},
     "output_type": "display_data"
    }
   ],
   "source": [
    "bedRoomCount = train_df['bedrooms'].value_counts()\n",
    "\n",
    "plt.figure(figsize=(12,6))\n",
    "sns.barplot(bedRoomCount.index,bedRoomCount.values)\n",
    "plt.xlabel('No of bedrooms')\n",
    "plt.ylabel('Occurance of the no of bedrooms')\n",
    "\n",
    "plt.show()"
   ]
  },
  {
   "cell_type": "markdown",
   "metadata": {},
   "source": [
    "\n",
    "Most of the houses have 0 to 4 bedrooms with 1 and 2 houses being highest."
   ]
  },
  {
   "cell_type": "code",
   "execution_count": 12,
   "metadata": {
    "collapsed": false
   },
   "outputs": [
    {
     "name": "stderr",
     "output_type": "stream",
     "text": [
      "C:\\Users\\parth\\Anaconda3\\lib\\site-packages\\pandas\\core\\indexing.py:132: SettingWithCopyWarning: \n",
      "A value is trying to be set on a copy of a slice from a DataFrame\n",
      "\n",
      "See the caveats in the documentation: http://pandas.pydata.org/pandas-docs/stable/indexing.html#indexing-view-versus-copy\n",
      "  self._setitem_with_indexer(indexer, value)\n"
     ]
    },
    {
     "data": {
      "image/png": "[encoded data removed]",
      "text/plain": [
       "<matplotlib.figure.Figure at 0x1e71e6189e8>"
      ]
     },
     "metadata": {},
     "output_type": "display_data"
    }
   ],
   "source": [
    "#tempTrain_df= pd.DataFrame(train_df[['interest_level','bedrooms']])\n",
    "train_df['bedrooms'].ix[train_df['bedrooms']>3] = 4\n",
    "test_df['bedrooms'].ix[test_df['bedrooms']>3] = 4\n",
    "selectedFeatures.append('bedrooms')\n",
    "\n",
    "plt.figure(figsize=(8,6))\n",
    "sns.violinplot(x='interest_level', y='bedrooms',data=train_df)\n",
    "plt.show()"
   ]
  },
  {
   "cell_type": "markdown",
   "metadata": {
    "collapsed": true
   },
   "source": [
    "From above plot -> Low Interest is maximum in 1 Bedroom houses, followed by 2,0,3 and 4. Medium interest is max at 2 bedroom, followed by 1,0,3 and higher. Highest interest is maximun at 2, followed by 1,0,3 and higher. "
   ]
  },
  {
   "cell_type": "code",
   "execution_count": 13,
   "metadata": {
    "collapsed": false
   },
   "outputs": [
    {
     "data": {
      "image/png": "[encoded data removed]",
      "text/plain": [
       "<matplotlib.figure.Figure at 0x1e71dfda5f8>"
      ]
     },
     "metadata": {},
     "output_type": "display_data"
    }
   ],
   "source": [
    "plt.figure(figsize=(8,6))\n",
    "sns.countplot(x='bedrooms', hue='interest_level', data=train_df)##Count plot can be directly used for Category Variable\n",
    "plt.ylabel('Number of Occurrences')\n",
    "plt.xlabel('bedrooms')\n",
    "plt.show()"
   ]
  },
  {
   "cell_type": "markdown",
   "metadata": {},
   "source": [
    "Lets check the price variable."
   ]
  },
  {
   "cell_type": "code",
   "execution_count": 14,
   "metadata": {
    "collapsed": false
   },
   "outputs": [
    {
     "data": {
      "image/png": "[encoded data removed]",
      "text/plain": [
       "<matplotlib.figure.Figure at 0x1e71e66fc18>"
      ]
     },
     "metadata": {},
     "output_type": "display_data"
    }
   ],
   "source": [
    "sns.boxplot(x=\"interest_level\",y=\"price\",data=train_df)\n",
    "plt.show()"
   ]
  },
  {
   "cell_type": "markdown",
   "metadata": {},
   "source": [
    "Let us check the outlier."
   ]
  },
  {
   "cell_type": "markdown",
   "metadata": {},
   "source": [
    "The bar plot above shows there are outliers present in the case of Low interest level. We will remove the outlier which is beyond the 99% and assign that value the 99% value."
   ]
  },
  {
   "cell_type": "code",
   "execution_count": 15,
   "metadata": {
    "collapsed": false
   },
   "outputs": [
    {
     "name": "stderr",
     "output_type": "stream",
     "text": [
      "C:\\Users\\parth\\Anaconda3\\lib\\site-packages\\pandas\\core\\indexing.py:132: SettingWithCopyWarning: \n",
      "A value is trying to be set on a copy of a slice from a DataFrame\n",
      "\n",
      "See the caveats in the documentation: http://pandas.pydata.org/pandas-docs/stable/indexing.html#indexing-view-versus-copy\n",
      "  self._setitem_with_indexer(indexer, value)\n"
     ]
    },
    {
     "data": {
      "image/png": "[encoded data removed]",
      "text/plain": [
       "<matplotlib.figure.Figure at 0x1e71df19e48>"
      ]
     },
     "metadata": {},
     "output_type": "display_data"
    }
   ],
   "source": [
    "ulimit = np.percentile(train_df.price.values, 99)\n",
    "train_df['price'].ix[train_df['price']>ulimit] = ulimit\n",
    "\n",
    "ulimitTest = np.percentile(test_df.price.values, 99)\n",
    "test_df['price'].ix[test_df['price']>ulimitTest] = ulimitTest\n",
    "selectedFeatures.append('price')\n",
    "\n",
    "sns.boxplot(x=\"interest_level\",y=\"price\",data=train_df,order=('low','medium','high'))\n",
    "plt.show()"
   ]
  },
  {
   "cell_type": "code",
   "execution_count": 16,
   "metadata": {
    "collapsed": false
   },
   "outputs": [
    {
     "name": "stdout",
     "output_type": "stream",
     "text": [
      "count    49352.000000\n",
      "mean      3608.801001\n",
      "std       1848.993853\n",
      "min         43.000000\n",
      "25%       2500.000000\n",
      "50%       3150.000000\n",
      "75%       4100.000000\n",
      "max      13000.000000\n",
      "Name: price, dtype: float64\n"
     ]
    },
    {
     "data": {
      "image/png": "[encoded data removed]",
      "text/plain": [
       "<matplotlib.figure.Figure at 0x1e71e72d0b8>"
      ]
     },
     "metadata": {},
     "output_type": "display_data"
    }
   ],
   "source": [
    "print(train_df['price'].describe())\n",
    "price = np.array(train_df['price'])\n",
    "plt.hist(price,bins=64,range=(0,train_df['price'].describe()[-1]),normed=True,color='red',alpha=0.4)\n",
    "plt.show()"
   ]
  },
  {
   "cell_type": "markdown",
   "metadata": {},
   "source": [
    "Prices are right skewed."
   ]
  },
  {
   "cell_type": "code",
   "execution_count": 17,
   "metadata": {
    "collapsed": false
   },
   "outputs": [
    {
     "data": {
      "text/plain": [
       "\"\\nplt.figure(figsize=(8,6))\\nplt.hist(low, bins=64, normed=True, color='red', alpha=0.4,label='low')\\nplt.hist(medium, bins=64, normed=True, color='blue', alpha=0.4,label='medium')\\nplt.hist(high, bins=64, normed=True, color='green', alpha=0.4,label='high')\\n\\nplt.legend(loc='upper right')\\n# Display the plot\\nplt.show()\\n\""
      ]
     },
     "execution_count": 17,
     "metadata": {},
     "output_type": "execute_result"
    }
   ],
   "source": [
    "low = train_df.groupby(['interest_level']).get_group('low')['price']\n",
    "medium = train_df.groupby(['interest_level']).get_group('medium')['price']\n",
    "high = train_df.groupby(['interest_level']).get_group('high')['price']\n",
    "\n",
    "'''\n",
    "plt.figure(figsize=(8,6))\n",
    "plt.hist(low, bins=64, normed=True, color='red', alpha=0.4,label='low')\n",
    "plt.hist(medium, bins=64, normed=True, color='blue', alpha=0.4,label='medium')\n",
    "plt.hist(high, bins=64, normed=True, color='green', alpha=0.4,label='high')\n",
    "\n",
    "plt.legend(loc='upper right')\n",
    "# Display the plot\n",
    "plt.show()\n",
    "'''"
   ]
  },
  {
   "cell_type": "code",
   "execution_count": 18,
   "metadata": {
    "collapsed": false
   },
   "outputs": [
    {
     "data": {
      "text/plain": [
       "\"\\nfrom mpl_toolkits.basemap import Basemap\\nfrom matplotlib import cm\\n\\nwest, south, east, north = -74.02, 40.64, -73.85, 40.86\\n\\nfig = plt.figure(figsize=(14,10))\\nax = fig.add_subplot(111)\\nm = Basemap(projection='merc', llcrnrlat=south, urcrnrlat=north,\\n            llcrnrlon=west, urcrnrlon=east, lat_ts=south, resolution='l')\\nx, y = m(train_df['longitude'].values, train_df['latitude'].values)\\nm.hexbin(x, y, gridsize=200,\\n         bins='log', cmap=cm.YlOrRd_r)\\n#m.bluemarble()\\nplt.show()\\n\""
      ]
     },
     "execution_count": 18,
     "metadata": {},
     "output_type": "execute_result"
    }
   ],
   "source": [
    "##Not working- May be for next time\n",
    "'''\n",
    "from mpl_toolkits.basemap import Basemap\n",
    "from matplotlib import cm\n",
    "\n",
    "west, south, east, north = -74.02, 40.64, -73.85, 40.86\n",
    "\n",
    "fig = plt.figure(figsize=(14,10))\n",
    "ax = fig.add_subplot(111)\n",
    "m = Basemap(projection='merc', llcrnrlat=south, urcrnrlat=north,\n",
    "            llcrnrlon=west, urcrnrlon=east, lat_ts=south, resolution='l')\n",
    "x, y = m(train_df['longitude'].values, train_df['latitude'].values)\n",
    "m.hexbin(x, y, gridsize=200,\n",
    "         bins='log', cmap=cm.YlOrRd_r)\n",
    "#m.bluemarble()\n",
    "plt.show()\n",
    "'''"
   ]
  },
  {
   "cell_type": "code",
   "execution_count": 19,
   "metadata": {
    "collapsed": false
   },
   "outputs": [
    {
     "data": {
      "image/png": "[encoded data removed]",
      "text/plain": [
       "<matplotlib.figure.Figure at 0x1e71df7fe48>"
      ]
     },
     "metadata": {},
     "output_type": "display_data"
    }
   ],
   "source": [
    "train_df[\"created\"] = pd.to_datetime(train_df[\"created\"])\n",
    "train_df[\"date_created\"] = train_df[\"created\"].dt.date\n",
    "cnt_srs = train_df['date_created'].value_counts()\n",
    "\n",
    "test_df[\"created\"] = pd.to_datetime(test_df[\"created\"])\n",
    "test_df[\"date_created\"] = test_df[\"created\"].dt.date\n",
    "#selectedFeatures.append('date_created') \n",
    "##Date parameter will not work with Classifier. So, need to divide the date to year, month and date. \n",
    "##However, as Year is same for all - 2016, we will keep only month and Date.\n",
    "\n",
    "plt.figure(figsize=(12,4))\n",
    "ax = plt.subplot(111)\n",
    "ax.bar(cnt_srs.index, cnt_srs.values, alpha=0.8)\n",
    "ax.xaxis_date()\n",
    "plt.xticks(rotation='vertical')\n",
    "plt.show()"
   ]
  },
  {
   "cell_type": "markdown",
   "metadata": {},
   "source": [
    "All the posts are between Apr to Jun 2016."
   ]
  },
  {
   "cell_type": "code",
   "execution_count": 20,
   "metadata": {
    "collapsed": true
   },
   "outputs": [],
   "source": [
    "train_df[\"month_created\"] = train_df[\"created\"].dt.month\n",
    "train_df[\"day_created\"] = train_df[\"created\"].dt.day\n",
    "\n",
    "test_df[\"month_created\"] = test_df[\"created\"].dt.month\n",
    "test_df[\"day_created\"] = test_df[\"created\"].dt.day\n",
    "\n",
    "#selectedFeatures.remove('date_created')\n",
    "selectedFeatures.append('month_created')\n",
    "selectedFeatures.append('day_created')"
   ]
  },
  {
   "cell_type": "code",
   "execution_count": 21,
   "metadata": {
    "collapsed": false
   },
   "outputs": [
    {
     "data": {
      "image/png": "[encoded data removed]",
      "text/plain": [
       "<matplotlib.figure.Figure at 0x1e71e663128>"
      ]
     },
     "metadata": {},
     "output_type": "display_data"
    }
   ],
   "source": [
    "train_df[\"hour_created\"] = train_df[\"created\"].dt.hour\n",
    "cnt_srs = train_df['hour_created'].value_counts()\n",
    "\n",
    "test_df[\"hour_created\"] = test_df[\"created\"].dt.hour\n",
    "selectedFeatures.append('hour_created')\n",
    "\n",
    "plt.figure(figsize=(12,6))\n",
    "sns.barplot(cnt_srs.index, cnt_srs.values, alpha=0.8)\n",
    "plt.xticks(rotation='vertical')\n",
    "plt.show()"
   ]
  },
  {
   "cell_type": "markdown",
   "metadata": {},
   "source": [
    "Most of the posts have been made between 1 AM to 7 AM that is early morning."
   ]
  },
  {
   "cell_type": "markdown",
   "metadata": {},
   "source": [
    "Lets check the number of features."
   ]
  },
  {
   "cell_type": "code",
   "execution_count": 22,
   "metadata": {
    "collapsed": false
   },
   "outputs": [
    {
     "data": {
      "image/png": "[encoded data removed]",
      "text/plain": [
       "<matplotlib.figure.Figure at 0x1e71ea34ba8>"
      ]
     },
     "metadata": {},
     "output_type": "display_data"
    }
   ],
   "source": [
    "train_df[\"noofFeatures\"] = train_df[\"features\"].apply(len)\n",
    "countOfFeatures = train_df[\"noofFeatures\"].value_counts()\n",
    "\n",
    "test_df[\"noofFeatures\"] = test_df[\"features\"].apply(len)\n",
    "selectedFeatures.append('noofFeatures')\n",
    "\n",
    "plt.figure(figsize=(8,6))\n",
    "sns.barplot(countOfFeatures.index, countOfFeatures.values, alpha=0.8)\n",
    "plt.xticks(rotation='vertical')\n",
    "plt.show()"
   ]
  },
  {
   "cell_type": "code",
   "execution_count": 23,
   "metadata": {
    "collapsed": false
   },
   "outputs": [
    {
     "name": "stderr",
     "output_type": "stream",
     "text": [
      "C:\\Users\\parth\\Anaconda3\\lib\\site-packages\\pandas\\core\\indexing.py:132: SettingWithCopyWarning: \n",
      "A value is trying to be set on a copy of a slice from a DataFrame\n",
      "\n",
      "See the caveats in the documentation: http://pandas.pydata.org/pandas-docs/stable/indexing.html#indexing-view-versus-copy\n",
      "  self._setitem_with_indexer(indexer, value)\n"
     ]
    },
    {
     "data": {
      "image/png": "[encoded data removed]",
      "text/plain": [
       "<matplotlib.figure.Figure at 0x1e71e902e48>"
      ]
     },
     "metadata": {},
     "output_type": "display_data"
    }
   ],
   "source": [
    "train_df['noofFeatures'].ix[train_df['noofFeatures']>17] = 17\n",
    "test_df['noofFeatures'].ix[test_df['noofFeatures']>17] = 17\n",
    "\n",
    "plt.figure(figsize=(8,6))\n",
    "sns.violinplot(x='interest_level', y='noofFeatures',data=train_df,order=('low','medium','high'))\n",
    "plt.show()"
   ]
  },
  {
   "cell_type": "markdown",
   "metadata": {},
   "source": [
    "The graphs look similar for all 3 interest levels."
   ]
  },
  {
   "cell_type": "code",
   "execution_count": 24,
   "metadata": {
    "collapsed": true
   },
   "outputs": [],
   "source": [
    "train_df[\"noOfDescWords\"] = train_df[\"description\"].apply(lambda x: len(x.split(\" \")))\n",
    "test_df[\"noOfDescWords\"] = test_df[\"description\"].apply(lambda x: len(x.split(\" \")))\n",
    "\n",
    "selectedFeatures.append('noOfDescWords')"
   ]
  },
  {
   "cell_type": "code",
   "execution_count": 25,
   "metadata": {
    "collapsed": false
   },
   "outputs": [
    {
     "data": {
      "text/plain": [
       "['bathrooms',\n",
       " 'bedrooms',\n",
       " 'price',\n",
       " 'month_created',\n",
       " 'day_created',\n",
       " 'hour_created',\n",
       " 'noofFeatures',\n",
       " 'noOfDescWords']"
      ]
     },
     "execution_count": 25,
     "metadata": {},
     "output_type": "execute_result"
    }
   ],
   "source": [
    "#del selectedFeatures[-1]\n",
    "selectedFeatures"
   ]
  },
  {
   "cell_type": "code",
   "execution_count": 26,
   "metadata": {
    "collapsed": false
   },
   "outputs": [
    {
     "name": "stderr",
     "output_type": "stream",
     "text": [
      "C:\\Users\\parth\\Anaconda3\\lib\\site-packages\\pandas\\core\\indexing.py:132: SettingWithCopyWarning: \n",
      "A value is trying to be set on a copy of a slice from a DataFrame\n",
      "\n",
      "See the caveats in the documentation: http://pandas.pydata.org/pandas-docs/stable/indexing.html#indexing-view-versus-copy\n",
      "  self._setitem_with_indexer(indexer, value)\n"
     ]
    },
    {
     "data": {
      "image/png": "[encoded data removed]",
      "text/plain": [
       "<matplotlib.figure.Figure at 0x1e71df29358>"
      ]
     },
     "metadata": {},
     "output_type": "display_data"
    }
   ],
   "source": [
    "llimit = np.percentile(train_df.latitude.values, 1)\n",
    "ulimit = np.percentile(train_df.latitude.values, 99)\n",
    "train_df['latitude'].ix[train_df['latitude']<llimit] = llimit\n",
    "train_df['latitude'].ix[train_df['latitude']>ulimit] = ulimit\n",
    "\n",
    "llimit = np.percentile(test_df.latitude.values, 1)\n",
    "ulimit = np.percentile(test_df.latitude.values, 99)\n",
    "test_df['latitude'].ix[test_df['latitude']<llimit] = llimit\n",
    "test_df['latitude'].ix[test_df['latitude']>ulimit] = ulimit\n",
    "\n",
    "selectedFeatures.append('latitude')\n",
    "\n",
    "plt.figure(figsize=(8,6))\n",
    "sns.distplot(train_df.latitude.values, bins=50, kde=False)\n",
    "plt.xlabel('latitude', fontsize=12)\n",
    "plt.show()"
   ]
  },
  {
   "cell_type": "markdown",
   "metadata": {},
   "source": [
    "Longitude vary from 40.64 to 40.86"
   ]
  },
  {
   "cell_type": "code",
   "execution_count": 27,
   "metadata": {
    "collapsed": false
   },
   "outputs": [
    {
     "name": "stderr",
     "output_type": "stream",
     "text": [
      "C:\\Users\\parth\\Anaconda3\\lib\\site-packages\\pandas\\core\\indexing.py:132: SettingWithCopyWarning: \n",
      "A value is trying to be set on a copy of a slice from a DataFrame\n",
      "\n",
      "See the caveats in the documentation: http://pandas.pydata.org/pandas-docs/stable/indexing.html#indexing-view-versus-copy\n",
      "  self._setitem_with_indexer(indexer, value)\n"
     ]
    },
    {
     "data": {
      "image/png": "[encoded data removed]",
      "text/plain": [
       "<matplotlib.figure.Figure at 0x1e71eacc5f8>"
      ]
     },
     "metadata": {},
     "output_type": "display_data"
    }
   ],
   "source": [
    "llimit = np.percentile(train_df.longitude.values, 1)\n",
    "ulimit = np.percentile(train_df.longitude.values, 99)\n",
    "train_df['longitude'].ix[train_df['longitude']<llimit] = llimit\n",
    "train_df['longitude'].ix[train_df['longitude']>ulimit] = ulimit\n",
    "\n",
    "llimit = np.percentile(test_df.longitude.values, 1)\n",
    "ulimit = np.percentile(test_df.longitude.values, 99)\n",
    "test_df['longitude'].ix[test_df['longitude']<llimit] = llimit\n",
    "test_df['longitude'].ix[test_df['longitude']>ulimit] = ulimit\n",
    "\n",
    "selectedFeatures.append('longitude')\n",
    "\n",
    "plt.figure(figsize=(8,6))\n",
    "sns.distplot(train_df.longitude.values, bins=50, kde=False)\n",
    "plt.xlabel('longitude', fontsize=12)\n",
    "plt.show()"
   ]
  },
  {
   "cell_type": "markdown",
   "metadata": {},
   "source": [
    "Longitude is right skewed with values ranging from -74.02 to -73.86"
   ]
  },
  {
   "cell_type": "code",
   "execution_count": 28,
   "metadata": {
    "collapsed": false
   },
   "outputs": [
    {
     "data": {
      "image/png": "[encoded data removed]",
      "text/plain": [
       "<matplotlib.figure.Figure at 0x1e71ea4ff28>"
      ]
     },
     "metadata": {},
     "output_type": "display_data"
    }
   ],
   "source": [
    "## No Of Photos\n",
    "train_df[\"noofPhotos\"] = train_df[\"photos\"].apply(len)\n",
    "countOfPhotos = train_df[\"noofPhotos\"].value_counts()\n",
    "\n",
    "test_df[\"noofPhotos\"] = test_df[\"photos\"].apply(len)\n",
    "#selectedFeatures.append('noofFeatures')\n",
    "\n",
    "plt.figure(figsize=(8,6))\n",
    "sns.barplot(countOfPhotos.index, countOfPhotos.values, alpha=0.8)\n",
    "plt.xticks(rotation='vertical')\n",
    "plt.show()"
   ]
  },
  {
   "cell_type": "code",
   "execution_count": 29,
   "metadata": {
    "collapsed": false
   },
   "outputs": [
    {
     "name": "stderr",
     "output_type": "stream",
     "text": [
      "C:\\Users\\parth\\Anaconda3\\lib\\site-packages\\pandas\\core\\indexing.py:132: SettingWithCopyWarning: \n",
      "A value is trying to be set on a copy of a slice from a DataFrame\n",
      "\n",
      "See the caveats in the documentation: http://pandas.pydata.org/pandas-docs/stable/indexing.html#indexing-view-versus-copy\n",
      "  self._setitem_with_indexer(indexer, value)\n"
     ]
    },
    {
     "data": {
      "image/png": "[encoded data removed]",
      "text/plain": [
       "<matplotlib.figure.Figure at 0x1e71dfcb828>"
      ]
     },
     "metadata": {},
     "output_type": "display_data"
    }
   ],
   "source": [
    "##Most of the photos are inside 20 range. Let's remove beyond 20 and make them 20.\n",
    "train_df[\"noofPhotos\"].ix[train_df[\"noofPhotos\"]>20] = 20\n",
    "test_df[\"noofPhotos\"].ix[test_df[\"noofPhotos\"]>20] = 20\n",
    "\n",
    "selectedFeatures.append('noofPhotos')\n",
    "\n",
    "countOfPhotos = train_df[\"noofPhotos\"].value_counts()\n",
    "\n",
    "plt.figure(figsize=(8,6))\n",
    "sns.barplot(countOfPhotos.index, countOfPhotos.values, alpha=0.8)\n",
    "plt.xticks(rotation='vertical')\n",
    "plt.show()"
   ]
  },
  {
   "cell_type": "code",
   "execution_count": 30,
   "metadata": {
    "collapsed": false
   },
   "outputs": [
    {
     "data": {
      "image/png": "[encoded data removed]",
      "text/plain": [
       "<matplotlib.figure.Figure at 0x1e71ea910b8>"
      ]
     },
     "metadata": {},
     "output_type": "display_data"
    }
   ],
   "source": [
    "sns.violinplot(x='noofPhotos', y='interest_level',data=train_df,order=('low','medium','high'))\n",
    "plt.show()"
   ]
  },
  {
   "cell_type": "markdown",
   "metadata": {},
   "source": [
    "The three levels almost look similar. However, 5 pictures seem to attract more number of people to the post."
   ]
  },
  {
   "cell_type": "code",
   "execution_count": 31,
   "metadata": {
    "collapsed": false
   },
   "outputs": [
    {
     "data": {
      "text/plain": [
       "'\\nfrom wordcloud import WordCloud\\n\\ntext = \\'\\'\\ntext_da = \\'\\'\\ntext_desc = \\'\\'\\nfor ind, row in train_df.iterrows():\\n    for feature in row[\\'features\\']:\\n        text = \" \".join([text, \"_\".join(feature.strip().split(\" \"))])\\n    text_da = \" \".join([text_da,\"_\".join(row[\\'display_address\\'].strip().split(\" \"))])\\n    #text_desc = \" \".join([text_desc, row[\\'description\\']])\\ntext = text.strip()\\ntext_da = text_da.strip()\\ntext_desc = text_desc.strip()\\n\\nplt.figure(figsize=(12,6))\\nwordcloud = WordCloud(background_color=\\'white\\', width=600, height=300, max_font_size=50, max_words=40).generate(text)\\nwordcloud.recolor(random_state=0)\\nplt.imshow(wordcloud)\\nplt.title(\"Wordcloud for features\", fontsize=30)\\nplt.axis(\"off\")\\nplt.show()\\n\\n# wordcloud for display address\\nplt.figure(figsize=(12,6))\\nwordcloud = WordCloud(background_color=\\'white\\', width=600, height=300, max_font_size=50, max_words=40).generate(text_da)\\nwordcloud.recolor(random_state=0)\\nplt.imshow(wordcloud)\\nplt.title(\"Wordcloud for Display Address\", fontsize=30)\\nplt.axis(\"off\")\\nplt.show()\\n'"
      ]
     },
     "execution_count": 31,
     "metadata": {},
     "output_type": "execute_result"
    }
   ],
   "source": [
    "'''\n",
    "from wordcloud import WordCloud\n",
    "\n",
    "text = ''\n",
    "text_da = ''\n",
    "text_desc = ''\n",
    "for ind, row in train_df.iterrows():\n",
    "    for feature in row['features']:\n",
    "        text = \" \".join([text, \"_\".join(feature.strip().split(\" \"))])\n",
    "    text_da = \" \".join([text_da,\"_\".join(row['display_address'].strip().split(\" \"))])\n",
    "    #text_desc = \" \".join([text_desc, row['description']])\n",
    "text = text.strip()\n",
    "text_da = text_da.strip()\n",
    "text_desc = text_desc.strip()\n",
    "\n",
    "plt.figure(figsize=(12,6))\n",
    "wordcloud = WordCloud(background_color='white', width=600, height=300, max_font_size=50, max_words=40).generate(text)\n",
    "wordcloud.recolor(random_state=0)\n",
    "plt.imshow(wordcloud)\n",
    "plt.title(\"Wordcloud for features\", fontsize=30)\n",
    "plt.axis(\"off\")\n",
    "plt.show()\n",
    "\n",
    "# wordcloud for display address\n",
    "plt.figure(figsize=(12,6))\n",
    "wordcloud = WordCloud(background_color='white', width=600, height=300, max_font_size=50, max_words=40).generate(text_da)\n",
    "wordcloud.recolor(random_state=0)\n",
    "plt.imshow(wordcloud)\n",
    "plt.title(\"Wordcloud for Display Address\", fontsize=30)\n",
    "plt.axis(\"off\")\n",
    "plt.show()\n",
    "'''"
   ]
  },
  {
   "cell_type": "code",
   "execution_count": 32,
   "metadata": {
    "collapsed": false
   },
   "outputs": [
    {
     "name": "stdout",
     "output_type": "stream",
     "text": [
      "['bathrooms', 'bedrooms', 'price', 'month_created', 'day_created', 'hour_created', 'noofFeatures', 'noOfDescWords', 'latitude', 'longitude', 'noofPhotos', 'manager_id']\n"
     ]
    }
   ],
   "source": [
    "from sklearn import preprocessing\n",
    "\n",
    "lbl = preprocessing.LabelEncoder()\n",
    "lbl.fit(list(train_df['manager_id'].values))\n",
    "train_df['manager_id'] = lbl.transform(list(train_df['manager_id'].values))\n",
    "\n",
    "lbl.fit(list(test_df['manager_id'].values))\n",
    "test_df['manager_id'] = lbl.transform(list(test_df['manager_id'].values))\n",
    "\n",
    "selectedFeatures.append('manager_id')\n",
    "print(selectedFeatures)"
   ]
  },
  {
   "cell_type": "code",
   "execution_count": 33,
   "metadata": {
    "collapsed": false
   },
   "outputs": [
    {
     "name": "stdout",
     "output_type": "stream",
     "text": [
      "10        1239\n",
      "10000     1583\n",
      "100004    2965\n",
      "100007     225\n",
      "100013    2081\n",
      "Name: manager_id, dtype: int64\n"
     ]
    }
   ],
   "source": [
    "print(train_df['manager_id'].head())"
   ]
  },
  {
   "cell_type": "code",
   "execution_count": 34,
   "metadata": {
    "collapsed": false
   },
   "outputs": [
    {
     "name": "stdout",
     "output_type": "stream",
     "text": [
      "0         2694\n",
      "1         3145\n",
      "100       2346\n",
      "1000       179\n",
      "100000    2764\n",
      "Name: manager_id, dtype: int64\n"
     ]
    }
   ],
   "source": [
    "print(test_df['manager_id'].head())"
   ]
  },
  {
   "cell_type": "code",
   "execution_count": 35,
   "metadata": {
    "collapsed": false
   },
   "outputs": [
    {
     "name": "stderr",
     "output_type": "stream",
     "text": [
      "C:\\Users\\parth\\Anaconda3\\lib\\site-packages\\sklearn\\cross_validation.py:44: DeprecationWarning: This module was deprecated in version 0.18 in favor of the model_selection module into which all the refactored classes and functions are moved. Also note that the interface of the new CV iterators are different from that of this module. This module will be removed in 0.20.\n",
      "  \"This module will be removed in 0.20.\", DeprecationWarning)\n"
     ]
    }
   ],
   "source": [
    "from sklearn import preprocessing\n",
    "from sklearn.ensemble import RandomForestClassifier\n",
    "from sklearn.cross_validation import train_test_split\n",
    "from sklearn.metrics import log_loss\n",
    "X = train_df[selectedFeatures]\n",
    "y = train_df[\"interest_level\"]\n",
    "X_train, X_val, y_train, y_val = train_test_split(X, y, test_size=0.33)\n",
    "\n",
    "X_test = test_df[selectedFeatures]"
   ]
  },
  {
   "cell_type": "code",
   "execution_count": 36,
   "metadata": {
    "collapsed": false
   },
   "outputs": [
    {
     "data": {
      "text/plain": [
       "9882      313\n",
       "71698     457\n",
       "18641     762\n",
       "21373    2523\n",
       "8801      586\n",
       "Name: manager_id, dtype: int64"
      ]
     },
     "execution_count": 36,
     "metadata": {},
     "output_type": "execute_result"
    }
   ],
   "source": [
    "X_train['manager_id'].head()"
   ]
  },
  {
   "cell_type": "code",
   "execution_count": 37,
   "metadata": {
    "collapsed": false
   },
   "outputs": [
    {
     "name": "stdout",
     "output_type": "stream",
     "text": [
      "            high_frac  low_frac  medium_frac  count\n",
      "manager_id                                         \n",
      "3468         0.000000  0.454545     0.545455     11\n",
      "3469         0.000000  0.666667     0.333333      3\n",
      "3470         0.000000  0.000000     1.000000      1\n",
      "3471         0.000000  1.000000     0.000000      1\n",
      "3472         0.500000  0.500000     0.000000      2\n",
      "3475         0.200000  0.600000     0.200000      5\n",
      "3476         0.000000  1.000000     0.000000      1\n",
      "3477         0.000000  1.000000     0.000000      5\n",
      "3479         0.166667  0.666667     0.166667      6\n",
      "3480         0.038462  0.717949     0.243590     78\n"
     ]
    }
   ],
   "source": [
    "temp = pd.concat([X_train.manager_id,pd.get_dummies(y_train)], axis = 1).groupby('manager_id').mean()\n",
    "temp.columns = ['high_frac','low_frac', 'medium_frac']\n",
    "temp['count'] = X_train.groupby('manager_id').count().iloc[:,1]\n",
    "\n",
    "# remember the manager_ids look different because we encoded them in the previous step \n",
    "print(temp.tail(10))"
   ]
  },
  {
   "cell_type": "code",
   "execution_count": 38,
   "metadata": {
    "collapsed": false
   },
   "outputs": [
    {
     "name": "stdout",
     "output_type": "stream",
     "text": [
      "3094\n",
      "49352\n"
     ]
    }
   ],
   "source": [
    "print(len(temp))\n",
    "print(len(train_df))"
   ]
  },
  {
   "cell_type": "code",
   "execution_count": 39,
   "metadata": {
    "collapsed": false
   },
   "outputs": [
    {
     "name": "stdout",
     "output_type": "stream",
     "text": [
      "count    3094.000000\n",
      "mean       10.686813\n",
      "std        37.827093\n",
      "min         1.000000\n",
      "25%         1.000000\n",
      "50%         3.000000\n",
      "75%        10.000000\n",
      "max      1715.000000\n",
      "Name: count, dtype: float64\n"
     ]
    },
    {
     "data": {
      "image/png": "[encoded data removed]",
      "text/plain": [
       "<matplotlib.figure.Figure at 0x1e71e65d048>"
      ]
     },
     "metadata": {},
     "output_type": "display_data"
    }
   ],
   "source": [
    "countOfCounts = temp[\"count\"].value_counts()\n",
    "print(temp[\"count\"].describe())\n",
    "\n",
    "plt.figure(figsize=(8,6))\n",
    "sns.barplot(countOfCounts.index, countOfCounts.values, alpha=0.8)\n",
    "plt.xticks(rotation='vertical')\n",
    "plt.show()"
   ]
  },
  {
   "cell_type": "code",
   "execution_count": 40,
   "metadata": {
    "collapsed": false
   },
   "outputs": [],
   "source": [
    "# compute skill\n",
    "temp['manager_skill'] = temp['high_frac']*2 + temp['medium_frac']\n",
    "\n",
    "# get ixes for unranked managers...\n",
    "unranked_managers_ixes = temp['count']<10\n",
    "# ... and ranked ones\n",
    "ranked_managers_ixes = ~unranked_managers_ixes\n",
    "\n",
    "#print(unranked_managers_ixes)\n",
    "#print(ranked_managers_ixes)"
   ]
  },
  {
   "cell_type": "code",
   "execution_count": 41,
   "metadata": {
    "collapsed": false
   },
   "outputs": [
    {
     "name": "stdout",
     "output_type": "stream",
     "text": [
      "high_frac        0.079043\n",
      "low_frac         0.683573\n",
      "medium_frac      0.237385\n",
      "manager_skill    0.395470\n",
      "dtype: float64\n",
      "            high_frac  low_frac  medium_frac  count  manager_skill\n",
      "manager_id                                                        \n",
      "3468         0.000000  0.454545     0.545455     11       0.545455\n",
      "3469         0.079043  0.683573     0.237385      3       0.395470\n",
      "3470         0.079043  0.683573     0.237385      1       0.395470\n",
      "3471         0.079043  0.683573     0.237385      1       0.395470\n",
      "3472         0.079043  0.683573     0.237385      2       0.395470\n",
      "3475         0.079043  0.683573     0.237385      5       0.395470\n",
      "3476         0.079043  0.683573     0.237385      1       0.395470\n",
      "3477         0.079043  0.683573     0.237385      5       0.395470\n",
      "3479         0.079043  0.683573     0.237385      6       0.395470\n",
      "3480         0.038462  0.717949     0.243590     78       0.320513\n"
     ]
    }
   ],
   "source": [
    "# compute mean values from ranked managers and assign them to unranked ones\n",
    "mean_values = temp.loc[ranked_managers_ixes, ['high_frac','low_frac', 'medium_frac','manager_skill']].mean()\n",
    "print(mean_values)\n",
    "temp.loc[unranked_managers_ixes,['high_frac','low_frac', 'medium_frac','manager_skill']] = mean_values.values\n",
    "print(temp.tail(10))"
   ]
  },
  {
   "cell_type": "code",
   "execution_count": 42,
   "metadata": {
    "collapsed": false
   },
   "outputs": [
    {
     "data": {
      "text/html": [
       "<div>\n",
       "<table border=\"1\" class=\"dataframe\">\n",
       "  <thead>\n",
       "    <tr style=\"text-align: right;\">\n",
       "      <th></th>\n",
       "      <th>bathrooms</th>\n",
       "      <th>bedrooms</th>\n",
       "      <th>price</th>\n",
       "      <th>month_created</th>\n",
       "      <th>day_created</th>\n",
       "      <th>hour_created</th>\n",
       "      <th>noofFeatures</th>\n",
       "      <th>noOfDescWords</th>\n",
       "      <th>latitude</th>\n",
       "      <th>longitude</th>\n",
       "      <th>noofPhotos</th>\n",
       "      <th>manager_id</th>\n",
       "      <th>high_frac</th>\n",
       "      <th>low_frac</th>\n",
       "      <th>medium_frac</th>\n",
       "      <th>count</th>\n",
       "      <th>manager_skill</th>\n",
       "    </tr>\n",
       "  </thead>\n",
       "  <tbody>\n",
       "    <tr>\n",
       "      <th>0</th>\n",
       "      <td>2.0</td>\n",
       "      <td>4</td>\n",
       "      <td>12000.0</td>\n",
       "      <td>6</td>\n",
       "      <td>7</td>\n",
       "      <td>2</td>\n",
       "      <td>5</td>\n",
       "      <td>164</td>\n",
       "      <td>40.7328</td>\n",
       "      <td>-73.9850</td>\n",
       "      <td>3</td>\n",
       "      <td>313</td>\n",
       "      <td>0.079043</td>\n",
       "      <td>0.683573</td>\n",
       "      <td>0.237385</td>\n",
       "      <td>6</td>\n",
       "      <td>0.395470</td>\n",
       "    </tr>\n",
       "    <tr>\n",
       "      <th>1</th>\n",
       "      <td>1.0</td>\n",
       "      <td>3</td>\n",
       "      <td>3995.0</td>\n",
       "      <td>5</td>\n",
       "      <td>20</td>\n",
       "      <td>6</td>\n",
       "      <td>9</td>\n",
       "      <td>71</td>\n",
       "      <td>40.7319</td>\n",
       "      <td>-73.9817</td>\n",
       "      <td>5</td>\n",
       "      <td>457</td>\n",
       "      <td>0.215054</td>\n",
       "      <td>0.360215</td>\n",
       "      <td>0.424731</td>\n",
       "      <td>186</td>\n",
       "      <td>0.854839</td>\n",
       "    </tr>\n",
       "    <tr>\n",
       "      <th>2</th>\n",
       "      <td>1.0</td>\n",
       "      <td>0</td>\n",
       "      <td>1875.0</td>\n",
       "      <td>6</td>\n",
       "      <td>5</td>\n",
       "      <td>20</td>\n",
       "      <td>0</td>\n",
       "      <td>60</td>\n",
       "      <td>40.7311</td>\n",
       "      <td>-73.9896</td>\n",
       "      <td>6</td>\n",
       "      <td>762</td>\n",
       "      <td>0.227273</td>\n",
       "      <td>0.590909</td>\n",
       "      <td>0.181818</td>\n",
       "      <td>22</td>\n",
       "      <td>0.636364</td>\n",
       "    </tr>\n",
       "    <tr>\n",
       "      <th>3</th>\n",
       "      <td>1.0</td>\n",
       "      <td>2</td>\n",
       "      <td>3400.0</td>\n",
       "      <td>6</td>\n",
       "      <td>4</td>\n",
       "      <td>5</td>\n",
       "      <td>7</td>\n",
       "      <td>112</td>\n",
       "      <td>40.7637</td>\n",
       "      <td>-73.9938</td>\n",
       "      <td>4</td>\n",
       "      <td>2523</td>\n",
       "      <td>0.206897</td>\n",
       "      <td>0.413793</td>\n",
       "      <td>0.379310</td>\n",
       "      <td>29</td>\n",
       "      <td>0.793103</td>\n",
       "    </tr>\n",
       "    <tr>\n",
       "      <th>4</th>\n",
       "      <td>1.0</td>\n",
       "      <td>3</td>\n",
       "      <td>4782.0</td>\n",
       "      <td>6</td>\n",
       "      <td>16</td>\n",
       "      <td>8</td>\n",
       "      <td>6</td>\n",
       "      <td>68</td>\n",
       "      <td>40.7513</td>\n",
       "      <td>-73.9721</td>\n",
       "      <td>4</td>\n",
       "      <td>586</td>\n",
       "      <td>0.013514</td>\n",
       "      <td>0.581081</td>\n",
       "      <td>0.405405</td>\n",
       "      <td>74</td>\n",
       "      <td>0.432432</td>\n",
       "    </tr>\n",
       "  </tbody>\n",
       "</table>\n",
       "</div>"
      ],
      "text/plain": [
       "   bathrooms  bedrooms    price  month_created  day_created  hour_created  \\\n",
       "0        2.0         4  12000.0              6            7             2   \n",
       "1        1.0         3   3995.0              5           20             6   \n",
       "2        1.0         0   1875.0              6            5            20   \n",
       "3        1.0         2   3400.0              6            4             5   \n",
       "4        1.0         3   4782.0              6           16             8   \n",
       "\n",
       "   noofFeatures  noOfDescWords  latitude  longitude  noofPhotos  manager_id  \\\n",
       "0             5            164   40.7328   -73.9850           3         313   \n",
       "1             9             71   40.7319   -73.9817           5         457   \n",
       "2             0             60   40.7311   -73.9896           6         762   \n",
       "3             7            112   40.7637   -73.9938           4        2523   \n",
       "4             6             68   40.7513   -73.9721           4         586   \n",
       "\n",
       "   high_frac  low_frac  medium_frac  count  manager_skill  \n",
       "0   0.079043  0.683573     0.237385      6       0.395470  \n",
       "1   0.215054  0.360215     0.424731    186       0.854839  \n",
       "2   0.227273  0.590909     0.181818     22       0.636364  \n",
       "3   0.206897  0.413793     0.379310     29       0.793103  \n",
       "4   0.013514  0.581081     0.405405     74       0.432432  "
      ]
     },
     "execution_count": 42,
     "metadata": {},
     "output_type": "execute_result"
    }
   ],
   "source": [
    "# left join to assign manager features to the managers in the training dataframe\n",
    "X_train = X_train.merge(temp.reset_index(),how='left', left_on='manager_id', right_on='manager_id')\n",
    "X_train.head()"
   ]
  },
  {
   "cell_type": "code",
   "execution_count": 43,
   "metadata": {
    "collapsed": false
   },
   "outputs": [
    {
     "data": {
      "text/html": [
       "<div>\n",
       "<table border=\"1\" class=\"dataframe\">\n",
       "  <thead>\n",
       "    <tr style=\"text-align: right;\">\n",
       "      <th></th>\n",
       "      <th>bathrooms</th>\n",
       "      <th>bedrooms</th>\n",
       "      <th>price</th>\n",
       "      <th>month_created</th>\n",
       "      <th>day_created</th>\n",
       "      <th>hour_created</th>\n",
       "      <th>noofFeatures</th>\n",
       "      <th>noOfDescWords</th>\n",
       "      <th>latitude</th>\n",
       "      <th>longitude</th>\n",
       "      <th>noofPhotos</th>\n",
       "      <th>manager_id</th>\n",
       "      <th>high_frac</th>\n",
       "      <th>low_frac</th>\n",
       "      <th>medium_frac</th>\n",
       "      <th>count</th>\n",
       "      <th>manager_skill</th>\n",
       "    </tr>\n",
       "  </thead>\n",
       "  <tbody>\n",
       "    <tr>\n",
       "      <th>0</th>\n",
       "      <td>1.0</td>\n",
       "      <td>0</td>\n",
       "      <td>2575.0</td>\n",
       "      <td>5</td>\n",
       "      <td>10</td>\n",
       "      <td>2</td>\n",
       "      <td>8</td>\n",
       "      <td>271</td>\n",
       "      <td>40.7494</td>\n",
       "      <td>-73.9875</td>\n",
       "      <td>6</td>\n",
       "      <td>2075</td>\n",
       "      <td>0.079043</td>\n",
       "      <td>0.683573</td>\n",
       "      <td>0.237385</td>\n",
       "      <td>6.0</td>\n",
       "      <td>0.395470</td>\n",
       "    </tr>\n",
       "    <tr>\n",
       "      <th>1</th>\n",
       "      <td>1.0</td>\n",
       "      <td>1</td>\n",
       "      <td>3295.0</td>\n",
       "      <td>4</td>\n",
       "      <td>3</td>\n",
       "      <td>1</td>\n",
       "      <td>2</td>\n",
       "      <td>42</td>\n",
       "      <td>40.7775</td>\n",
       "      <td>-73.9784</td>\n",
       "      <td>2</td>\n",
       "      <td>1134</td>\n",
       "      <td>0.079043</td>\n",
       "      <td>0.683573</td>\n",
       "      <td>0.237385</td>\n",
       "      <td>1.0</td>\n",
       "      <td>0.395470</td>\n",
       "    </tr>\n",
       "    <tr>\n",
       "      <th>2</th>\n",
       "      <td>1.0</td>\n",
       "      <td>2</td>\n",
       "      <td>3100.0</td>\n",
       "      <td>4</td>\n",
       "      <td>20</td>\n",
       "      <td>5</td>\n",
       "      <td>6</td>\n",
       "      <td>49</td>\n",
       "      <td>40.7516</td>\n",
       "      <td>-73.9690</td>\n",
       "      <td>3</td>\n",
       "      <td>1788</td>\n",
       "      <td>0.000000</td>\n",
       "      <td>0.913333</td>\n",
       "      <td>0.086667</td>\n",
       "      <td>150.0</td>\n",
       "      <td>0.086667</td>\n",
       "    </tr>\n",
       "    <tr>\n",
       "      <th>3</th>\n",
       "      <td>1.0</td>\n",
       "      <td>1</td>\n",
       "      <td>3785.0</td>\n",
       "      <td>4</td>\n",
       "      <td>23</td>\n",
       "      <td>1</td>\n",
       "      <td>4</td>\n",
       "      <td>8</td>\n",
       "      <td>40.7621</td>\n",
       "      <td>-73.9956</td>\n",
       "      <td>0</td>\n",
       "      <td>2450</td>\n",
       "      <td>0.079043</td>\n",
       "      <td>0.683573</td>\n",
       "      <td>0.237385</td>\n",
       "      <td>9.0</td>\n",
       "      <td>0.395470</td>\n",
       "    </tr>\n",
       "    <tr>\n",
       "      <th>4</th>\n",
       "      <td>1.0</td>\n",
       "      <td>0</td>\n",
       "      <td>3590.0</td>\n",
       "      <td>6</td>\n",
       "      <td>20</td>\n",
       "      <td>19</td>\n",
       "      <td>13</td>\n",
       "      <td>178</td>\n",
       "      <td>40.7580</td>\n",
       "      <td>-73.9917</td>\n",
       "      <td>9</td>\n",
       "      <td>765</td>\n",
       "      <td>0.095238</td>\n",
       "      <td>0.666667</td>\n",
       "      <td>0.238095</td>\n",
       "      <td>21.0</td>\n",
       "      <td>0.428571</td>\n",
       "    </tr>\n",
       "  </tbody>\n",
       "</table>\n",
       "</div>"
      ],
      "text/plain": [
       "   bathrooms  bedrooms   price  month_created  day_created  hour_created  \\\n",
       "0        1.0         0  2575.0              5           10             2   \n",
       "1        1.0         1  3295.0              4            3             1   \n",
       "2        1.0         2  3100.0              4           20             5   \n",
       "3        1.0         1  3785.0              4           23             1   \n",
       "4        1.0         0  3590.0              6           20            19   \n",
       "\n",
       "   noofFeatures  noOfDescWords  latitude  longitude  noofPhotos  manager_id  \\\n",
       "0             8            271   40.7494   -73.9875           6        2075   \n",
       "1             2             42   40.7775   -73.9784           2        1134   \n",
       "2             6             49   40.7516   -73.9690           3        1788   \n",
       "3             4              8   40.7621   -73.9956           0        2450   \n",
       "4            13            178   40.7580   -73.9917           9         765   \n",
       "\n",
       "   high_frac  low_frac  medium_frac  count  manager_skill  \n",
       "0   0.079043  0.683573     0.237385    6.0       0.395470  \n",
       "1   0.079043  0.683573     0.237385    1.0       0.395470  \n",
       "2   0.000000  0.913333     0.086667  150.0       0.086667  \n",
       "3   0.079043  0.683573     0.237385    9.0       0.395470  \n",
       "4   0.095238  0.666667     0.238095   21.0       0.428571  "
      ]
     },
     "execution_count": 43,
     "metadata": {},
     "output_type": "execute_result"
    }
   ],
   "source": [
    "# add the features computed on the training dataset to the validation dataset\n",
    "X_val = X_val.merge(temp.reset_index(),how='left', left_on='manager_id', right_on='manager_id')\n",
    "new_manager_ixes = X_val['high_frac'].isnull()\n",
    "X_val.loc[new_manager_ixes,['high_frac','low_frac', 'medium_frac','manager_skill']] = mean_values.values\n",
    "X_val.head()"
   ]
  },
  {
   "cell_type": "code",
   "execution_count": 44,
   "metadata": {
    "collapsed": false
   },
   "outputs": [
    {
     "data": {
      "text/html": [
       "<div>\n",
       "<table border=\"1\" class=\"dataframe\">\n",
       "  <thead>\n",
       "    <tr style=\"text-align: right;\">\n",
       "      <th></th>\n",
       "      <th>bathrooms</th>\n",
       "      <th>bedrooms</th>\n",
       "      <th>price</th>\n",
       "      <th>month_created</th>\n",
       "      <th>day_created</th>\n",
       "      <th>hour_created</th>\n",
       "      <th>noofFeatures</th>\n",
       "      <th>noOfDescWords</th>\n",
       "      <th>latitude</th>\n",
       "      <th>longitude</th>\n",
       "      <th>noofPhotos</th>\n",
       "      <th>manager_id</th>\n",
       "      <th>high_frac</th>\n",
       "      <th>low_frac</th>\n",
       "      <th>medium_frac</th>\n",
       "      <th>count</th>\n",
       "      <th>manager_skill</th>\n",
       "    </tr>\n",
       "  </thead>\n",
       "  <tbody>\n",
       "    <tr>\n",
       "      <th>0</th>\n",
       "      <td>1.0</td>\n",
       "      <td>1</td>\n",
       "      <td>2950.0</td>\n",
       "      <td>6</td>\n",
       "      <td>11</td>\n",
       "      <td>5</td>\n",
       "      <td>6</td>\n",
       "      <td>78</td>\n",
       "      <td>40.7185</td>\n",
       "      <td>-73.9865</td>\n",
       "      <td>8</td>\n",
       "      <td>2694</td>\n",
       "      <td>0.079043</td>\n",
       "      <td>0.683573</td>\n",
       "      <td>0.237385</td>\n",
       "      <td>1.0</td>\n",
       "      <td>0.395470</td>\n",
       "    </tr>\n",
       "    <tr>\n",
       "      <th>1</th>\n",
       "      <td>1.0</td>\n",
       "      <td>2</td>\n",
       "      <td>2850.0</td>\n",
       "      <td>6</td>\n",
       "      <td>24</td>\n",
       "      <td>6</td>\n",
       "      <td>3</td>\n",
       "      <td>35</td>\n",
       "      <td>40.7278</td>\n",
       "      <td>-74.0000</td>\n",
       "      <td>3</td>\n",
       "      <td>3145</td>\n",
       "      <td>0.079043</td>\n",
       "      <td>0.683573</td>\n",
       "      <td>0.237385</td>\n",
       "      <td>8.0</td>\n",
       "      <td>0.395470</td>\n",
       "    </tr>\n",
       "    <tr>\n",
       "      <th>2</th>\n",
       "      <td>1.0</td>\n",
       "      <td>1</td>\n",
       "      <td>3758.0</td>\n",
       "      <td>6</td>\n",
       "      <td>3</td>\n",
       "      <td>4</td>\n",
       "      <td>3</td>\n",
       "      <td>333</td>\n",
       "      <td>40.7306</td>\n",
       "      <td>-73.9890</td>\n",
       "      <td>6</td>\n",
       "      <td>2346</td>\n",
       "      <td>0.079043</td>\n",
       "      <td>0.683573</td>\n",
       "      <td>0.237385</td>\n",
       "      <td>3.0</td>\n",
       "      <td>0.395470</td>\n",
       "    </tr>\n",
       "    <tr>\n",
       "      <th>3</th>\n",
       "      <td>1.0</td>\n",
       "      <td>2</td>\n",
       "      <td>3300.0</td>\n",
       "      <td>6</td>\n",
       "      <td>11</td>\n",
       "      <td>6</td>\n",
       "      <td>10</td>\n",
       "      <td>204</td>\n",
       "      <td>40.7109</td>\n",
       "      <td>-73.9571</td>\n",
       "      <td>6</td>\n",
       "      <td>179</td>\n",
       "      <td>0.000000</td>\n",
       "      <td>0.533333</td>\n",
       "      <td>0.466667</td>\n",
       "      <td>30.0</td>\n",
       "      <td>0.466667</td>\n",
       "    </tr>\n",
       "    <tr>\n",
       "      <th>4</th>\n",
       "      <td>2.0</td>\n",
       "      <td>2</td>\n",
       "      <td>4900.0</td>\n",
       "      <td>4</td>\n",
       "      <td>12</td>\n",
       "      <td>5</td>\n",
       "      <td>14</td>\n",
       "      <td>174</td>\n",
       "      <td>40.7650</td>\n",
       "      <td>-73.9845</td>\n",
       "      <td>7</td>\n",
       "      <td>2764</td>\n",
       "      <td>0.000000</td>\n",
       "      <td>0.913462</td>\n",
       "      <td>0.086538</td>\n",
       "      <td>208.0</td>\n",
       "      <td>0.086538</td>\n",
       "    </tr>\n",
       "  </tbody>\n",
       "</table>\n",
       "</div>"
      ],
      "text/plain": [
       "   bathrooms  bedrooms   price  month_created  day_created  hour_created  \\\n",
       "0        1.0         1  2950.0              6           11             5   \n",
       "1        1.0         2  2850.0              6           24             6   \n",
       "2        1.0         1  3758.0              6            3             4   \n",
       "3        1.0         2  3300.0              6           11             6   \n",
       "4        2.0         2  4900.0              4           12             5   \n",
       "\n",
       "   noofFeatures  noOfDescWords  latitude  longitude  noofPhotos  manager_id  \\\n",
       "0             6             78   40.7185   -73.9865           8        2694   \n",
       "1             3             35   40.7278   -74.0000           3        3145   \n",
       "2             3            333   40.7306   -73.9890           6        2346   \n",
       "3            10            204   40.7109   -73.9571           6         179   \n",
       "4            14            174   40.7650   -73.9845           7        2764   \n",
       "\n",
       "   high_frac  low_frac  medium_frac  count  manager_skill  \n",
       "0   0.079043  0.683573     0.237385    1.0       0.395470  \n",
       "1   0.079043  0.683573     0.237385    8.0       0.395470  \n",
       "2   0.079043  0.683573     0.237385    3.0       0.395470  \n",
       "3   0.000000  0.533333     0.466667   30.0       0.466667  \n",
       "4   0.000000  0.913462     0.086538  208.0       0.086538  "
      ]
     },
     "execution_count": 44,
     "metadata": {},
     "output_type": "execute_result"
    }
   ],
   "source": [
    "X_test = X_test.merge(temp.reset_index(),how='left', left_on='manager_id', right_on='manager_id')\n",
    "new_manager_ixes = X_test['high_frac'].isnull()\n",
    "X_test.loc[new_manager_ixes,['high_frac','low_frac', 'medium_frac','manager_skill']] = mean_values.values\n",
    "X_test.head()"
   ]
  },
  {
   "cell_type": "code",
   "execution_count": 45,
   "metadata": {
    "collapsed": false
   },
   "outputs": [
    {
     "name": "stdout",
     "output_type": "stream",
     "text": [
      "['bathrooms', 'bedrooms', 'price', 'month_created', 'day_created', 'hour_created', 'noofFeatures', 'noOfDescWords', 'latitude', 'longitude', 'noofPhotos', 'manager_id']\n",
      "['bathrooms', 'bedrooms', 'price', 'month_created', 'day_created', 'hour_created', 'noofFeatures', 'noOfDescWords', 'latitude', 'longitude', 'noofPhotos', 'manager_id', 'high_frac', 'low_frac', 'medium_frac', 'manager_skill']\n"
     ]
    }
   ],
   "source": [
    "basicFetures = selectedFeatures[:]\n",
    "selectedFeatures.extend(['high_frac','low_frac', 'medium_frac','manager_skill'])\n",
    "\n",
    "print(basicFetures)\n",
    "print(selectedFeatures)"
   ]
  },
  {
   "cell_type": "markdown",
   "metadata": {},
   "source": [
    "Let's run the first model with basic Features- Random Forest"
   ]
  },
  {
   "cell_type": "code",
   "execution_count": 166,
   "metadata": {
    "collapsed": false
   },
   "outputs": [
    {
     "data": {
      "text/plain": [
       "0.61650889387702712"
      ]
     },
     "execution_count": 166,
     "metadata": {},
     "output_type": "execute_result"
    }
   ],
   "source": [
    "clf = RandomForestClassifier(n_estimators=1000)\n",
    "clf.fit(X_train[basicFetures], y_train)\n",
    "y_val_pred = clf.predict_proba(X_val[basicFetures])\n",
    "log_loss(y_val, y_val_pred)"
   ]
  },
  {
   "cell_type": "code",
   "execution_count": 172,
   "metadata": {
    "collapsed": false
   },
   "outputs": [
    {
     "data": {
      "image/png": "[encoded data removed]",
      "text/plain": [
       "<matplotlib.figure.Figure at 0x2353c3f1a20>"
      ]
     },
     "metadata": {},
     "output_type": "display_data"
    }
   ],
   "source": [
    "pd.Series(index = basicFetures, data = clf.feature_importances_).sort_values().plot(kind = 'bar')\n",
    "plt.show()"
   ]
  },
  {
   "cell_type": "markdown",
   "metadata": {},
   "source": [
    "As per the graph -> Price is the most important feature and Bathrooms is the lease one."
   ]
  },
  {
   "cell_type": "markdown",
   "metadata": {},
   "source": [
    "Let's check using all features"
   ]
  },
  {
   "cell_type": "code",
   "execution_count": 170,
   "metadata": {
    "collapsed": false
   },
   "outputs": [
    {
     "data": {
      "text/plain": [
       "0.64061249639798734"
      ]
     },
     "execution_count": 170,
     "metadata": {},
     "output_type": "execute_result"
    }
   ],
   "source": [
    "clf2 = RandomForestClassifier(n_estimators=1000)\n",
    "clf2.fit(X_train[selectedFeatures], y_train)\n",
    "y_val_pred = clf2.predict_proba(X_val[selectedFeatures])\n",
    "log_loss(y_val, y_val_pred)"
   ]
  },
  {
   "cell_type": "markdown",
   "metadata": {},
   "source": [
    "If we are using all new features, there is an increase in log loss."
   ]
  },
  {
   "cell_type": "code",
   "execution_count": 174,
   "metadata": {
    "collapsed": false
   },
   "outputs": [
    {
     "data": {
      "image/png": "[encoded data removed]",
      "text/plain": [
       "<matplotlib.figure.Figure at 0x2355545c940>"
      ]
     },
     "metadata": {},
     "output_type": "display_data"
    }
   ],
   "source": [
    "pd.Series(index = selectedFeatures, data = clf2.feature_importances_).sort_values().plot(kind = 'bar')\n",
    "plt.show()"
   ]
  },
  {
   "cell_type": "markdown",
   "metadata": {},
   "source": [
    "Let's just add Manager Skill and see the logloss."
   ]
  },
  {
   "cell_type": "code",
   "execution_count": 184,
   "metadata": {
    "collapsed": false
   },
   "outputs": [
    {
     "name": "stdout",
     "output_type": "stream",
     "text": [
      "0.606411145134\n"
     ]
    },
    {
     "data": {
      "image/png": "[encoded data removed]",
      "text/plain": [
       "<matplotlib.figure.Figure at 0x235598dc518>"
      ]
     },
     "metadata": {},
     "output_type": "display_data"
    }
   ],
   "source": [
    "currentFeatures = basicFetures[:]#.extend('manager_skill')\n",
    "currentFeatures.append('manager_skill')\n",
    "\n",
    "clf3 = RandomForestClassifier(n_estimators=1000)\n",
    "clf3.fit(X_train[currentFeatures], y_train)\n",
    "y_val_pred = clf3.predict_proba(X_val[currentFeatures])\n",
    "print(log_loss(y_val, y_val_pred))\n",
    "\n",
    "pd.Series(index = currentFeatures, data = clf3.feature_importances_).sort_values().plot(kind = 'bar')\n",
    "plt.show()"
   ]
  },
  {
   "cell_type": "markdown",
   "metadata": {},
   "source": [
    "Manager Skill tops the chart now."
   ]
  },
  {
   "cell_type": "markdown",
   "metadata": {},
   "source": [
    "Let's remove Manager Id and add just Manager Skills."
   ]
  },
  {
   "cell_type": "code",
   "execution_count": 186,
   "metadata": {
    "collapsed": false
   },
   "outputs": [
    {
     "name": "stdout",
     "output_type": "stream",
     "text": [
      "0.60682510881\n"
     ]
    },
    {
     "data": {
      "image/png": "[encoded data removed]",
      "text/plain": [
       "<matplotlib.figure.Figure at 0x235363354a8>"
      ]
     },
     "metadata": {},
     "output_type": "display_data"
    }
   ],
   "source": [
    "currentFeatures.remove('manager_id')\n",
    "\n",
    "clf4 = RandomForestClassifier(n_estimators=1000)\n",
    "clf4.fit(X_train[currentFeatures], y_train)\n",
    "y_val_pred = clf4.predict_proba(X_val[currentFeatures])\n",
    "print(log_loss(y_val, y_val_pred))\n",
    "\n",
    "pd.Series(index = currentFeatures, data = clf4.feature_importances_).sort_values().plot(kind = 'bar')\n",
    "plt.show()"
   ]
  },
  {
   "cell_type": "code",
   "execution_count": 189,
   "metadata": {
    "collapsed": false
   },
   "outputs": [],
   "source": [
    "from sklearn.model_selection import GridSearchCV\n",
    "from sklearn.datasets import make_classification"
   ]
  },
  {
   "cell_type": "code",
   "execution_count": 190,
   "metadata": {
    "collapsed": false
   },
   "outputs": [],
   "source": [
    "# Build a classification task using 3 informative features\n",
    "'''\n",
    "X, y = make_classification(n_samples=1000,\n",
    "                           n_features=10,\n",
    "                           n_informative=3,\n",
    "                           n_redundant=0,\n",
    "                           n_repeated=0,\n",
    "                           n_classes=2,\n",
    "                           random_state=0,\n",
    "                           shuffle=False)\n",
    "'''"
   ]
  },
  {
   "cell_type": "code",
   "execution_count": 194,
   "metadata": {
    "collapsed": false
   },
   "outputs": [
    {
     "name": "stdout",
     "output_type": "stream",
     "text": [
      "{'max_features': 'log2', 'n_estimators': 1200}\n"
     ]
    }
   ],
   "source": [
    "rfc = RandomForestClassifier(n_jobs=-1,max_features= 'sqrt' ,n_estimators=50, oob_score = True) \n",
    "\n",
    "param_grid = { \n",
    "    'n_estimators': [700,1000,1200],\n",
    "    'max_features': ['auto', 'sqrt', 'log2']\n",
    "}\n",
    "\n",
    "CV_rfc = GridSearchCV(estimator=rfc, param_grid=param_grid, cv= 5)\n",
    "CV_rfc.fit(X_train[currentFeatures], y_train)\n",
    "print (CV_rfc.best_params_)"
   ]
  },
  {
   "cell_type": "code",
   "execution_count": 195,
   "metadata": {
    "collapsed": false
   },
   "outputs": [
    {
     "name": "stdout",
     "output_type": "stream",
     "text": [
      "RandomForestClassifier(bootstrap=True, class_weight=None, criterion='gini',\n",
      "            max_depth=None, max_features='log2', max_leaf_nodes=None,\n",
      "            min_impurity_split=1e-07, min_samples_leaf=1,\n",
      "            min_samples_split=2, min_weight_fraction_leaf=0.0,\n",
      "            n_estimators=1200, n_jobs=-1, oob_score=True,\n",
      "            random_state=None, verbose=0, warm_start=False)\n"
     ]
    }
   ],
   "source": [
    "print(CV_rfc.best_estimator_)"
   ]
  },
  {
   "cell_type": "code",
   "execution_count": 196,
   "metadata": {
    "collapsed": false
   },
   "outputs": [
    {
     "name": "stdout",
     "output_type": "stream",
     "text": [
      "0.606227335625\n"
     ]
    },
    {
     "data": {
      "image/png": "[encoded data removed]",
      "text/plain": [
       "<matplotlib.figure.Figure at 0x2355e01c7b8>"
      ]
     },
     "metadata": {},
     "output_type": "display_data"
    }
   ],
   "source": [
    "clf5 = RandomForestClassifier(bootstrap=True, class_weight=None, criterion='gini',\n",
    "            max_depth=None, max_features='log2', max_leaf_nodes=None,\n",
    "            min_impurity_split=1e-07, min_samples_leaf=1,\n",
    "            min_samples_split=2, min_weight_fraction_leaf=0.0,\n",
    "            n_estimators=1200, n_jobs=-1, oob_score=True,\n",
    "            random_state=None, verbose=0, warm_start=False)\n",
    "clf5.fit(X_train[currentFeatures], y_train)\n",
    "y_val_pred = clf5.predict_proba(X_val[currentFeatures])\n",
    "print(log_loss(y_val, y_val_pred))\n",
    "\n",
    "pd.Series(index = currentFeatures, data = clf5.feature_importances_).sort_values().plot(kind = 'bar')\n",
    "plt.show()"
   ]
  },
  {
   "cell_type": "code",
   "execution_count": 268,
   "metadata": {
    "collapsed": false
   },
   "outputs": [],
   "source": [
    "target_num_map = {'high':0, 'medium':1, 'low':2}\n",
    "y = clf5.predict_proba(X_test[currentFeatures])\n",
    "\n",
    "sub = pd.DataFrame()\n",
    "sub[\"listing_id\"] = test_df[\"listing_id\"]\n",
    "for label in [\"high\", \"medium\", \"low\"]:\n",
    "    sub[label] = y[:, target_num_map[label]]\n",
    "sub.to_csv(\"C:/Users/parth/Desktop/Git/Projects/TwoSigma/Data/submission_rf_base.csv\", index=False)"
   ]
  },
  {
   "cell_type": "code",
   "execution_count": 55,
   "metadata": {
    "collapsed": false
   },
   "outputs": [],
   "source": [
    "import json\n",
    "import lightgbm as lgb\n",
    "import pandas as pd\n",
    "from sklearn.metrics import mean_squared_error"
   ]
  },
  {
   "cell_type": "code",
   "execution_count": 83,
   "metadata": {
    "collapsed": false
   },
   "outputs": [
    {
     "data": {
      "text/html": [
       "<div>\n",
       "<table border=\"1\" class=\"dataframe\">\n",
       "  <thead>\n",
       "    <tr style=\"text-align: right;\">\n",
       "      <th></th>\n",
       "      <th>interest_level</th>\n",
       "    </tr>\n",
       "  </thead>\n",
       "  <tbody>\n",
       "    <tr>\n",
       "      <th>11257</th>\n",
       "      <td>1</td>\n",
       "    </tr>\n",
       "    <tr>\n",
       "      <th>85208</th>\n",
       "      <td>1</td>\n",
       "    </tr>\n",
       "    <tr>\n",
       "      <th>77102</th>\n",
       "      <td>2</td>\n",
       "    </tr>\n",
       "    <tr>\n",
       "      <th>7193</th>\n",
       "      <td>2</td>\n",
       "    </tr>\n",
       "    <tr>\n",
       "      <th>108179</th>\n",
       "      <td>2</td>\n",
       "    </tr>\n",
       "  </tbody>\n",
       "</table>\n",
       "</div>"
      ],
      "text/plain": [
       "        interest_level\n",
       "11257                1\n",
       "85208                1\n",
       "77102                2\n",
       "7193                 2\n",
       "108179               2"
      ]
     },
     "execution_count": 83,
     "metadata": {},
     "output_type": "execute_result"
    }
   ],
   "source": [
    "'''\n",
    "currentFeatures = basicFetures[:]#.extend('manager_skill')\n",
    "currentFeatures.append('manager_skill')\n",
    "print(currentFeatures)\n",
    "print(y_train.head())\n",
    "X_train[currentFeatures].head()\n",
    "'''\n",
    "y_train.head()\n",
    "y_val.head()"
   ]
  },
  {
   "cell_type": "code",
   "execution_count": 77,
   "metadata": {
    "collapsed": false
   },
   "outputs": [],
   "source": [
    "#y_train = pd.DataFrame(y_train)\n",
    "#y_val = pd.DataFrame(y_val)\n",
    "#y_train['interest_level'] = y_train['interest_level'].apply(lambda x: {'high': 0, 'medium': 1, 'low': 2}[x])\n",
    "#y_val['interest_level'] = y_val['interest_level'].apply(lambda x: {'high': 0, 'medium': 1, 'low': 2}[x])\n",
    "# create dataset for lightgbm\n",
    "#lgb_train = lgb.Dataset(X_train[currentFeatures], y_train)\n",
    "#lgb_eval = lgb.Dataset(X_val[currentFeatures], y_val, reference=lgb_train)"
   ]
  },
  {
   "cell_type": "code",
   "execution_count": 85,
   "metadata": {
    "collapsed": false
   },
   "outputs": [],
   "source": [
    "# the following dictionary contains most of the relavant hyperparameters for our task\n",
    "# I haven't tuned them yet, so they are mostly default\n",
    "t4_params = {\n",
    "    'boosting_type': 'gbdt', 'objective': 'multiclass', 'nthread': -1, 'silent': True,\n",
    "    'num_leaves': 2**4, 'learning_rate': 0.05, 'max_depth': -1,\n",
    "    'max_bin': 255, 'subsample_for_bin': 50000,\n",
    "    'subsample': 0.8, 'subsample_freq': 1, 'colsample_bytree': 0.6, 'reg_alpha': 1, 'reg_lambda': 0,\n",
    "    'min_split_gain': 0.5, 'min_child_weight': 1, 'min_child_samples': 10, 'scale_pos_weight': 1}\n",
    "\n",
    "# they can be used directly to build a LGBMClassifier (which is wrapped in a sklearn fashion)\n",
    "t4 = lgb.sklearn.LGBMClassifier(n_estimators=1000, seed=0, **t4_params)"
   ]
  },
  {
   "cell_type": "code",
   "execution_count": 104,
   "metadata": {
    "collapsed": false
   },
   "outputs": [
    {
     "name": "stdout",
     "output_type": "stream",
     "text": [
      "   bathrooms  bedrooms   price  month_created  day_created  hour_created  \\\n",
      "0        1.0         1  3350.0              4            8            12   \n",
      "1        1.0         0  2495.0              6           21             1   \n",
      "2        1.0         0  2825.0              6           24             3   \n",
      "3        1.0         1  3095.0              4           19             5   \n",
      "4        1.0         0  2095.0              5            4             5   \n",
      "\n",
      "   noofFeatures  noOfDescWords  latitude  longitude  noofPhotos  manager_id  \\\n",
      "0             3            106   40.7192   -73.9887           1        2848   \n",
      "1             1             41   40.7358   -74.0003           3        1903   \n",
      "2             4            122   40.7689   -73.9681           4        2745   \n",
      "3             6             68   40.7826   -73.9572           1        1694   \n",
      "4             1             57   40.7575   -73.9677           5         505   \n",
      "\n",
      "   manager_skill  \n",
      "0       0.333333  \n",
      "1       0.020690  \n",
      "2       0.000000  \n",
      "3       0.400000  \n",
      "4       0.666667  \n"
     ]
    }
   ],
   "source": [
    "train_X = pd.concat((X_train[currentFeatures], X_val[currentFeatures]), axis=0)\n",
    "train_y = pd.concat((y_train, y_val), axis=0)\n",
    "dset = lgb.Dataset(train_X, train_y, silent=True)\n",
    "dsetTrainX = lgb.Dataset(train_X, silent=True)\n",
    "dsetTrainY = lgb.Dataset(train_y, silent=True)\n",
    "\n",
    "print(train_X.head())"
   ]
  },
  {
   "cell_type": "code",
   "execution_count": 105,
   "metadata": {
    "collapsed": false
   },
   "outputs": [
    {
     "ename": "ValueError",
     "evalue": "bad input shape ()",
     "output_type": "error",
     "traceback": [
      "\u001b[1;31m---------------------------------------------------------------------------\u001b[0m",
      "\u001b[1;31mValueError\u001b[0m                                Traceback (most recent call last)",
      "\u001b[1;32m<ipython-input-105-a465c02e1ad1>\u001b[0m in \u001b[0;36m<module>\u001b[1;34m()\u001b[0m\n\u001b[1;32m----> 1\u001b[1;33m \u001b[0mt4\u001b[0m\u001b[1;33m.\u001b[0m\u001b[0mfit\u001b[0m\u001b[1;33m(\u001b[0m\u001b[0mdsetTrainX\u001b[0m\u001b[1;33m,\u001b[0m\u001b[0mdsetTrainY\u001b[0m\u001b[1;33m)\u001b[0m\u001b[1;33m\u001b[0m\u001b[0m\n\u001b[0m",
      "\u001b[1;32mC:\\Users\\parth\\Anaconda3\\lib\\site-packages\\lightgbm-0.1-py3.5.egg\\lightgbm\\sklearn.py\u001b[0m in \u001b[0;36mfit\u001b[1;34m(self, X, y, sample_weight, init_score, eval_set, eval_names, eval_sample_weight, eval_init_score, eval_metric, early_stopping_rounds, verbose, feature_name, categorical_feature, callbacks)\u001b[0m\n\u001b[0;32m    572\u001b[0m             \u001b[0mfeature_name\u001b[0m\u001b[1;33m=\u001b[0m\u001b[1;34m'auto'\u001b[0m\u001b[1;33m,\u001b[0m \u001b[0mcategorical_feature\u001b[0m\u001b[1;33m=\u001b[0m\u001b[1;34m'auto'\u001b[0m\u001b[1;33m,\u001b[0m\u001b[1;33m\u001b[0m\u001b[0m\n\u001b[0;32m    573\u001b[0m             callbacks=None):\n\u001b[1;32m--> 574\u001b[1;33m         \u001b[0mself\u001b[0m\u001b[1;33m.\u001b[0m\u001b[0m_le\u001b[0m \u001b[1;33m=\u001b[0m \u001b[0mLGBMLabelEncoder\u001b[0m\u001b[1;33m(\u001b[0m\u001b[1;33m)\u001b[0m\u001b[1;33m.\u001b[0m\u001b[0mfit\u001b[0m\u001b[1;33m(\u001b[0m\u001b[0my\u001b[0m\u001b[1;33m)\u001b[0m\u001b[1;33m\u001b[0m\u001b[0m\n\u001b[0m\u001b[0;32m    575\u001b[0m         \u001b[0my\u001b[0m \u001b[1;33m=\u001b[0m \u001b[0mself\u001b[0m\u001b[1;33m.\u001b[0m\u001b[0m_le\u001b[0m\u001b[1;33m.\u001b[0m\u001b[0mtransform\u001b[0m\u001b[1;33m(\u001b[0m\u001b[0my\u001b[0m\u001b[1;33m)\u001b[0m\u001b[1;33m\u001b[0m\u001b[0m\n\u001b[0;32m    576\u001b[0m \u001b[1;33m\u001b[0m\u001b[0m\n",
      "\u001b[1;32mC:\\Users\\parth\\Anaconda3\\lib\\site-packages\\sklearn\\preprocessing\\label.py\u001b[0m in \u001b[0;36mfit\u001b[1;34m(self, y)\u001b[0m\n\u001b[0;32m    110\u001b[0m         \u001b[0mself\u001b[0m \u001b[1;33m:\u001b[0m \u001b[0mreturns\u001b[0m \u001b[0man\u001b[0m \u001b[0minstance\u001b[0m \u001b[0mof\u001b[0m \u001b[0mself\u001b[0m\u001b[1;33m.\u001b[0m\u001b[1;33m\u001b[0m\u001b[0m\n\u001b[0;32m    111\u001b[0m         \"\"\"\n\u001b[1;32m--> 112\u001b[1;33m         \u001b[0my\u001b[0m \u001b[1;33m=\u001b[0m \u001b[0mcolumn_or_1d\u001b[0m\u001b[1;33m(\u001b[0m\u001b[0my\u001b[0m\u001b[1;33m,\u001b[0m \u001b[0mwarn\u001b[0m\u001b[1;33m=\u001b[0m\u001b[1;32mTrue\u001b[0m\u001b[1;33m)\u001b[0m\u001b[1;33m\u001b[0m\u001b[0m\n\u001b[0m\u001b[0;32m    113\u001b[0m         \u001b[0m_check_numpy_unicode_bug\u001b[0m\u001b[1;33m(\u001b[0m\u001b[0my\u001b[0m\u001b[1;33m)\u001b[0m\u001b[1;33m\u001b[0m\u001b[0m\n\u001b[0;32m    114\u001b[0m         \u001b[0mself\u001b[0m\u001b[1;33m.\u001b[0m\u001b[0mclasses_\u001b[0m \u001b[1;33m=\u001b[0m \u001b[0mnp\u001b[0m\u001b[1;33m.\u001b[0m\u001b[0munique\u001b[0m\u001b[1;33m(\u001b[0m\u001b[0my\u001b[0m\u001b[1;33m)\u001b[0m\u001b[1;33m\u001b[0m\u001b[0m\n",
      "\u001b[1;32mC:\\Users\\parth\\Anaconda3\\lib\\site-packages\\sklearn\\utils\\validation.py\u001b[0m in \u001b[0;36mcolumn_or_1d\u001b[1;34m(y, warn)\u001b[0m\n\u001b[0;32m    560\u001b[0m         \u001b[1;32mreturn\u001b[0m \u001b[0mnp\u001b[0m\u001b[1;33m.\u001b[0m\u001b[0mravel\u001b[0m\u001b[1;33m(\u001b[0m\u001b[0my\u001b[0m\u001b[1;33m)\u001b[0m\u001b[1;33m\u001b[0m\u001b[0m\n\u001b[0;32m    561\u001b[0m \u001b[1;33m\u001b[0m\u001b[0m\n\u001b[1;32m--> 562\u001b[1;33m     \u001b[1;32mraise\u001b[0m \u001b[0mValueError\u001b[0m\u001b[1;33m(\u001b[0m\u001b[1;34m\"bad input shape {0}\"\u001b[0m\u001b[1;33m.\u001b[0m\u001b[0mformat\u001b[0m\u001b[1;33m(\u001b[0m\u001b[0mshape\u001b[0m\u001b[1;33m)\u001b[0m\u001b[1;33m)\u001b[0m\u001b[1;33m\u001b[0m\u001b[0m\n\u001b[0m\u001b[0;32m    563\u001b[0m \u001b[1;33m\u001b[0m\u001b[0m\n\u001b[0;32m    564\u001b[0m \u001b[1;33m\u001b[0m\u001b[0m\n",
      "\u001b[1;31mValueError\u001b[0m: bad input shape ()"
     ]
    }
   ],
   "source": [
    "t4.fit(dsetTrainX,dsetTrainY)"
   ]
  },
  {
   "cell_type": "code",
   "execution_count": 99,
   "metadata": {
    "collapsed": false
   },
   "outputs": [
    {
     "name": "stdout",
     "output_type": "stream",
     "text": [
      "[50]\tcv_agg's multi_logloss: 0 + 0\n",
      "[100]\tcv_agg's multi_logloss: 0 + 0\n",
      "best n_estimators: 1\n",
      "best cv score: 0.0\n"
     ]
    }
   ],
   "source": [
    "def cross_validate_lgb():\n",
    "    lgb_params = t4_params.copy()\n",
    "    lgb_params['num_class'] = 3\n",
    "    #train_X, train_y, test_df = preprocess_func(train, test)\n",
    "    #dset = lgbm.Dataset(train_X, train_y, silent=True)\n",
    "    cv_results = lgb.cv(\n",
    "        lgb_params, dset, num_boost_round=10000, nfold=5, stratified=False, shuffle=True, metrics='multi_logloss',\n",
    "        early_stopping_rounds=100, verbose_eval=50, show_stdv=True, seed=0)\n",
    "    # note: cv_results will look like: {\"multi_logloss-mean\": <a list of historical mean>,\n",
    "    # \"multi_logloss-stdv\": <a list of historical standard deviation>}\n",
    "    \n",
    "    print('best n_estimators:', len(cv_results['multi_logloss-mean']))\n",
    "    print('best cv score:', cv_results['multi_logloss-mean'][-1])\n",
    "\n",
    "# we simply have to run the following code each time we modify the hyperparameters:\n",
    "cross_validate_lgb()"
   ]
  },
  {
   "cell_type": "markdown",
   "metadata": {},
   "source": [
    "LightGBM- I am not able to figure out now. Let's check XGBoost."
   ]
  },
  {
   "cell_type": "code",
   "execution_count": 106,
   "metadata": {
    "collapsed": true
   },
   "outputs": [],
   "source": [
    "from scipy import sparse\n",
    "import xgboost as xgb\n",
    "from sklearn import model_selection, preprocessing, ensemble\n",
    "from sklearn.metrics import log_loss\n",
    "from sklearn.feature_extraction.text import TfidfVectorizer, CountVectorizer"
   ]
  },
  {
   "cell_type": "code",
   "execution_count": 108,
   "metadata": {
    "collapsed": false
   },
   "outputs": [
    {
     "ename": "ValueError",
     "evalue": "cannot copy sequence with size 49352 to array axis with dimension 13",
     "output_type": "error",
     "traceback": [
      "\u001b[1;31m---------------------------------------------------------------------------\u001b[0m",
      "\u001b[1;31mValueError\u001b[0m                                Traceback (most recent call last)",
      "\u001b[1;32m<ipython-input-108-c2a051c074c0>\u001b[0m in \u001b[0;36m<module>\u001b[1;34m()\u001b[0m\n\u001b[1;32m----> 1\u001b[1;33m \u001b[0mtrain_X\u001b[0m \u001b[1;33m=\u001b[0m \u001b[0msparse\u001b[0m\u001b[1;33m.\u001b[0m\u001b[0mhstack\u001b[0m\u001b[1;33m(\u001b[0m\u001b[1;33m[\u001b[0m\u001b[0mtrain_X\u001b[0m\u001b[1;33m]\u001b[0m\u001b[1;33m)\u001b[0m\u001b[1;33m.\u001b[0m\u001b[0mtocsr\u001b[0m\u001b[1;33m(\u001b[0m\u001b[1;33m)\u001b[0m\u001b[1;33m\u001b[0m\u001b[0m\n\u001b[0m\u001b[0;32m      2\u001b[0m \u001b[0mtest_X\u001b[0m \u001b[1;33m=\u001b[0m \u001b[0msparse\u001b[0m\u001b[1;33m.\u001b[0m\u001b[0mhstack\u001b[0m\u001b[1;33m(\u001b[0m\u001b[1;33m[\u001b[0m\u001b[0mX_test\u001b[0m\u001b[1;33m[\u001b[0m\u001b[0mcurrentFeatures\u001b[0m\u001b[1;33m]\u001b[0m\u001b[1;33m]\u001b[0m\u001b[1;33m)\u001b[0m\u001b[1;33m.\u001b[0m\u001b[0mtocsr\u001b[0m\u001b[1;33m(\u001b[0m\u001b[1;33m)\u001b[0m\u001b[1;33m\u001b[0m\u001b[0m\n\u001b[0;32m      3\u001b[0m \u001b[1;33m\u001b[0m\u001b[0m\n\u001b[0;32m      4\u001b[0m \u001b[0mtarget_num_map\u001b[0m \u001b[1;33m=\u001b[0m \u001b[1;33m{\u001b[0m\u001b[1;34m'high'\u001b[0m\u001b[1;33m:\u001b[0m\u001b[1;36m0\u001b[0m\u001b[1;33m,\u001b[0m \u001b[1;34m'medium'\u001b[0m\u001b[1;33m:\u001b[0m\u001b[1;36m1\u001b[0m\u001b[1;33m,\u001b[0m \u001b[1;34m'low'\u001b[0m\u001b[1;33m:\u001b[0m\u001b[1;36m2\u001b[0m\u001b[1;33m}\u001b[0m\u001b[1;33m\u001b[0m\u001b[0m\n\u001b[0;32m      5\u001b[0m \u001b[1;31m#train_y = np.array(train_df['interest_level'].apply(lambda x: target_num_map[x]))\u001b[0m\u001b[1;33m\u001b[0m\u001b[1;33m\u001b[0m\u001b[0m\n",
      "\u001b[1;32mC:\\Users\\parth\\Anaconda3\\lib\\site-packages\\scipy\\sparse\\construct.py\u001b[0m in \u001b[0;36mhstack\u001b[1;34m(blocks, format, dtype)\u001b[0m\n\u001b[0;32m    456\u001b[0m \u001b[1;33m\u001b[0m\u001b[0m\n\u001b[0;32m    457\u001b[0m     \"\"\"\n\u001b[1;32m--> 458\u001b[1;33m     \u001b[1;32mreturn\u001b[0m \u001b[0mbmat\u001b[0m\u001b[1;33m(\u001b[0m\u001b[1;33m[\u001b[0m\u001b[0mblocks\u001b[0m\u001b[1;33m]\u001b[0m\u001b[1;33m,\u001b[0m \u001b[0mformat\u001b[0m\u001b[1;33m=\u001b[0m\u001b[0mformat\u001b[0m\u001b[1;33m,\u001b[0m \u001b[0mdtype\u001b[0m\u001b[1;33m=\u001b[0m\u001b[0mdtype\u001b[0m\u001b[1;33m)\u001b[0m\u001b[1;33m\u001b[0m\u001b[0m\n\u001b[0m\u001b[0;32m    459\u001b[0m \u001b[1;33m\u001b[0m\u001b[0m\n\u001b[0;32m    460\u001b[0m \u001b[1;33m\u001b[0m\u001b[0m\n",
      "\u001b[1;32mC:\\Users\\parth\\Anaconda3\\lib\\site-packages\\scipy\\sparse\\construct.py\u001b[0m in \u001b[0;36mbmat\u001b[1;34m(blocks, format, dtype)\u001b[0m\n\u001b[0;32m    536\u001b[0m     \"\"\"\n\u001b[0;32m    537\u001b[0m \u001b[1;33m\u001b[0m\u001b[0m\n\u001b[1;32m--> 538\u001b[1;33m     \u001b[0mblocks\u001b[0m \u001b[1;33m=\u001b[0m \u001b[0mnp\u001b[0m\u001b[1;33m.\u001b[0m\u001b[0masarray\u001b[0m\u001b[1;33m(\u001b[0m\u001b[0mblocks\u001b[0m\u001b[1;33m,\u001b[0m \u001b[0mdtype\u001b[0m\u001b[1;33m=\u001b[0m\u001b[1;34m'object'\u001b[0m\u001b[1;33m)\u001b[0m\u001b[1;33m\u001b[0m\u001b[0m\n\u001b[0m\u001b[0;32m    539\u001b[0m \u001b[1;33m\u001b[0m\u001b[0m\n\u001b[0;32m    540\u001b[0m     \u001b[1;32mif\u001b[0m \u001b[0mblocks\u001b[0m\u001b[1;33m.\u001b[0m\u001b[0mndim\u001b[0m \u001b[1;33m!=\u001b[0m \u001b[1;36m2\u001b[0m\u001b[1;33m:\u001b[0m\u001b[1;33m\u001b[0m\u001b[0m\n",
      "\u001b[1;32mC:\\Users\\parth\\Anaconda3\\lib\\site-packages\\numpy\\core\\numeric.py\u001b[0m in \u001b[0;36masarray\u001b[1;34m(a, dtype, order)\u001b[0m\n\u001b[0;32m    480\u001b[0m \u001b[1;33m\u001b[0m\u001b[0m\n\u001b[0;32m    481\u001b[0m     \"\"\"\n\u001b[1;32m--> 482\u001b[1;33m     \u001b[1;32mreturn\u001b[0m \u001b[0marray\u001b[0m\u001b[1;33m(\u001b[0m\u001b[0ma\u001b[0m\u001b[1;33m,\u001b[0m \u001b[0mdtype\u001b[0m\u001b[1;33m,\u001b[0m \u001b[0mcopy\u001b[0m\u001b[1;33m=\u001b[0m\u001b[1;32mFalse\u001b[0m\u001b[1;33m,\u001b[0m \u001b[0morder\u001b[0m\u001b[1;33m=\u001b[0m\u001b[0morder\u001b[0m\u001b[1;33m)\u001b[0m\u001b[1;33m\u001b[0m\u001b[0m\n\u001b[0m\u001b[0;32m    483\u001b[0m \u001b[1;33m\u001b[0m\u001b[0m\n\u001b[0;32m    484\u001b[0m \u001b[1;32mdef\u001b[0m \u001b[0masanyarray\u001b[0m\u001b[1;33m(\u001b[0m\u001b[0ma\u001b[0m\u001b[1;33m,\u001b[0m \u001b[0mdtype\u001b[0m\u001b[1;33m=\u001b[0m\u001b[1;32mNone\u001b[0m\u001b[1;33m,\u001b[0m \u001b[0morder\u001b[0m\u001b[1;33m=\u001b[0m\u001b[1;32mNone\u001b[0m\u001b[1;33m)\u001b[0m\u001b[1;33m:\u001b[0m\u001b[1;33m\u001b[0m\u001b[0m\n",
      "\u001b[1;31mValueError\u001b[0m: cannot copy sequence with size 49352 to array axis with dimension 13"
     ]
    }
   ],
   "source": [
    "train_X = sparse.hstack([train_X]).tocsr()\n",
    "test_X = sparse.hstack([X_test[currentFeatures]]).tocsr()\n",
    "\n",
    "target_num_map = {'high':0, 'medium':1, 'low':2}\n",
    "#train_y = np.array(train_df['interest_level'].apply(lambda x: target_num_map[x]))\n",
    "print(train_X.shape, test_X.shape)"
   ]
  },
  {
   "cell_type": "code",
   "execution_count": 46,
   "metadata": {
    "collapsed": false
   },
   "outputs": [
    {
     "name": "stdout",
     "output_type": "stream",
     "text": [
      "['bathrooms', 'bedrooms', 'price', 'month_created', 'day_created', 'hour_created', 'noofFeatures', 'noOfDescWords', 'latitude', 'longitude', 'noofPhotos', 'manager_id', 'manager_skill']\n"
     ]
    }
   ],
   "source": [
    "currentFeatures = basicFetures[:]#.extend('manager_skill')\n",
    "currentFeatures.append('manager_skill')\n",
    "print(currentFeatures)"
   ]
  },
  {
   "cell_type": "code",
   "execution_count": 47,
   "metadata": {
    "collapsed": true
   },
   "outputs": [],
   "source": [
    "train_X = pd.concat((X_train[currentFeatures], X_val[currentFeatures]), axis=0)\n",
    "train_y = pd.concat((y_train, y_val), axis=0)"
   ]
  },
  {
   "cell_type": "code",
   "execution_count": 48,
   "metadata": {
    "collapsed": true
   },
   "outputs": [],
   "source": [
    "SEED = 777\n",
    "NFOLDS = 5\n",
    "\n",
    "params = {\n",
    "    'eta':.01,\n",
    "    'colsample_bytree':.8,\n",
    "    'subsample':.8,\n",
    "    'seed':0,\n",
    "    'nthread':16,\n",
    "    'objective':'multi:softprob',\n",
    "    'eval_metric':'mlogloss',\n",
    "    'num_class':3,\n",
    "    'silent':1\n",
    "}"
   ]
  },
  {
   "cell_type": "code",
   "execution_count": 49,
   "metadata": {
    "collapsed": true
   },
   "outputs": [],
   "source": [
    "import xgboost as xgb\n",
    "from sklearn import preprocessing, model_selection\n",
    "import string\n",
    "from sklearn.feature_extraction.text import  CountVectorizer\n",
    "from scipy.stats import boxcox\n",
    "from scipy import sparse"
   ]
  },
  {
   "cell_type": "code",
   "execution_count": 50,
   "metadata": {
    "collapsed": false
   },
   "outputs": [
    {
     "data": {
      "text/html": [
       "<div>\n",
       "<table border=\"1\" class=\"dataframe\">\n",
       "  <thead>\n",
       "    <tr style=\"text-align: right;\">\n",
       "      <th></th>\n",
       "      <th>interest_level</th>\n",
       "    </tr>\n",
       "  </thead>\n",
       "  <tbody>\n",
       "    <tr>\n",
       "      <th>9882</th>\n",
       "      <td>low</td>\n",
       "    </tr>\n",
       "    <tr>\n",
       "      <th>71698</th>\n",
       "      <td>low</td>\n",
       "    </tr>\n",
       "    <tr>\n",
       "      <th>18641</th>\n",
       "      <td>medium</td>\n",
       "    </tr>\n",
       "    <tr>\n",
       "      <th>21373</th>\n",
       "      <td>medium</td>\n",
       "    </tr>\n",
       "    <tr>\n",
       "      <th>8801</th>\n",
       "      <td>medium</td>\n",
       "    </tr>\n",
       "  </tbody>\n",
       "</table>\n",
       "</div>"
      ],
      "text/plain": [
       "      interest_level\n",
       "9882             low\n",
       "71698            low\n",
       "18641         medium\n",
       "21373         medium\n",
       "8801          medium"
      ]
     },
     "execution_count": 50,
     "metadata": {},
     "output_type": "execute_result"
    }
   ],
   "source": [
    "train_y = pd.DataFrame(train_y)\n",
    "train_y.head()"
   ]
  },
  {
   "cell_type": "code",
   "execution_count": 51,
   "metadata": {
    "collapsed": false
   },
   "outputs": [
    {
     "data": {
      "text/plain": [
       "array([2, 2, 1, ..., 0, 2, 2], dtype=int64)"
      ]
     },
     "execution_count": 51,
     "metadata": {},
     "output_type": "execute_result"
    }
   ],
   "source": [
    "y_map = {'low': 2, 'medium': 1, 'high': 0}\n",
    "train_y['interest_level'] = train_y['interest_level'].apply(lambda x: y_map[x])\n",
    "train_Y = train_y.interest_level.values\n",
    "train_Y"
   ]
  },
  {
   "cell_type": "code",
   "execution_count": 52,
   "metadata": {
    "collapsed": false
   },
   "outputs": [],
   "source": [
    "dtrain = xgb.DMatrix(data=train_X, label=train_Y)\n",
    "dtest = xgb.DMatrix(data=X_test[currentFeatures])"
   ]
  },
  {
   "cell_type": "code",
   "execution_count": 53,
   "metadata": {
    "collapsed": false
   },
   "outputs": [
    {
     "name": "stderr",
     "output_type": "stream",
     "text": [
      "C:\\Users\\parth\\Anaconda3\\lib\\site-packages\\xgboost-0.40-py3.5.egg\\xgboost.py:724: VisibleDeprecationWarning: using a non-integer number instead of an integer will result in an error in the future\n",
      "  idset = [randidx[(i * kstep): min(len(randidx), (i + 1) * kstep)] for i in range(nfold)]\n",
      "[0]\tcv-test-mlogloss:1.092138+0.000136\tcv-train-mlogloss:1.092048+0.000153\n",
      "[1]\tcv-test-mlogloss:1.085791+0.000234\tcv-train-mlogloss:1.085613+0.000274\n",
      "[2]\tcv-test-mlogloss:1.079607+0.000343\tcv-train-mlogloss:1.079326+0.000412\n",
      "[3]\tcv-test-mlogloss:1.073529+0.000373\tcv-train-mlogloss:1.073146+0.000468\n",
      "[4]\tcv-test-mlogloss:1.067480+0.000394\tcv-train-mlogloss:1.067008+0.000507\n",
      "[5]\tcv-test-mlogloss:1.061624+0.000419\tcv-train-mlogloss:1.061061+0.000556\n",
      "[6]\tcv-test-mlogloss:1.055844+0.000370\tcv-train-mlogloss:1.055203+0.000537\n",
      "[7]\tcv-test-mlogloss:1.050080+0.000422\tcv-train-mlogloss:1.049352+0.000599\n",
      "[8]\tcv-test-mlogloss:1.044370+0.000441\tcv-train-mlogloss:1.043564+0.000648\n",
      "[9]\tcv-test-mlogloss:1.038834+0.000636\tcv-train-mlogloss:1.037945+0.000842\n",
      "[10]\tcv-test-mlogloss:1.033393+0.000522\tcv-train-mlogloss:1.032410+0.000746\n",
      "[11]\tcv-test-mlogloss:1.027972+0.000552\tcv-train-mlogloss:1.026899+0.000788\n",
      "[12]\tcv-test-mlogloss:1.022635+0.000513\tcv-train-mlogloss:1.021467+0.000763\n",
      "[13]\tcv-test-mlogloss:1.017365+0.000470\tcv-train-mlogloss:1.016109+0.000736\n",
      "[14]\tcv-test-mlogloss:1.012271+0.000336\tcv-train-mlogloss:1.010920+0.000588\n",
      "[15]\tcv-test-mlogloss:1.007339+0.000332\tcv-train-mlogloss:1.005908+0.000521\n",
      "[16]\tcv-test-mlogloss:1.002362+0.000334\tcv-train-mlogloss:1.000835+0.000408\n",
      "[17]\tcv-test-mlogloss:0.997507+0.000424\tcv-train-mlogloss:0.995891+0.000544\n",
      "[18]\tcv-test-mlogloss:0.992550+0.000419\tcv-train-mlogloss:0.990839+0.000559\n",
      "[19]\tcv-test-mlogloss:0.987740+0.000361\tcv-train-mlogloss:0.985950+0.000575\n",
      "[20]\tcv-test-mlogloss:0.983131+0.000379\tcv-train-mlogloss:0.981267+0.000611\n",
      "[21]\tcv-test-mlogloss:0.978522+0.000387\tcv-train-mlogloss:0.976567+0.000587\n",
      "[22]\tcv-test-mlogloss:0.973928+0.000462\tcv-train-mlogloss:0.971888+0.000597\n",
      "[23]\tcv-test-mlogloss:0.969510+0.000533\tcv-train-mlogloss:0.967385+0.000756\n",
      "[24]\tcv-test-mlogloss:0.965081+0.000508\tcv-train-mlogloss:0.962866+0.000730\n",
      "[25]\tcv-test-mlogloss:0.960770+0.000623\tcv-train-mlogloss:0.958482+0.000791\n",
      "[26]\tcv-test-mlogloss:0.956423+0.000559\tcv-train-mlogloss:0.954047+0.000792\n",
      "[27]\tcv-test-mlogloss:0.952126+0.000525\tcv-train-mlogloss:0.949664+0.000733\n",
      "[28]\tcv-test-mlogloss:0.948065+0.000541\tcv-train-mlogloss:0.945522+0.000715\n",
      "[29]\tcv-test-mlogloss:0.943890+0.000498\tcv-train-mlogloss:0.941265+0.000625\n",
      "[30]\tcv-test-mlogloss:0.939773+0.000509\tcv-train-mlogloss:0.937065+0.000730\n",
      "[31]\tcv-test-mlogloss:0.935681+0.000506\tcv-train-mlogloss:0.932880+0.000783\n",
      "[32]\tcv-test-mlogloss:0.931647+0.000513\tcv-train-mlogloss:0.928757+0.000801\n",
      "[33]\tcv-test-mlogloss:0.927771+0.000612\tcv-train-mlogloss:0.924808+0.000798\n",
      "[34]\tcv-test-mlogloss:0.923995+0.000571\tcv-train-mlogloss:0.920952+0.000792\n",
      "[35]\tcv-test-mlogloss:0.920163+0.000626\tcv-train-mlogloss:0.917035+0.000774\n",
      "[36]\tcv-test-mlogloss:0.916489+0.000698\tcv-train-mlogloss:0.913273+0.000895\n",
      "[37]\tcv-test-mlogloss:0.912722+0.000686\tcv-train-mlogloss:0.909425+0.000811\n",
      "[38]\tcv-test-mlogloss:0.909087+0.000688\tcv-train-mlogloss:0.905708+0.000813\n",
      "[39]\tcv-test-mlogloss:0.905466+0.000750\tcv-train-mlogloss:0.902009+0.000816\n",
      "[40]\tcv-test-mlogloss:0.901869+0.000713\tcv-train-mlogloss:0.898336+0.000836\n",
      "[41]\tcv-test-mlogloss:0.898398+0.000635\tcv-train-mlogloss:0.894777+0.000803\n",
      "[42]\tcv-test-mlogloss:0.894968+0.000724\tcv-train-mlogloss:0.891256+0.000723\n",
      "[43]\tcv-test-mlogloss:0.891660+0.000814\tcv-train-mlogloss:0.887865+0.000707\n",
      "[44]\tcv-test-mlogloss:0.888335+0.000837\tcv-train-mlogloss:0.884454+0.000817\n",
      "[45]\tcv-test-mlogloss:0.885022+0.000834\tcv-train-mlogloss:0.881066+0.000714\n",
      "[46]\tcv-test-mlogloss:0.881785+0.000950\tcv-train-mlogloss:0.877752+0.000750\n",
      "[47]\tcv-test-mlogloss:0.878587+0.001025\tcv-train-mlogloss:0.874483+0.000799\n",
      "[48]\tcv-test-mlogloss:0.875331+0.001025\tcv-train-mlogloss:0.871142+0.000757\n",
      "[49]\tcv-test-mlogloss:0.872310+0.000933\tcv-train-mlogloss:0.868044+0.000614\n",
      "[50]\tcv-test-mlogloss:0.869229+0.000917\tcv-train-mlogloss:0.864888+0.000651\n",
      "[51]\tcv-test-mlogloss:0.866111+0.000913\tcv-train-mlogloss:0.861696+0.000644\n",
      "[52]\tcv-test-mlogloss:0.863067+0.000901\tcv-train-mlogloss:0.858561+0.000586\n",
      "[53]\tcv-test-mlogloss:0.860156+0.000805\tcv-train-mlogloss:0.855569+0.000676\n",
      "[54]\tcv-test-mlogloss:0.857191+0.000891\tcv-train-mlogloss:0.852526+0.000782\n",
      "[55]\tcv-test-mlogloss:0.854283+0.000938\tcv-train-mlogloss:0.849543+0.000791\n",
      "[56]\tcv-test-mlogloss:0.851451+0.000986\tcv-train-mlogloss:0.846639+0.000872\n",
      "[57]\tcv-test-mlogloss:0.848589+0.000990\tcv-train-mlogloss:0.843702+0.000820\n",
      "[58]\tcv-test-mlogloss:0.845837+0.001018\tcv-train-mlogloss:0.840876+0.000828\n",
      "[59]\tcv-test-mlogloss:0.843095+0.000993\tcv-train-mlogloss:0.838049+0.000872\n",
      "[60]\tcv-test-mlogloss:0.840350+0.000968\tcv-train-mlogloss:0.835231+0.000831\n",
      "[61]\tcv-test-mlogloss:0.837660+0.001043\tcv-train-mlogloss:0.832470+0.000860\n",
      "[62]\tcv-test-mlogloss:0.834977+0.001040\tcv-train-mlogloss:0.829708+0.000870\n",
      "[63]\tcv-test-mlogloss:0.832316+0.001051\tcv-train-mlogloss:0.826966+0.000802\n",
      "[64]\tcv-test-mlogloss:0.829672+0.001023\tcv-train-mlogloss:0.824235+0.000795\n",
      "[65]\tcv-test-mlogloss:0.827087+0.001069\tcv-train-mlogloss:0.821569+0.000764\n",
      "[66]\tcv-test-mlogloss:0.824530+0.001136\tcv-train-mlogloss:0.818931+0.000718\n",
      "[67]\tcv-test-mlogloss:0.821957+0.001130\tcv-train-mlogloss:0.816277+0.000711\n",
      "[68]\tcv-test-mlogloss:0.819597+0.001114\tcv-train-mlogloss:0.813829+0.000707\n",
      "[69]\tcv-test-mlogloss:0.817150+0.001151\tcv-train-mlogloss:0.811311+0.000723\n",
      "[70]\tcv-test-mlogloss:0.814818+0.001104\tcv-train-mlogloss:0.808901+0.000679\n",
      "[71]\tcv-test-mlogloss:0.812388+0.001110\tcv-train-mlogloss:0.806395+0.000671\n",
      "[72]\tcv-test-mlogloss:0.810034+0.001110\tcv-train-mlogloss:0.803968+0.000678\n",
      "[73]\tcv-test-mlogloss:0.807733+0.001119\tcv-train-mlogloss:0.801582+0.000673\n",
      "[74]\tcv-test-mlogloss:0.805464+0.001177\tcv-train-mlogloss:0.799241+0.000696\n",
      "[75]\tcv-test-mlogloss:0.803174+0.001220\tcv-train-mlogloss:0.796871+0.000682\n",
      "[76]\tcv-test-mlogloss:0.800926+0.001268\tcv-train-mlogloss:0.794551+0.000655\n",
      "[77]\tcv-test-mlogloss:0.798697+0.001330\tcv-train-mlogloss:0.792242+0.000632\n",
      "[78]\tcv-test-mlogloss:0.796495+0.001304\tcv-train-mlogloss:0.789961+0.000620\n",
      "[79]\tcv-test-mlogloss:0.794294+0.001266\tcv-train-mlogloss:0.787685+0.000649\n",
      "[80]\tcv-test-mlogloss:0.792180+0.001278\tcv-train-mlogloss:0.785494+0.000607\n",
      "[81]\tcv-test-mlogloss:0.790054+0.001282\tcv-train-mlogloss:0.783290+0.000625\n",
      "[82]\tcv-test-mlogloss:0.787917+0.001283\tcv-train-mlogloss:0.781074+0.000615\n",
      "[83]\tcv-test-mlogloss:0.785916+0.001299\tcv-train-mlogloss:0.779000+0.000614\n",
      "[84]\tcv-test-mlogloss:0.783908+0.001342\tcv-train-mlogloss:0.776917+0.000572\n",
      "[85]\tcv-test-mlogloss:0.781949+0.001335\tcv-train-mlogloss:0.774875+0.000588\n",
      "[86]\tcv-test-mlogloss:0.779999+0.001300\tcv-train-mlogloss:0.772851+0.000613\n",
      "[87]\tcv-test-mlogloss:0.778060+0.001344\tcv-train-mlogloss:0.770835+0.000589\n",
      "[88]\tcv-test-mlogloss:0.776090+0.001383\tcv-train-mlogloss:0.768787+0.000586\n",
      "[89]\tcv-test-mlogloss:0.774194+0.001474\tcv-train-mlogloss:0.766823+0.000551\n",
      "[90]\tcv-test-mlogloss:0.772280+0.001426\tcv-train-mlogloss:0.764836+0.000564\n",
      "[91]\tcv-test-mlogloss:0.770411+0.001419\tcv-train-mlogloss:0.762888+0.000527\n",
      "[92]\tcv-test-mlogloss:0.768561+0.001455\tcv-train-mlogloss:0.760964+0.000518\n",
      "[93]\tcv-test-mlogloss:0.766733+0.001452\tcv-train-mlogloss:0.759061+0.000514\n",
      "[94]\tcv-test-mlogloss:0.764925+0.001462\tcv-train-mlogloss:0.757175+0.000523\n",
      "[95]\tcv-test-mlogloss:0.763104+0.001476\tcv-train-mlogloss:0.755276+0.000533\n",
      "[96]\tcv-test-mlogloss:0.761338+0.001474\tcv-train-mlogloss:0.753426+0.000471\n",
      "[97]\tcv-test-mlogloss:0.759577+0.001465\tcv-train-mlogloss:0.751596+0.000495\n",
      "[98]\tcv-test-mlogloss:0.757848+0.001488\tcv-train-mlogloss:0.749794+0.000489\n",
      "[99]\tcv-test-mlogloss:0.756145+0.001523\tcv-train-mlogloss:0.748009+0.000450\n",
      "[100]\tcv-test-mlogloss:0.754452+0.001516\tcv-train-mlogloss:0.746248+0.000472\n",
      "[101]\tcv-test-mlogloss:0.752771+0.001534\tcv-train-mlogloss:0.744491+0.000480\n",
      "[102]\tcv-test-mlogloss:0.751088+0.001544\tcv-train-mlogloss:0.742734+0.000487\n",
      "[103]\tcv-test-mlogloss:0.749447+0.001546\tcv-train-mlogloss:0.741021+0.000496\n",
      "[104]\tcv-test-mlogloss:0.747836+0.001557\tcv-train-mlogloss:0.739343+0.000495\n",
      "[105]\tcv-test-mlogloss:0.746242+0.001558\tcv-train-mlogloss:0.737683+0.000475\n",
      "[106]\tcv-test-mlogloss:0.744659+0.001562\tcv-train-mlogloss:0.736026+0.000490\n",
      "[107]\tcv-test-mlogloss:0.743106+0.001599\tcv-train-mlogloss:0.734402+0.000449\n",
      "[108]\tcv-test-mlogloss:0.741587+0.001605\tcv-train-mlogloss:0.732808+0.000444\n",
      "[109]\tcv-test-mlogloss:0.740020+0.001626\tcv-train-mlogloss:0.731160+0.000440\n",
      "[110]\tcv-test-mlogloss:0.738542+0.001639\tcv-train-mlogloss:0.729610+0.000438\n",
      "[111]\tcv-test-mlogloss:0.737064+0.001643\tcv-train-mlogloss:0.728059+0.000462\n",
      "[112]\tcv-test-mlogloss:0.735591+0.001654\tcv-train-mlogloss:0.726514+0.000470\n",
      "[113]\tcv-test-mlogloss:0.734133+0.001665\tcv-train-mlogloss:0.724986+0.000504\n",
      "[114]\tcv-test-mlogloss:0.732692+0.001681\tcv-train-mlogloss:0.723468+0.000516\n",
      "[115]\tcv-test-mlogloss:0.731281+0.001731\tcv-train-mlogloss:0.721985+0.000466\n",
      "[116]\tcv-test-mlogloss:0.729906+0.001733\tcv-train-mlogloss:0.720530+0.000474\n",
      "[117]\tcv-test-mlogloss:0.728525+0.001771\tcv-train-mlogloss:0.719073+0.000426\n",
      "[118]\tcv-test-mlogloss:0.727184+0.001790\tcv-train-mlogloss:0.717658+0.000455\n",
      "[119]\tcv-test-mlogloss:0.725810+0.001831\tcv-train-mlogloss:0.716222+0.000440\n",
      "[120]\tcv-test-mlogloss:0.724491+0.001826\tcv-train-mlogloss:0.714832+0.000438\n",
      "[121]\tcv-test-mlogloss:0.723180+0.001862\tcv-train-mlogloss:0.713456+0.000401\n",
      "[122]\tcv-test-mlogloss:0.721948+0.001845\tcv-train-mlogloss:0.712152+0.000381\n",
      "[123]\tcv-test-mlogloss:0.720697+0.001812\tcv-train-mlogloss:0.710829+0.000403\n",
      "[124]\tcv-test-mlogloss:0.719406+0.001833\tcv-train-mlogloss:0.709467+0.000420\n",
      "[125]\tcv-test-mlogloss:0.718159+0.001827\tcv-train-mlogloss:0.708153+0.000450\n",
      "[126]\tcv-test-mlogloss:0.716928+0.001849\tcv-train-mlogloss:0.706856+0.000450\n",
      "[127]\tcv-test-mlogloss:0.715688+0.001872\tcv-train-mlogloss:0.705540+0.000424\n",
      "[128]\tcv-test-mlogloss:0.714474+0.001858\tcv-train-mlogloss:0.704254+0.000459\n",
      "[129]\tcv-test-mlogloss:0.713276+0.001833\tcv-train-mlogloss:0.702985+0.000504\n",
      "[130]\tcv-test-mlogloss:0.712106+0.001861\tcv-train-mlogloss:0.701741+0.000477\n",
      "[131]\tcv-test-mlogloss:0.710917+0.001872\tcv-train-mlogloss:0.700486+0.000475\n",
      "[132]\tcv-test-mlogloss:0.709746+0.001868\tcv-train-mlogloss:0.699250+0.000495\n",
      "[133]\tcv-test-mlogloss:0.708615+0.001864\tcv-train-mlogloss:0.698041+0.000512\n",
      "[134]\tcv-test-mlogloss:0.707461+0.001877\tcv-train-mlogloss:0.696815+0.000516\n",
      "[135]\tcv-test-mlogloss:0.706314+0.001881\tcv-train-mlogloss:0.695602+0.000523\n",
      "[136]\tcv-test-mlogloss:0.705196+0.001891\tcv-train-mlogloss:0.694415+0.000541\n",
      "[137]\tcv-test-mlogloss:0.704060+0.001887\tcv-train-mlogloss:0.693204+0.000536\n",
      "[138]\tcv-test-mlogloss:0.702976+0.001862\tcv-train-mlogloss:0.692049+0.000551\n",
      "[139]\tcv-test-mlogloss:0.701891+0.001881\tcv-train-mlogloss:0.690887+0.000538\n",
      "[140]\tcv-test-mlogloss:0.700842+0.001877\tcv-train-mlogloss:0.689761+0.000532\n",
      "[141]\tcv-test-mlogloss:0.699769+0.001874\tcv-train-mlogloss:0.688616+0.000539\n",
      "[142]\tcv-test-mlogloss:0.698759+0.001919\tcv-train-mlogloss:0.687533+0.000530\n",
      "[143]\tcv-test-mlogloss:0.697718+0.001940\tcv-train-mlogloss:0.686419+0.000509\n",
      "[144]\tcv-test-mlogloss:0.696686+0.001929\tcv-train-mlogloss:0.685313+0.000532\n",
      "[145]\tcv-test-mlogloss:0.695697+0.001963\tcv-train-mlogloss:0.684246+0.000525\n",
      "[146]\tcv-test-mlogloss:0.694674+0.001931\tcv-train-mlogloss:0.683156+0.000542\n",
      "[147]\tcv-test-mlogloss:0.693662+0.001930\tcv-train-mlogloss:0.682069+0.000550\n",
      "[148]\tcv-test-mlogloss:0.692672+0.001943\tcv-train-mlogloss:0.681006+0.000537\n",
      "[149]\tcv-test-mlogloss:0.691703+0.001946\tcv-train-mlogloss:0.679964+0.000539\n",
      "[150]\tcv-test-mlogloss:0.690732+0.001968\tcv-train-mlogloss:0.678929+0.000533\n",
      "[151]\tcv-test-mlogloss:0.689760+0.001999\tcv-train-mlogloss:0.677896+0.000517\n",
      "[152]\tcv-test-mlogloss:0.688845+0.002008\tcv-train-mlogloss:0.676916+0.000502\n",
      "[153]\tcv-test-mlogloss:0.687900+0.002012\tcv-train-mlogloss:0.675911+0.000489\n",
      "[154]\tcv-test-mlogloss:0.686966+0.001985\tcv-train-mlogloss:0.674911+0.000508\n",
      "[155]\tcv-test-mlogloss:0.686057+0.001983\tcv-train-mlogloss:0.673934+0.000520\n",
      "[156]\tcv-test-mlogloss:0.685188+0.001972\tcv-train-mlogloss:0.672999+0.000537\n",
      "[157]\tcv-test-mlogloss:0.684301+0.001987\tcv-train-mlogloss:0.672045+0.000535\n",
      "[158]\tcv-test-mlogloss:0.683434+0.002034\tcv-train-mlogloss:0.671103+0.000502\n",
      "[159]\tcv-test-mlogloss:0.682566+0.002016\tcv-train-mlogloss:0.670157+0.000524\n",
      "[160]\tcv-test-mlogloss:0.681685+0.002025\tcv-train-mlogloss:0.669206+0.000517\n",
      "[161]\tcv-test-mlogloss:0.680807+0.002020\tcv-train-mlogloss:0.668261+0.000544\n",
      "[162]\tcv-test-mlogloss:0.679970+0.002035\tcv-train-mlogloss:0.667364+0.000524\n",
      "[163]\tcv-test-mlogloss:0.679124+0.002047\tcv-train-mlogloss:0.666449+0.000520\n",
      "[164]\tcv-test-mlogloss:0.678300+0.002046\tcv-train-mlogloss:0.665555+0.000533\n",
      "[165]\tcv-test-mlogloss:0.677492+0.002078\tcv-train-mlogloss:0.664677+0.000516\n",
      "[166]\tcv-test-mlogloss:0.676687+0.002088\tcv-train-mlogloss:0.663807+0.000516\n",
      "[167]\tcv-test-mlogloss:0.675895+0.002117\tcv-train-mlogloss:0.662942+0.000499\n",
      "[168]\tcv-test-mlogloss:0.675107+0.002140\tcv-train-mlogloss:0.662084+0.000494\n",
      "[169]\tcv-test-mlogloss:0.674346+0.002151\tcv-train-mlogloss:0.661256+0.000521\n",
      "[170]\tcv-test-mlogloss:0.673562+0.002128\tcv-train-mlogloss:0.660405+0.000531\n",
      "[171]\tcv-test-mlogloss:0.672791+0.002147\tcv-train-mlogloss:0.659564+0.000503\n",
      "[172]\tcv-test-mlogloss:0.671989+0.002148\tcv-train-mlogloss:0.658699+0.000510\n",
      "[173]\tcv-test-mlogloss:0.671235+0.002137\tcv-train-mlogloss:0.657883+0.000544\n",
      "[174]\tcv-test-mlogloss:0.670482+0.002142\tcv-train-mlogloss:0.657067+0.000540\n",
      "[175]\tcv-test-mlogloss:0.669714+0.002154\tcv-train-mlogloss:0.656235+0.000547\n",
      "[176]\tcv-test-mlogloss:0.668994+0.002154\tcv-train-mlogloss:0.655452+0.000543\n",
      "[177]\tcv-test-mlogloss:0.668245+0.002151\tcv-train-mlogloss:0.654636+0.000547\n",
      "[178]\tcv-test-mlogloss:0.667542+0.002150\tcv-train-mlogloss:0.653868+0.000567\n",
      "[179]\tcv-test-mlogloss:0.666822+0.002151\tcv-train-mlogloss:0.653079+0.000568\n",
      "[180]\tcv-test-mlogloss:0.666098+0.002150\tcv-train-mlogloss:0.652295+0.000576\n",
      "[181]\tcv-test-mlogloss:0.665395+0.002160\tcv-train-mlogloss:0.651520+0.000577\n",
      "[182]\tcv-test-mlogloss:0.664691+0.002175\tcv-train-mlogloss:0.650754+0.000574\n",
      "[183]\tcv-test-mlogloss:0.663998+0.002184\tcv-train-mlogloss:0.649995+0.000584\n",
      "[184]\tcv-test-mlogloss:0.663326+0.002203\tcv-train-mlogloss:0.649260+0.000582\n",
      "[185]\tcv-test-mlogloss:0.662636+0.002189\tcv-train-mlogloss:0.648503+0.000582\n",
      "[186]\tcv-test-mlogloss:0.661997+0.002214\tcv-train-mlogloss:0.647796+0.000549\n",
      "[187]\tcv-test-mlogloss:0.661330+0.002216\tcv-train-mlogloss:0.647066+0.000549\n",
      "[188]\tcv-test-mlogloss:0.660664+0.002212\tcv-train-mlogloss:0.646332+0.000552\n",
      "[189]\tcv-test-mlogloss:0.659995+0.002216\tcv-train-mlogloss:0.645587+0.000560\n",
      "[190]\tcv-test-mlogloss:0.659349+0.002229\tcv-train-mlogloss:0.644872+0.000573\n",
      "[191]\tcv-test-mlogloss:0.658714+0.002242\tcv-train-mlogloss:0.644163+0.000572\n",
      "[192]\tcv-test-mlogloss:0.658067+0.002240\tcv-train-mlogloss:0.643454+0.000581\n",
      "[193]\tcv-test-mlogloss:0.657487+0.002265\tcv-train-mlogloss:0.642803+0.000564\n",
      "[194]\tcv-test-mlogloss:0.656870+0.002284\tcv-train-mlogloss:0.642123+0.000564\n",
      "[195]\tcv-test-mlogloss:0.656266+0.002291\tcv-train-mlogloss:0.641445+0.000558\n",
      "[196]\tcv-test-mlogloss:0.655655+0.002299\tcv-train-mlogloss:0.640770+0.000545\n",
      "[197]\tcv-test-mlogloss:0.655038+0.002288\tcv-train-mlogloss:0.640091+0.000556\n",
      "[198]\tcv-test-mlogloss:0.654459+0.002302\tcv-train-mlogloss:0.639443+0.000532\n",
      "[199]\tcv-test-mlogloss:0.653859+0.002305\tcv-train-mlogloss:0.638776+0.000555\n",
      "[200]\tcv-test-mlogloss:0.653300+0.002307\tcv-train-mlogloss:0.638150+0.000553\n",
      "[201]\tcv-test-mlogloss:0.652725+0.002321\tcv-train-mlogloss:0.637512+0.000552\n",
      "[202]\tcv-test-mlogloss:0.652138+0.002313\tcv-train-mlogloss:0.636863+0.000549\n",
      "[203]\tcv-test-mlogloss:0.651566+0.002326\tcv-train-mlogloss:0.636216+0.000547\n",
      "[204]\tcv-test-mlogloss:0.650987+0.002309\tcv-train-mlogloss:0.635580+0.000568\n",
      "[205]\tcv-test-mlogloss:0.650435+0.002310\tcv-train-mlogloss:0.634962+0.000574\n",
      "[206]\tcv-test-mlogloss:0.649859+0.002320\tcv-train-mlogloss:0.634322+0.000575\n",
      "[207]\tcv-test-mlogloss:0.649300+0.002315\tcv-train-mlogloss:0.633701+0.000562\n",
      "[208]\tcv-test-mlogloss:0.648774+0.002298\tcv-train-mlogloss:0.633110+0.000566\n",
      "[209]\tcv-test-mlogloss:0.648252+0.002308\tcv-train-mlogloss:0.632513+0.000545\n",
      "[210]\tcv-test-mlogloss:0.647727+0.002327\tcv-train-mlogloss:0.631917+0.000529\n",
      "[211]\tcv-test-mlogloss:0.647218+0.002323\tcv-train-mlogloss:0.631345+0.000515\n",
      "[212]\tcv-test-mlogloss:0.646721+0.002342\tcv-train-mlogloss:0.630780+0.000479\n",
      "[213]\tcv-test-mlogloss:0.646220+0.002345\tcv-train-mlogloss:0.630216+0.000480\n",
      "[214]\tcv-test-mlogloss:0.645735+0.002338\tcv-train-mlogloss:0.629652+0.000501\n",
      "[215]\tcv-test-mlogloss:0.645236+0.002361\tcv-train-mlogloss:0.629094+0.000499\n",
      "[216]\tcv-test-mlogloss:0.644732+0.002379\tcv-train-mlogloss:0.628516+0.000479\n",
      "[217]\tcv-test-mlogloss:0.644223+0.002392\tcv-train-mlogloss:0.627938+0.000460\n",
      "[218]\tcv-test-mlogloss:0.643715+0.002390\tcv-train-mlogloss:0.627364+0.000465\n",
      "[219]\tcv-test-mlogloss:0.643221+0.002403\tcv-train-mlogloss:0.626802+0.000463\n",
      "[220]\tcv-test-mlogloss:0.642731+0.002411\tcv-train-mlogloss:0.626247+0.000460\n",
      "[221]\tcv-test-mlogloss:0.642240+0.002402\tcv-train-mlogloss:0.625690+0.000473\n",
      "[222]\tcv-test-mlogloss:0.641747+0.002396\tcv-train-mlogloss:0.625135+0.000482\n",
      "[223]\tcv-test-mlogloss:0.641261+0.002392\tcv-train-mlogloss:0.624587+0.000498\n",
      "[224]\tcv-test-mlogloss:0.640807+0.002422\tcv-train-mlogloss:0.624071+0.000475\n",
      "[225]\tcv-test-mlogloss:0.640339+0.002419\tcv-train-mlogloss:0.623542+0.000494\n",
      "[226]\tcv-test-mlogloss:0.639869+0.002432\tcv-train-mlogloss:0.623013+0.000497\n",
      "[227]\tcv-test-mlogloss:0.639439+0.002422\tcv-train-mlogloss:0.622517+0.000513\n",
      "[228]\tcv-test-mlogloss:0.639016+0.002409\tcv-train-mlogloss:0.622027+0.000549\n",
      "[229]\tcv-test-mlogloss:0.638557+0.002395\tcv-train-mlogloss:0.621507+0.000565\n",
      "[230]\tcv-test-mlogloss:0.638094+0.002416\tcv-train-mlogloss:0.620980+0.000546\n",
      "[231]\tcv-test-mlogloss:0.637676+0.002417\tcv-train-mlogloss:0.620500+0.000561\n",
      "[232]\tcv-test-mlogloss:0.637236+0.002418\tcv-train-mlogloss:0.619997+0.000536\n",
      "[233]\tcv-test-mlogloss:0.636798+0.002415\tcv-train-mlogloss:0.619491+0.000568\n",
      "[234]\tcv-test-mlogloss:0.636365+0.002419\tcv-train-mlogloss:0.619000+0.000547\n",
      "[235]\tcv-test-mlogloss:0.635948+0.002428\tcv-train-mlogloss:0.618520+0.000519\n",
      "[236]\tcv-test-mlogloss:0.635541+0.002428\tcv-train-mlogloss:0.618054+0.000504\n",
      "[237]\tcv-test-mlogloss:0.635135+0.002427\tcv-train-mlogloss:0.617595+0.000538\n",
      "[238]\tcv-test-mlogloss:0.634719+0.002426\tcv-train-mlogloss:0.617118+0.000525\n",
      "[239]\tcv-test-mlogloss:0.634306+0.002429\tcv-train-mlogloss:0.616650+0.000525\n",
      "[240]\tcv-test-mlogloss:0.633867+0.002448\tcv-train-mlogloss:0.616144+0.000513\n",
      "[241]\tcv-test-mlogloss:0.633474+0.002462\tcv-train-mlogloss:0.615683+0.000501\n",
      "[242]\tcv-test-mlogloss:0.633078+0.002468\tcv-train-mlogloss:0.615219+0.000486\n",
      "[243]\tcv-test-mlogloss:0.632693+0.002459\tcv-train-mlogloss:0.614768+0.000505\n",
      "[244]\tcv-test-mlogloss:0.632301+0.002459\tcv-train-mlogloss:0.614317+0.000508\n",
      "[245]\tcv-test-mlogloss:0.631896+0.002468\tcv-train-mlogloss:0.613853+0.000507\n",
      "[246]\tcv-test-mlogloss:0.631507+0.002459\tcv-train-mlogloss:0.613404+0.000513\n",
      "[247]\tcv-test-mlogloss:0.631121+0.002445\tcv-train-mlogloss:0.612950+0.000517\n",
      "[248]\tcv-test-mlogloss:0.630740+0.002427\tcv-train-mlogloss:0.612507+0.000513\n",
      "[249]\tcv-test-mlogloss:0.630362+0.002423\tcv-train-mlogloss:0.612066+0.000505\n",
      "[250]\tcv-test-mlogloss:0.629978+0.002418\tcv-train-mlogloss:0.611618+0.000507\n",
      "[251]\tcv-test-mlogloss:0.629593+0.002403\tcv-train-mlogloss:0.611166+0.000517\n",
      "[252]\tcv-test-mlogloss:0.629243+0.002400\tcv-train-mlogloss:0.610751+0.000537\n",
      "[253]\tcv-test-mlogloss:0.628880+0.002401\tcv-train-mlogloss:0.610324+0.000550\n",
      "[254]\tcv-test-mlogloss:0.628535+0.002384\tcv-train-mlogloss:0.609916+0.000552\n",
      "[255]\tcv-test-mlogloss:0.628181+0.002377\tcv-train-mlogloss:0.609501+0.000567\n",
      "[256]\tcv-test-mlogloss:0.627814+0.002386\tcv-train-mlogloss:0.609066+0.000554\n",
      "[257]\tcv-test-mlogloss:0.627462+0.002386\tcv-train-mlogloss:0.608650+0.000543\n",
      "[258]\tcv-test-mlogloss:0.627112+0.002368\tcv-train-mlogloss:0.608242+0.000565\n",
      "[259]\tcv-test-mlogloss:0.626751+0.002368\tcv-train-mlogloss:0.607823+0.000558\n",
      "[260]\tcv-test-mlogloss:0.626391+0.002372\tcv-train-mlogloss:0.607400+0.000545\n",
      "[261]\tcv-test-mlogloss:0.626060+0.002359\tcv-train-mlogloss:0.607005+0.000564\n",
      "[262]\tcv-test-mlogloss:0.625712+0.002357\tcv-train-mlogloss:0.606597+0.000556\n",
      "[263]\tcv-test-mlogloss:0.625378+0.002373\tcv-train-mlogloss:0.606206+0.000529\n",
      "[264]\tcv-test-mlogloss:0.625048+0.002364\tcv-train-mlogloss:0.605809+0.000542\n",
      "[265]\tcv-test-mlogloss:0.624704+0.002357\tcv-train-mlogloss:0.605396+0.000554\n",
      "[266]\tcv-test-mlogloss:0.624350+0.002349\tcv-train-mlogloss:0.604980+0.000560\n",
      "[267]\tcv-test-mlogloss:0.624024+0.002351\tcv-train-mlogloss:0.604589+0.000576\n",
      "[268]\tcv-test-mlogloss:0.623719+0.002349\tcv-train-mlogloss:0.604222+0.000571\n",
      "[269]\tcv-test-mlogloss:0.623416+0.002362\tcv-train-mlogloss:0.603861+0.000549\n",
      "[270]\tcv-test-mlogloss:0.623101+0.002365\tcv-train-mlogloss:0.603483+0.000534\n",
      "[271]\tcv-test-mlogloss:0.622791+0.002376\tcv-train-mlogloss:0.603107+0.000501\n",
      "[272]\tcv-test-mlogloss:0.622467+0.002374\tcv-train-mlogloss:0.602734+0.000502\n",
      "[273]\tcv-test-mlogloss:0.622133+0.002362\tcv-train-mlogloss:0.602333+0.000509\n",
      "[274]\tcv-test-mlogloss:0.621819+0.002388\tcv-train-mlogloss:0.601957+0.000495\n",
      "[275]\tcv-test-mlogloss:0.621504+0.002381\tcv-train-mlogloss:0.601585+0.000518\n",
      "[276]\tcv-test-mlogloss:0.621212+0.002390\tcv-train-mlogloss:0.601231+0.000512\n",
      "[277]\tcv-test-mlogloss:0.620931+0.002373\tcv-train-mlogloss:0.600888+0.000517\n",
      "[278]\tcv-test-mlogloss:0.620633+0.002372\tcv-train-mlogloss:0.600531+0.000512\n",
      "[279]\tcv-test-mlogloss:0.620368+0.002382\tcv-train-mlogloss:0.600201+0.000502\n",
      "[280]\tcv-test-mlogloss:0.620075+0.002396\tcv-train-mlogloss:0.599851+0.000492\n",
      "[281]\tcv-test-mlogloss:0.619814+0.002403\tcv-train-mlogloss:0.599529+0.000488\n",
      "[282]\tcv-test-mlogloss:0.619519+0.002392\tcv-train-mlogloss:0.599170+0.000494\n",
      "[283]\tcv-test-mlogloss:0.619229+0.002408\tcv-train-mlogloss:0.598818+0.000479\n",
      "[284]\tcv-test-mlogloss:0.618919+0.002395\tcv-train-mlogloss:0.598449+0.000482\n",
      "[285]\tcv-test-mlogloss:0.618619+0.002418\tcv-train-mlogloss:0.598090+0.000449\n",
      "[286]\tcv-test-mlogloss:0.618339+0.002407\tcv-train-mlogloss:0.597746+0.000451\n",
      "[287]\tcv-test-mlogloss:0.618076+0.002415\tcv-train-mlogloss:0.597421+0.000441\n",
      "[288]\tcv-test-mlogloss:0.617801+0.002421\tcv-train-mlogloss:0.597091+0.000439\n",
      "[289]\tcv-test-mlogloss:0.617521+0.002418\tcv-train-mlogloss:0.596748+0.000432\n",
      "[290]\tcv-test-mlogloss:0.617243+0.002404\tcv-train-mlogloss:0.596401+0.000442\n",
      "[291]\tcv-test-mlogloss:0.616981+0.002401\tcv-train-mlogloss:0.596083+0.000443\n",
      "[292]\tcv-test-mlogloss:0.616713+0.002409\tcv-train-mlogloss:0.595750+0.000437\n",
      "[293]\tcv-test-mlogloss:0.616435+0.002419\tcv-train-mlogloss:0.595414+0.000428\n",
      "[294]\tcv-test-mlogloss:0.616163+0.002405\tcv-train-mlogloss:0.595087+0.000437\n",
      "[295]\tcv-test-mlogloss:0.615908+0.002402\tcv-train-mlogloss:0.594775+0.000441\n",
      "[296]\tcv-test-mlogloss:0.615611+0.002400\tcv-train-mlogloss:0.594423+0.000449\n",
      "[297]\tcv-test-mlogloss:0.615345+0.002382\tcv-train-mlogloss:0.594103+0.000466\n",
      "[298]\tcv-test-mlogloss:0.615078+0.002403\tcv-train-mlogloss:0.593771+0.000443\n",
      "[299]\tcv-test-mlogloss:0.614819+0.002410\tcv-train-mlogloss:0.593453+0.000437\n",
      "[300]\tcv-test-mlogloss:0.614552+0.002409\tcv-train-mlogloss:0.593123+0.000442\n",
      "[301]\tcv-test-mlogloss:0.614277+0.002405\tcv-train-mlogloss:0.592792+0.000456\n",
      "[302]\tcv-test-mlogloss:0.614033+0.002399\tcv-train-mlogloss:0.592474+0.000452\n",
      "[303]\tcv-test-mlogloss:0.613773+0.002375\tcv-train-mlogloss:0.592167+0.000477\n",
      "[304]\tcv-test-mlogloss:0.613515+0.002371\tcv-train-mlogloss:0.591849+0.000477\n",
      "[305]\tcv-test-mlogloss:0.613259+0.002374\tcv-train-mlogloss:0.591536+0.000478\n",
      "[306]\tcv-test-mlogloss:0.613027+0.002357\tcv-train-mlogloss:0.591245+0.000489\n",
      "[307]\tcv-test-mlogloss:0.612788+0.002343\tcv-train-mlogloss:0.590947+0.000497\n",
      "[308]\tcv-test-mlogloss:0.612546+0.002356\tcv-train-mlogloss:0.590645+0.000493\n",
      "[309]\tcv-test-mlogloss:0.612312+0.002347\tcv-train-mlogloss:0.590354+0.000502\n",
      "[310]\tcv-test-mlogloss:0.612059+0.002343\tcv-train-mlogloss:0.590038+0.000511\n",
      "[311]\tcv-test-mlogloss:0.611820+0.002332\tcv-train-mlogloss:0.589736+0.000523\n",
      "[312]\tcv-test-mlogloss:0.611574+0.002332\tcv-train-mlogloss:0.589437+0.000531\n",
      "[313]\tcv-test-mlogloss:0.611366+0.002328\tcv-train-mlogloss:0.589159+0.000539\n",
      "[314]\tcv-test-mlogloss:0.611132+0.002341\tcv-train-mlogloss:0.588870+0.000541\n",
      "[315]\tcv-test-mlogloss:0.610895+0.002337\tcv-train-mlogloss:0.588571+0.000536\n",
      "[316]\tcv-test-mlogloss:0.610668+0.002329\tcv-train-mlogloss:0.588288+0.000539\n",
      "[317]\tcv-test-mlogloss:0.610428+0.002332\tcv-train-mlogloss:0.587988+0.000532\n",
      "[318]\tcv-test-mlogloss:0.610192+0.002326\tcv-train-mlogloss:0.587690+0.000540\n",
      "[319]\tcv-test-mlogloss:0.609968+0.002321\tcv-train-mlogloss:0.587414+0.000553\n",
      "[320]\tcv-test-mlogloss:0.609717+0.002317\tcv-train-mlogloss:0.587105+0.000562\n",
      "[321]\tcv-test-mlogloss:0.609500+0.002327\tcv-train-mlogloss:0.586822+0.000554\n",
      "[322]\tcv-test-mlogloss:0.609278+0.002322\tcv-train-mlogloss:0.586534+0.000567\n",
      "[323]\tcv-test-mlogloss:0.609052+0.002318\tcv-train-mlogloss:0.586249+0.000576\n",
      "[324]\tcv-test-mlogloss:0.608841+0.002317\tcv-train-mlogloss:0.585976+0.000567\n",
      "[325]\tcv-test-mlogloss:0.608602+0.002314\tcv-train-mlogloss:0.585683+0.000569\n",
      "[326]\tcv-test-mlogloss:0.608402+0.002339\tcv-train-mlogloss:0.585417+0.000546\n",
      "[327]\tcv-test-mlogloss:0.608185+0.002322\tcv-train-mlogloss:0.585138+0.000568\n",
      "[328]\tcv-test-mlogloss:0.607972+0.002322\tcv-train-mlogloss:0.584862+0.000567\n",
      "[329]\tcv-test-mlogloss:0.607757+0.002327\tcv-train-mlogloss:0.584572+0.000565\n",
      "[330]\tcv-test-mlogloss:0.607546+0.002327\tcv-train-mlogloss:0.584293+0.000564\n",
      "[331]\tcv-test-mlogloss:0.607337+0.002342\tcv-train-mlogloss:0.584029+0.000544\n",
      "[332]\tcv-test-mlogloss:0.607141+0.002342\tcv-train-mlogloss:0.583759+0.000547\n",
      "[333]\tcv-test-mlogloss:0.606939+0.002365\tcv-train-mlogloss:0.583500+0.000527\n",
      "[334]\tcv-test-mlogloss:0.606737+0.002370\tcv-train-mlogloss:0.583238+0.000526\n",
      "[335]\tcv-test-mlogloss:0.606547+0.002373\tcv-train-mlogloss:0.582991+0.000521\n",
      "[336]\tcv-test-mlogloss:0.606347+0.002384\tcv-train-mlogloss:0.582731+0.000513\n",
      "[337]\tcv-test-mlogloss:0.606129+0.002371\tcv-train-mlogloss:0.582463+0.000535\n",
      "[338]\tcv-test-mlogloss:0.605939+0.002351\tcv-train-mlogloss:0.582218+0.000552\n",
      "[339]\tcv-test-mlogloss:0.605736+0.002346\tcv-train-mlogloss:0.581957+0.000557\n",
      "[340]\tcv-test-mlogloss:0.605545+0.002327\tcv-train-mlogloss:0.581694+0.000568\n",
      "[341]\tcv-test-mlogloss:0.605365+0.002334\tcv-train-mlogloss:0.581460+0.000556\n",
      "[342]\tcv-test-mlogloss:0.605176+0.002346\tcv-train-mlogloss:0.581217+0.000546\n",
      "[343]\tcv-test-mlogloss:0.604994+0.002361\tcv-train-mlogloss:0.580976+0.000538\n",
      "[344]\tcv-test-mlogloss:0.604805+0.002371\tcv-train-mlogloss:0.580728+0.000536\n",
      "[345]\tcv-test-mlogloss:0.604624+0.002386\tcv-train-mlogloss:0.580482+0.000520\n",
      "[346]\tcv-test-mlogloss:0.604436+0.002387\tcv-train-mlogloss:0.580235+0.000527\n",
      "[347]\tcv-test-mlogloss:0.604250+0.002392\tcv-train-mlogloss:0.579987+0.000517\n",
      "[348]\tcv-test-mlogloss:0.604061+0.002387\tcv-train-mlogloss:0.579743+0.000531\n",
      "[349]\tcv-test-mlogloss:0.603873+0.002380\tcv-train-mlogloss:0.579501+0.000538\n",
      "[350]\tcv-test-mlogloss:0.603691+0.002371\tcv-train-mlogloss:0.579259+0.000544\n",
      "[351]\tcv-test-mlogloss:0.603502+0.002360\tcv-train-mlogloss:0.579019+0.000559\n",
      "[352]\tcv-test-mlogloss:0.603319+0.002358\tcv-train-mlogloss:0.578781+0.000564\n",
      "[353]\tcv-test-mlogloss:0.603133+0.002352\tcv-train-mlogloss:0.578539+0.000565\n",
      "[354]\tcv-test-mlogloss:0.602942+0.002345\tcv-train-mlogloss:0.578283+0.000578\n",
      "[355]\tcv-test-mlogloss:0.602768+0.002356\tcv-train-mlogloss:0.578050+0.000575\n",
      "[356]\tcv-test-mlogloss:0.602592+0.002348\tcv-train-mlogloss:0.577813+0.000584\n",
      "[357]\tcv-test-mlogloss:0.602417+0.002357\tcv-train-mlogloss:0.577583+0.000571\n",
      "[358]\tcv-test-mlogloss:0.602242+0.002353\tcv-train-mlogloss:0.577345+0.000567\n",
      "[359]\tcv-test-mlogloss:0.602076+0.002362\tcv-train-mlogloss:0.577117+0.000566\n",
      "[360]\tcv-test-mlogloss:0.601911+0.002375\tcv-train-mlogloss:0.576886+0.000561\n",
      "[361]\tcv-test-mlogloss:0.601747+0.002378\tcv-train-mlogloss:0.576656+0.000565\n",
      "[362]\tcv-test-mlogloss:0.601580+0.002394\tcv-train-mlogloss:0.576429+0.000551\n",
      "[363]\tcv-test-mlogloss:0.601432+0.002402\tcv-train-mlogloss:0.576213+0.000533\n",
      "[364]\tcv-test-mlogloss:0.601268+0.002390\tcv-train-mlogloss:0.575988+0.000537\n",
      "[365]\tcv-test-mlogloss:0.601087+0.002390\tcv-train-mlogloss:0.575746+0.000539\n",
      "[366]\tcv-test-mlogloss:0.600916+0.002390\tcv-train-mlogloss:0.575522+0.000544\n",
      "[367]\tcv-test-mlogloss:0.600749+0.002380\tcv-train-mlogloss:0.575297+0.000551\n",
      "[368]\tcv-test-mlogloss:0.600579+0.002382\tcv-train-mlogloss:0.575063+0.000557\n",
      "[369]\tcv-test-mlogloss:0.600428+0.002370\tcv-train-mlogloss:0.574855+0.000576\n",
      "[370]\tcv-test-mlogloss:0.600265+0.002370\tcv-train-mlogloss:0.574633+0.000578\n",
      "[371]\tcv-test-mlogloss:0.600098+0.002372\tcv-train-mlogloss:0.574408+0.000588\n",
      "[372]\tcv-test-mlogloss:0.599949+0.002383\tcv-train-mlogloss:0.574193+0.000582\n",
      "[373]\tcv-test-mlogloss:0.599803+0.002370\tcv-train-mlogloss:0.573994+0.000589\n",
      "[374]\tcv-test-mlogloss:0.599645+0.002360\tcv-train-mlogloss:0.573783+0.000606\n",
      "[375]\tcv-test-mlogloss:0.599496+0.002367\tcv-train-mlogloss:0.573568+0.000607\n",
      "[376]\tcv-test-mlogloss:0.599353+0.002379\tcv-train-mlogloss:0.573359+0.000593\n",
      "[377]\tcv-test-mlogloss:0.599207+0.002386\tcv-train-mlogloss:0.573156+0.000586\n",
      "[378]\tcv-test-mlogloss:0.599067+0.002380\tcv-train-mlogloss:0.572961+0.000592\n",
      "[379]\tcv-test-mlogloss:0.598928+0.002384\tcv-train-mlogloss:0.572764+0.000587\n",
      "[380]\tcv-test-mlogloss:0.598764+0.002393\tcv-train-mlogloss:0.572537+0.000577\n",
      "[381]\tcv-test-mlogloss:0.598615+0.002380\tcv-train-mlogloss:0.572332+0.000595\n",
      "[382]\tcv-test-mlogloss:0.598456+0.002370\tcv-train-mlogloss:0.572112+0.000607\n",
      "[383]\tcv-test-mlogloss:0.598308+0.002383\tcv-train-mlogloss:0.571911+0.000608\n",
      "[384]\tcv-test-mlogloss:0.598157+0.002384\tcv-train-mlogloss:0.571700+0.000603\n",
      "[385]\tcv-test-mlogloss:0.598001+0.002402\tcv-train-mlogloss:0.571482+0.000584\n",
      "[386]\tcv-test-mlogloss:0.597849+0.002401\tcv-train-mlogloss:0.571277+0.000577\n",
      "[387]\tcv-test-mlogloss:0.597695+0.002405\tcv-train-mlogloss:0.571071+0.000577\n",
      "[388]\tcv-test-mlogloss:0.597566+0.002417\tcv-train-mlogloss:0.570883+0.000571\n",
      "[389]\tcv-test-mlogloss:0.597433+0.002421\tcv-train-mlogloss:0.570690+0.000567\n",
      "[390]\tcv-test-mlogloss:0.597294+0.002424\tcv-train-mlogloss:0.570490+0.000564\n",
      "[391]\tcv-test-mlogloss:0.597152+0.002440\tcv-train-mlogloss:0.570289+0.000542\n",
      "[392]\tcv-test-mlogloss:0.596998+0.002414\tcv-train-mlogloss:0.570080+0.000560\n",
      "[393]\tcv-test-mlogloss:0.596864+0.002412\tcv-train-mlogloss:0.569885+0.000559\n",
      "[394]\tcv-test-mlogloss:0.596739+0.002412\tcv-train-mlogloss:0.569700+0.000559\n",
      "[395]\tcv-test-mlogloss:0.596594+0.002413\tcv-train-mlogloss:0.569497+0.000551\n",
      "[396]\tcv-test-mlogloss:0.596446+0.002404\tcv-train-mlogloss:0.569293+0.000566\n",
      "[397]\tcv-test-mlogloss:0.596310+0.002388\tcv-train-mlogloss:0.569095+0.000573\n",
      "[398]\tcv-test-mlogloss:0.596172+0.002390\tcv-train-mlogloss:0.568896+0.000575\n",
      "[399]\tcv-test-mlogloss:0.596022+0.002379\tcv-train-mlogloss:0.568693+0.000592\n",
      "[400]\tcv-test-mlogloss:0.595892+0.002378\tcv-train-mlogloss:0.568495+0.000587\n",
      "[401]\tcv-test-mlogloss:0.595765+0.002377\tcv-train-mlogloss:0.568314+0.000590\n",
      "[402]\tcv-test-mlogloss:0.595641+0.002389\tcv-train-mlogloss:0.568134+0.000576\n",
      "[403]\tcv-test-mlogloss:0.595509+0.002387\tcv-train-mlogloss:0.567945+0.000572\n",
      "[404]\tcv-test-mlogloss:0.595389+0.002381\tcv-train-mlogloss:0.567769+0.000591\n",
      "[405]\tcv-test-mlogloss:0.595267+0.002361\tcv-train-mlogloss:0.567592+0.000608\n",
      "[406]\tcv-test-mlogloss:0.595125+0.002350\tcv-train-mlogloss:0.567391+0.000611\n",
      "[407]\tcv-test-mlogloss:0.595003+0.002348\tcv-train-mlogloss:0.567213+0.000617\n",
      "[408]\tcv-test-mlogloss:0.594877+0.002360\tcv-train-mlogloss:0.567033+0.000611\n",
      "[409]\tcv-test-mlogloss:0.594738+0.002345\tcv-train-mlogloss:0.566839+0.000616\n",
      "[410]\tcv-test-mlogloss:0.594598+0.002344\tcv-train-mlogloss:0.566643+0.000615\n",
      "[411]\tcv-test-mlogloss:0.594478+0.002331\tcv-train-mlogloss:0.566462+0.000633\n",
      "[412]\tcv-test-mlogloss:0.594351+0.002330\tcv-train-mlogloss:0.566269+0.000634\n",
      "[413]\tcv-test-mlogloss:0.594223+0.002315\tcv-train-mlogloss:0.566082+0.000646\n",
      "[414]\tcv-test-mlogloss:0.594098+0.002318\tcv-train-mlogloss:0.565902+0.000638\n",
      "[415]\tcv-test-mlogloss:0.593978+0.002321\tcv-train-mlogloss:0.565718+0.000631\n",
      "[416]\tcv-test-mlogloss:0.593855+0.002319\tcv-train-mlogloss:0.565537+0.000643\n",
      "[417]\tcv-test-mlogloss:0.593724+0.002318\tcv-train-mlogloss:0.565350+0.000649\n",
      "[418]\tcv-test-mlogloss:0.593595+0.002316\tcv-train-mlogloss:0.565159+0.000654\n",
      "[419]\tcv-test-mlogloss:0.593482+0.002313\tcv-train-mlogloss:0.564993+0.000658\n",
      "[420]\tcv-test-mlogloss:0.593369+0.002308\tcv-train-mlogloss:0.564813+0.000655\n",
      "[421]\tcv-test-mlogloss:0.593250+0.002326\tcv-train-mlogloss:0.564641+0.000632\n",
      "[422]\tcv-test-mlogloss:0.593126+0.002325\tcv-train-mlogloss:0.564462+0.000629\n",
      "[423]\tcv-test-mlogloss:0.593008+0.002326\tcv-train-mlogloss:0.564291+0.000626\n",
      "[424]\tcv-test-mlogloss:0.592894+0.002321\tcv-train-mlogloss:0.564116+0.000641\n",
      "[425]\tcv-test-mlogloss:0.592768+0.002314\tcv-train-mlogloss:0.563937+0.000644\n",
      "[426]\tcv-test-mlogloss:0.592640+0.002325\tcv-train-mlogloss:0.563745+0.000631\n",
      "[427]\tcv-test-mlogloss:0.592526+0.002317\tcv-train-mlogloss:0.563571+0.000641\n",
      "[428]\tcv-test-mlogloss:0.592402+0.002333\tcv-train-mlogloss:0.563383+0.000633\n",
      "[429]\tcv-test-mlogloss:0.592288+0.002341\tcv-train-mlogloss:0.563217+0.000624\n",
      "[430]\tcv-test-mlogloss:0.592167+0.002332\tcv-train-mlogloss:0.563039+0.000636\n",
      "[431]\tcv-test-mlogloss:0.592053+0.002322\tcv-train-mlogloss:0.562872+0.000646\n",
      "[432]\tcv-test-mlogloss:0.591928+0.002315\tcv-train-mlogloss:0.562685+0.000648\n",
      "[433]\tcv-test-mlogloss:0.591833+0.002320\tcv-train-mlogloss:0.562528+0.000649\n",
      "[434]\tcv-test-mlogloss:0.591713+0.002319\tcv-train-mlogloss:0.562343+0.000655\n",
      "[435]\tcv-test-mlogloss:0.591619+0.002311\tcv-train-mlogloss:0.562186+0.000655\n",
      "[436]\tcv-test-mlogloss:0.591504+0.002303\tcv-train-mlogloss:0.562015+0.000658\n",
      "[437]\tcv-test-mlogloss:0.591388+0.002301\tcv-train-mlogloss:0.561845+0.000656\n",
      "[438]\tcv-test-mlogloss:0.591291+0.002303\tcv-train-mlogloss:0.561689+0.000646\n",
      "[439]\tcv-test-mlogloss:0.591177+0.002298\tcv-train-mlogloss:0.561515+0.000647\n",
      "[440]\tcv-test-mlogloss:0.591054+0.002296\tcv-train-mlogloss:0.561326+0.000649\n",
      "[441]\tcv-test-mlogloss:0.590942+0.002299\tcv-train-mlogloss:0.561154+0.000645\n",
      "[442]\tcv-test-mlogloss:0.590821+0.002299\tcv-train-mlogloss:0.560974+0.000650\n",
      "[443]\tcv-test-mlogloss:0.590713+0.002304\tcv-train-mlogloss:0.560803+0.000648\n",
      "[444]\tcv-test-mlogloss:0.590606+0.002306\tcv-train-mlogloss:0.560636+0.000644\n",
      "[445]\tcv-test-mlogloss:0.590500+0.002297\tcv-train-mlogloss:0.560469+0.000651\n",
      "[446]\tcv-test-mlogloss:0.590392+0.002303\tcv-train-mlogloss:0.560305+0.000641\n",
      "[447]\tcv-test-mlogloss:0.590291+0.002296\tcv-train-mlogloss:0.560145+0.000642\n",
      "[448]\tcv-test-mlogloss:0.590176+0.002288\tcv-train-mlogloss:0.559976+0.000655\n",
      "[449]\tcv-test-mlogloss:0.590075+0.002284\tcv-train-mlogloss:0.559819+0.000657\n",
      "[450]\tcv-test-mlogloss:0.589963+0.002282\tcv-train-mlogloss:0.559647+0.000657\n",
      "[451]\tcv-test-mlogloss:0.589855+0.002277\tcv-train-mlogloss:0.559474+0.000668\n",
      "[452]\tcv-test-mlogloss:0.589751+0.002274\tcv-train-mlogloss:0.559304+0.000671\n",
      "[453]\tcv-test-mlogloss:0.589655+0.002281\tcv-train-mlogloss:0.559148+0.000674\n",
      "[454]\tcv-test-mlogloss:0.589548+0.002273\tcv-train-mlogloss:0.558981+0.000680\n",
      "[455]\tcv-test-mlogloss:0.589459+0.002282\tcv-train-mlogloss:0.558827+0.000691\n",
      "[456]\tcv-test-mlogloss:0.589346+0.002276\tcv-train-mlogloss:0.558645+0.000694\n",
      "[457]\tcv-test-mlogloss:0.589246+0.002282\tcv-train-mlogloss:0.558491+0.000700\n",
      "[458]\tcv-test-mlogloss:0.589127+0.002278\tcv-train-mlogloss:0.558318+0.000695\n",
      "[459]\tcv-test-mlogloss:0.589020+0.002286\tcv-train-mlogloss:0.558152+0.000678\n",
      "[460]\tcv-test-mlogloss:0.588920+0.002293\tcv-train-mlogloss:0.557988+0.000678\n",
      "[461]\tcv-test-mlogloss:0.588817+0.002304\tcv-train-mlogloss:0.557816+0.000655\n",
      "[462]\tcv-test-mlogloss:0.588713+0.002308\tcv-train-mlogloss:0.557651+0.000654\n",
      "[463]\tcv-test-mlogloss:0.588620+0.002316\tcv-train-mlogloss:0.557501+0.000653\n",
      "[464]\tcv-test-mlogloss:0.588500+0.002334\tcv-train-mlogloss:0.557326+0.000644\n",
      "[465]\tcv-test-mlogloss:0.588391+0.002336\tcv-train-mlogloss:0.557154+0.000639\n",
      "[466]\tcv-test-mlogloss:0.588288+0.002332\tcv-train-mlogloss:0.556986+0.000653\n",
      "[467]\tcv-test-mlogloss:0.588200+0.002330\tcv-train-mlogloss:0.556838+0.000661\n",
      "[468]\tcv-test-mlogloss:0.588109+0.002323\tcv-train-mlogloss:0.556688+0.000669\n",
      "[469]\tcv-test-mlogloss:0.588011+0.002330\tcv-train-mlogloss:0.556527+0.000679\n",
      "[470]\tcv-test-mlogloss:0.587930+0.002335\tcv-train-mlogloss:0.556380+0.000693\n",
      "[471]\tcv-test-mlogloss:0.587855+0.002332\tcv-train-mlogloss:0.556240+0.000691\n",
      "[472]\tcv-test-mlogloss:0.587768+0.002346\tcv-train-mlogloss:0.556094+0.000688\n",
      "[473]\tcv-test-mlogloss:0.587666+0.002352\tcv-train-mlogloss:0.555933+0.000673\n",
      "[474]\tcv-test-mlogloss:0.587564+0.002359\tcv-train-mlogloss:0.555771+0.000661\n",
      "[475]\tcv-test-mlogloss:0.587470+0.002366\tcv-train-mlogloss:0.555614+0.000659\n",
      "[476]\tcv-test-mlogloss:0.587377+0.002361\tcv-train-mlogloss:0.555461+0.000650\n",
      "[477]\tcv-test-mlogloss:0.587270+0.002356\tcv-train-mlogloss:0.555293+0.000642\n",
      "[478]\tcv-test-mlogloss:0.587176+0.002352\tcv-train-mlogloss:0.555131+0.000642\n",
      "[479]\tcv-test-mlogloss:0.587087+0.002346\tcv-train-mlogloss:0.554980+0.000651\n",
      "[480]\tcv-test-mlogloss:0.586992+0.002343\tcv-train-mlogloss:0.554826+0.000653\n",
      "[481]\tcv-test-mlogloss:0.586898+0.002335\tcv-train-mlogloss:0.554678+0.000655\n",
      "[482]\tcv-test-mlogloss:0.586806+0.002343\tcv-train-mlogloss:0.554524+0.000640\n",
      "[483]\tcv-test-mlogloss:0.586733+0.002339\tcv-train-mlogloss:0.554385+0.000650\n",
      "[484]\tcv-test-mlogloss:0.586652+0.002342\tcv-train-mlogloss:0.554238+0.000649\n",
      "[485]\tcv-test-mlogloss:0.586563+0.002341\tcv-train-mlogloss:0.554078+0.000647\n",
      "[486]\tcv-test-mlogloss:0.586479+0.002344\tcv-train-mlogloss:0.553934+0.000650\n",
      "[487]\tcv-test-mlogloss:0.586395+0.002356\tcv-train-mlogloss:0.553781+0.000651\n",
      "[488]\tcv-test-mlogloss:0.586305+0.002362\tcv-train-mlogloss:0.553631+0.000652\n",
      "[489]\tcv-test-mlogloss:0.586217+0.002353\tcv-train-mlogloss:0.553473+0.000641\n",
      "[490]\tcv-test-mlogloss:0.586120+0.002348\tcv-train-mlogloss:0.553315+0.000650\n",
      "[491]\tcv-test-mlogloss:0.586033+0.002352\tcv-train-mlogloss:0.553161+0.000646\n",
      "[492]\tcv-test-mlogloss:0.585930+0.002339\tcv-train-mlogloss:0.552987+0.000646\n",
      "[493]\tcv-test-mlogloss:0.585843+0.002335\tcv-train-mlogloss:0.552840+0.000643\n",
      "[494]\tcv-test-mlogloss:0.585750+0.002340\tcv-train-mlogloss:0.552687+0.000638\n",
      "[495]\tcv-test-mlogloss:0.585650+0.002338\tcv-train-mlogloss:0.552519+0.000647\n",
      "[496]\tcv-test-mlogloss:0.585567+0.002349\tcv-train-mlogloss:0.552359+0.000644\n",
      "[497]\tcv-test-mlogloss:0.585477+0.002348\tcv-train-mlogloss:0.552202+0.000641\n",
      "[498]\tcv-test-mlogloss:0.585404+0.002362\tcv-train-mlogloss:0.552065+0.000624\n",
      "[499]\tcv-test-mlogloss:0.585322+0.002356\tcv-train-mlogloss:0.551923+0.000625\n",
      "[500]\tcv-test-mlogloss:0.585252+0.002357\tcv-train-mlogloss:0.551780+0.000624\n",
      "[501]\tcv-test-mlogloss:0.585167+0.002358\tcv-train-mlogloss:0.551624+0.000629\n",
      "[502]\tcv-test-mlogloss:0.585079+0.002359\tcv-train-mlogloss:0.551474+0.000616\n",
      "[503]\tcv-test-mlogloss:0.584990+0.002368\tcv-train-mlogloss:0.551316+0.000607\n",
      "[504]\tcv-test-mlogloss:0.584897+0.002369\tcv-train-mlogloss:0.551159+0.000597\n",
      "[505]\tcv-test-mlogloss:0.584820+0.002369\tcv-train-mlogloss:0.551016+0.000603\n",
      "[506]\tcv-test-mlogloss:0.584743+0.002365\tcv-train-mlogloss:0.550873+0.000593\n",
      "[507]\tcv-test-mlogloss:0.584651+0.002356\tcv-train-mlogloss:0.550716+0.000601\n",
      "[508]\tcv-test-mlogloss:0.584563+0.002354\tcv-train-mlogloss:0.550550+0.000602\n",
      "[509]\tcv-test-mlogloss:0.584476+0.002354\tcv-train-mlogloss:0.550398+0.000594\n",
      "[510]\tcv-test-mlogloss:0.584385+0.002349\tcv-train-mlogloss:0.550246+0.000595\n",
      "[511]\tcv-test-mlogloss:0.584303+0.002347\tcv-train-mlogloss:0.550104+0.000602\n",
      "[512]\tcv-test-mlogloss:0.584207+0.002348\tcv-train-mlogloss:0.549944+0.000602\n",
      "[513]\tcv-test-mlogloss:0.584118+0.002351\tcv-train-mlogloss:0.549780+0.000592\n",
      "[514]\tcv-test-mlogloss:0.584043+0.002356\tcv-train-mlogloss:0.549635+0.000580\n",
      "[515]\tcv-test-mlogloss:0.583953+0.002361\tcv-train-mlogloss:0.549478+0.000581\n",
      "[516]\tcv-test-mlogloss:0.583864+0.002346\tcv-train-mlogloss:0.549319+0.000584\n",
      "[517]\tcv-test-mlogloss:0.583777+0.002346\tcv-train-mlogloss:0.549172+0.000595\n",
      "[518]\tcv-test-mlogloss:0.583694+0.002340\tcv-train-mlogloss:0.549018+0.000597\n",
      "[519]\tcv-test-mlogloss:0.583623+0.002328\tcv-train-mlogloss:0.548884+0.000604\n",
      "[520]\tcv-test-mlogloss:0.583553+0.002327\tcv-train-mlogloss:0.548749+0.000593\n",
      "[521]\tcv-test-mlogloss:0.583483+0.002323\tcv-train-mlogloss:0.548608+0.000592\n",
      "[522]\tcv-test-mlogloss:0.583412+0.002316\tcv-train-mlogloss:0.548474+0.000608\n",
      "[523]\tcv-test-mlogloss:0.583328+0.002322\tcv-train-mlogloss:0.548319+0.000603\n",
      "[524]\tcv-test-mlogloss:0.583244+0.002320\tcv-train-mlogloss:0.548175+0.000611\n",
      "[525]\tcv-test-mlogloss:0.583166+0.002323\tcv-train-mlogloss:0.548027+0.000592\n",
      "[526]\tcv-test-mlogloss:0.583080+0.002339\tcv-train-mlogloss:0.547870+0.000569\n",
      "[527]\tcv-test-mlogloss:0.583003+0.002335\tcv-train-mlogloss:0.547728+0.000571\n",
      "[528]\tcv-test-mlogloss:0.582931+0.002334\tcv-train-mlogloss:0.547597+0.000557\n",
      "[529]\tcv-test-mlogloss:0.582845+0.002336\tcv-train-mlogloss:0.547443+0.000543\n",
      "[530]\tcv-test-mlogloss:0.582766+0.002342\tcv-train-mlogloss:0.547306+0.000543\n",
      "[531]\tcv-test-mlogloss:0.582695+0.002329\tcv-train-mlogloss:0.547172+0.000549\n",
      "[532]\tcv-test-mlogloss:0.582607+0.002313\tcv-train-mlogloss:0.547025+0.000559\n",
      "[533]\tcv-test-mlogloss:0.582514+0.002315\tcv-train-mlogloss:0.546870+0.000565\n",
      "[534]\tcv-test-mlogloss:0.582428+0.002320\tcv-train-mlogloss:0.546720+0.000560\n",
      "[535]\tcv-test-mlogloss:0.582350+0.002317\tcv-train-mlogloss:0.546584+0.000559\n",
      "[536]\tcv-test-mlogloss:0.582265+0.002312\tcv-train-mlogloss:0.546432+0.000563\n",
      "[537]\tcv-test-mlogloss:0.582195+0.002327\tcv-train-mlogloss:0.546282+0.000542\n",
      "[538]\tcv-test-mlogloss:0.582117+0.002325\tcv-train-mlogloss:0.546134+0.000545\n",
      "[539]\tcv-test-mlogloss:0.582040+0.002331\tcv-train-mlogloss:0.545992+0.000532\n",
      "[540]\tcv-test-mlogloss:0.581970+0.002325\tcv-train-mlogloss:0.545847+0.000549\n",
      "[541]\tcv-test-mlogloss:0.581907+0.002339\tcv-train-mlogloss:0.545717+0.000545\n",
      "[542]\tcv-test-mlogloss:0.581832+0.002336\tcv-train-mlogloss:0.545577+0.000552\n",
      "[543]\tcv-test-mlogloss:0.581762+0.002352\tcv-train-mlogloss:0.545440+0.000539\n",
      "[544]\tcv-test-mlogloss:0.581694+0.002354\tcv-train-mlogloss:0.545303+0.000537\n",
      "[545]\tcv-test-mlogloss:0.581615+0.002362\tcv-train-mlogloss:0.545158+0.000529\n",
      "[546]\tcv-test-mlogloss:0.581538+0.002367\tcv-train-mlogloss:0.545017+0.000509\n",
      "[547]\tcv-test-mlogloss:0.581463+0.002365\tcv-train-mlogloss:0.544880+0.000514\n",
      "[548]\tcv-test-mlogloss:0.581381+0.002367\tcv-train-mlogloss:0.544729+0.000512\n",
      "[549]\tcv-test-mlogloss:0.581307+0.002355\tcv-train-mlogloss:0.544597+0.000509\n",
      "[550]\tcv-test-mlogloss:0.581235+0.002357\tcv-train-mlogloss:0.544454+0.000508\n",
      "[551]\tcv-test-mlogloss:0.581163+0.002347\tcv-train-mlogloss:0.544318+0.000531\n",
      "[552]\tcv-test-mlogloss:0.581084+0.002334\tcv-train-mlogloss:0.544171+0.000536\n",
      "[553]\tcv-test-mlogloss:0.581019+0.002347\tcv-train-mlogloss:0.544036+0.000538\n",
      "[554]\tcv-test-mlogloss:0.580948+0.002332\tcv-train-mlogloss:0.543899+0.000534\n",
      "[555]\tcv-test-mlogloss:0.580867+0.002329\tcv-train-mlogloss:0.543749+0.000530\n",
      "[556]\tcv-test-mlogloss:0.580784+0.002324\tcv-train-mlogloss:0.543590+0.000526\n",
      "[557]\tcv-test-mlogloss:0.580708+0.002327\tcv-train-mlogloss:0.543442+0.000529\n",
      "[558]\tcv-test-mlogloss:0.580631+0.002309\tcv-train-mlogloss:0.543295+0.000540\n",
      "[559]\tcv-test-mlogloss:0.580566+0.002317\tcv-train-mlogloss:0.543167+0.000541\n",
      "[560]\tcv-test-mlogloss:0.580501+0.002319\tcv-train-mlogloss:0.543027+0.000536\n",
      "[561]\tcv-test-mlogloss:0.580420+0.002320\tcv-train-mlogloss:0.542885+0.000539\n",
      "[562]\tcv-test-mlogloss:0.580352+0.002331\tcv-train-mlogloss:0.542746+0.000530\n",
      "[563]\tcv-test-mlogloss:0.580285+0.002331\tcv-train-mlogloss:0.542619+0.000522\n",
      "[564]\tcv-test-mlogloss:0.580208+0.002329\tcv-train-mlogloss:0.542474+0.000524\n",
      "[565]\tcv-test-mlogloss:0.580123+0.002327\tcv-train-mlogloss:0.542320+0.000532\n",
      "[566]\tcv-test-mlogloss:0.580044+0.002330\tcv-train-mlogloss:0.542171+0.000534\n",
      "[567]\tcv-test-mlogloss:0.579979+0.002331\tcv-train-mlogloss:0.542037+0.000524\n",
      "[568]\tcv-test-mlogloss:0.579924+0.002328\tcv-train-mlogloss:0.541910+0.000515\n",
      "[569]\tcv-test-mlogloss:0.579864+0.002329\tcv-train-mlogloss:0.541784+0.000514\n",
      "[570]\tcv-test-mlogloss:0.579799+0.002335\tcv-train-mlogloss:0.541657+0.000518\n",
      "[571]\tcv-test-mlogloss:0.579728+0.002344\tcv-train-mlogloss:0.541514+0.000505\n",
      "[572]\tcv-test-mlogloss:0.579673+0.002348\tcv-train-mlogloss:0.541397+0.000502\n",
      "[573]\tcv-test-mlogloss:0.579612+0.002349\tcv-train-mlogloss:0.541277+0.000503\n",
      "[574]\tcv-test-mlogloss:0.579544+0.002350\tcv-train-mlogloss:0.541140+0.000502\n",
      "[575]\tcv-test-mlogloss:0.579478+0.002350\tcv-train-mlogloss:0.541002+0.000500\n",
      "[576]\tcv-test-mlogloss:0.579410+0.002355\tcv-train-mlogloss:0.540861+0.000501\n",
      "[577]\tcv-test-mlogloss:0.579345+0.002362\tcv-train-mlogloss:0.540726+0.000491\n",
      "[578]\tcv-test-mlogloss:0.579284+0.002355\tcv-train-mlogloss:0.540605+0.000478\n",
      "[579]\tcv-test-mlogloss:0.579213+0.002347\tcv-train-mlogloss:0.540471+0.000493\n",
      "[580]\tcv-test-mlogloss:0.579151+0.002343\tcv-train-mlogloss:0.540341+0.000500\n",
      "[581]\tcv-test-mlogloss:0.579083+0.002347\tcv-train-mlogloss:0.540204+0.000495\n",
      "[582]\tcv-test-mlogloss:0.579015+0.002339\tcv-train-mlogloss:0.540067+0.000506\n",
      "[583]\tcv-test-mlogloss:0.578953+0.002344\tcv-train-mlogloss:0.539951+0.000503\n",
      "[584]\tcv-test-mlogloss:0.578890+0.002357\tcv-train-mlogloss:0.539819+0.000485\n",
      "[585]\tcv-test-mlogloss:0.578831+0.002356\tcv-train-mlogloss:0.539695+0.000492\n",
      "[586]\tcv-test-mlogloss:0.578768+0.002350\tcv-train-mlogloss:0.539559+0.000486\n",
      "[587]\tcv-test-mlogloss:0.578699+0.002353\tcv-train-mlogloss:0.539421+0.000481\n",
      "[588]\tcv-test-mlogloss:0.578635+0.002352\tcv-train-mlogloss:0.539284+0.000490\n",
      "[589]\tcv-test-mlogloss:0.578565+0.002345\tcv-train-mlogloss:0.539143+0.000490\n",
      "[590]\tcv-test-mlogloss:0.578495+0.002328\tcv-train-mlogloss:0.539012+0.000491\n",
      "[591]\tcv-test-mlogloss:0.578418+0.002334\tcv-train-mlogloss:0.538873+0.000487\n",
      "[592]\tcv-test-mlogloss:0.578347+0.002334\tcv-train-mlogloss:0.538741+0.000482\n",
      "[593]\tcv-test-mlogloss:0.578292+0.002337\tcv-train-mlogloss:0.538616+0.000487\n",
      "[594]\tcv-test-mlogloss:0.578225+0.002341\tcv-train-mlogloss:0.538477+0.000487\n",
      "[595]\tcv-test-mlogloss:0.578171+0.002332\tcv-train-mlogloss:0.538348+0.000494\n",
      "[596]\tcv-test-mlogloss:0.578110+0.002343\tcv-train-mlogloss:0.538219+0.000481\n",
      "[597]\tcv-test-mlogloss:0.578036+0.002341\tcv-train-mlogloss:0.538075+0.000482\n",
      "[598]\tcv-test-mlogloss:0.577980+0.002354\tcv-train-mlogloss:0.537943+0.000473\n",
      "[599]\tcv-test-mlogloss:0.577926+0.002358\tcv-train-mlogloss:0.537808+0.000469\n",
      "[600]\tcv-test-mlogloss:0.577864+0.002364\tcv-train-mlogloss:0.537676+0.000460\n",
      "[601]\tcv-test-mlogloss:0.577801+0.002375\tcv-train-mlogloss:0.537528+0.000462\n",
      "[602]\tcv-test-mlogloss:0.577738+0.002355\tcv-train-mlogloss:0.537396+0.000465\n",
      "[603]\tcv-test-mlogloss:0.577679+0.002362\tcv-train-mlogloss:0.537270+0.000461\n",
      "[604]\tcv-test-mlogloss:0.577615+0.002358\tcv-train-mlogloss:0.537141+0.000455\n",
      "[605]\tcv-test-mlogloss:0.577556+0.002362\tcv-train-mlogloss:0.537016+0.000462\n",
      "[606]\tcv-test-mlogloss:0.577485+0.002358\tcv-train-mlogloss:0.536883+0.000465\n",
      "[607]\tcv-test-mlogloss:0.577424+0.002355\tcv-train-mlogloss:0.536761+0.000461\n",
      "[608]\tcv-test-mlogloss:0.577361+0.002348\tcv-train-mlogloss:0.536634+0.000467\n",
      "[609]\tcv-test-mlogloss:0.577288+0.002349\tcv-train-mlogloss:0.536490+0.000463\n",
      "[610]\tcv-test-mlogloss:0.577229+0.002349\tcv-train-mlogloss:0.536368+0.000465\n",
      "[611]\tcv-test-mlogloss:0.577172+0.002359\tcv-train-mlogloss:0.536240+0.000455\n",
      "[612]\tcv-test-mlogloss:0.577115+0.002369\tcv-train-mlogloss:0.536116+0.000443\n",
      "[613]\tcv-test-mlogloss:0.577067+0.002371\tcv-train-mlogloss:0.536015+0.000449\n",
      "[614]\tcv-test-mlogloss:0.577009+0.002380\tcv-train-mlogloss:0.535889+0.000432\n",
      "[615]\tcv-test-mlogloss:0.576953+0.002380\tcv-train-mlogloss:0.535762+0.000430\n",
      "[616]\tcv-test-mlogloss:0.576883+0.002387\tcv-train-mlogloss:0.535612+0.000439\n",
      "[617]\tcv-test-mlogloss:0.576822+0.002397\tcv-train-mlogloss:0.535487+0.000426\n",
      "[618]\tcv-test-mlogloss:0.576771+0.002398\tcv-train-mlogloss:0.535366+0.000424\n",
      "[619]\tcv-test-mlogloss:0.576705+0.002410\tcv-train-mlogloss:0.535235+0.000416\n",
      "[620]\tcv-test-mlogloss:0.576654+0.002420\tcv-train-mlogloss:0.535108+0.000405\n",
      "[621]\tcv-test-mlogloss:0.576595+0.002408\tcv-train-mlogloss:0.534984+0.000410\n",
      "[622]\tcv-test-mlogloss:0.576549+0.002418\tcv-train-mlogloss:0.534869+0.000401\n",
      "[623]\tcv-test-mlogloss:0.576496+0.002426\tcv-train-mlogloss:0.534745+0.000393\n",
      "[624]\tcv-test-mlogloss:0.576427+0.002428\tcv-train-mlogloss:0.534609+0.000394\n",
      "[625]\tcv-test-mlogloss:0.576358+0.002435\tcv-train-mlogloss:0.534478+0.000386\n",
      "[626]\tcv-test-mlogloss:0.576296+0.002442\tcv-train-mlogloss:0.534347+0.000383\n",
      "[627]\tcv-test-mlogloss:0.576240+0.002446\tcv-train-mlogloss:0.534222+0.000381\n",
      "[628]\tcv-test-mlogloss:0.576186+0.002455\tcv-train-mlogloss:0.534093+0.000375\n",
      "[629]\tcv-test-mlogloss:0.576126+0.002457\tcv-train-mlogloss:0.533959+0.000372\n",
      "[630]\tcv-test-mlogloss:0.576063+0.002460\tcv-train-mlogloss:0.533841+0.000374\n",
      "[631]\tcv-test-mlogloss:0.575997+0.002459\tcv-train-mlogloss:0.533704+0.000389\n",
      "[632]\tcv-test-mlogloss:0.575945+0.002460\tcv-train-mlogloss:0.533575+0.000396\n",
      "[633]\tcv-test-mlogloss:0.575880+0.002461\tcv-train-mlogloss:0.533451+0.000388\n",
      "[634]\tcv-test-mlogloss:0.575826+0.002455\tcv-train-mlogloss:0.533332+0.000398\n",
      "[635]\tcv-test-mlogloss:0.575769+0.002455\tcv-train-mlogloss:0.533208+0.000401\n",
      "[636]\tcv-test-mlogloss:0.575725+0.002456\tcv-train-mlogloss:0.533084+0.000398\n",
      "[637]\tcv-test-mlogloss:0.575666+0.002450\tcv-train-mlogloss:0.532961+0.000408\n",
      "[638]\tcv-test-mlogloss:0.575613+0.002445\tcv-train-mlogloss:0.532841+0.000408\n",
      "[639]\tcv-test-mlogloss:0.575564+0.002440\tcv-train-mlogloss:0.532717+0.000411\n",
      "[640]\tcv-test-mlogloss:0.575502+0.002443\tcv-train-mlogloss:0.532596+0.000415\n",
      "[641]\tcv-test-mlogloss:0.575448+0.002441\tcv-train-mlogloss:0.532479+0.000417\n",
      "[642]\tcv-test-mlogloss:0.575393+0.002447\tcv-train-mlogloss:0.532356+0.000404\n",
      "[643]\tcv-test-mlogloss:0.575331+0.002443\tcv-train-mlogloss:0.532233+0.000414\n",
      "[644]\tcv-test-mlogloss:0.575282+0.002451\tcv-train-mlogloss:0.532112+0.000398\n",
      "[645]\tcv-test-mlogloss:0.575228+0.002452\tcv-train-mlogloss:0.531993+0.000398\n",
      "[646]\tcv-test-mlogloss:0.575172+0.002450\tcv-train-mlogloss:0.531877+0.000395\n",
      "[647]\tcv-test-mlogloss:0.575119+0.002446\tcv-train-mlogloss:0.531753+0.000396\n",
      "[648]\tcv-test-mlogloss:0.575076+0.002450\tcv-train-mlogloss:0.531629+0.000397\n",
      "[649]\tcv-test-mlogloss:0.575025+0.002435\tcv-train-mlogloss:0.531508+0.000413\n",
      "[650]\tcv-test-mlogloss:0.574980+0.002439\tcv-train-mlogloss:0.531396+0.000409\n",
      "[651]\tcv-test-mlogloss:0.574915+0.002444\tcv-train-mlogloss:0.531269+0.000400\n",
      "[652]\tcv-test-mlogloss:0.574870+0.002446\tcv-train-mlogloss:0.531144+0.000403\n",
      "[653]\tcv-test-mlogloss:0.574815+0.002444\tcv-train-mlogloss:0.531020+0.000393\n",
      "[654]\tcv-test-mlogloss:0.574765+0.002435\tcv-train-mlogloss:0.530899+0.000387\n",
      "[655]\tcv-test-mlogloss:0.574711+0.002431\tcv-train-mlogloss:0.530782+0.000389\n",
      "[656]\tcv-test-mlogloss:0.574661+0.002427\tcv-train-mlogloss:0.530661+0.000390\n",
      "[657]\tcv-test-mlogloss:0.574603+0.002431\tcv-train-mlogloss:0.530538+0.000396\n",
      "[658]\tcv-test-mlogloss:0.574547+0.002438\tcv-train-mlogloss:0.530417+0.000393\n",
      "[659]\tcv-test-mlogloss:0.574502+0.002431\tcv-train-mlogloss:0.530308+0.000402\n",
      "[660]\tcv-test-mlogloss:0.574453+0.002429\tcv-train-mlogloss:0.530190+0.000412\n",
      "[661]\tcv-test-mlogloss:0.574400+0.002421\tcv-train-mlogloss:0.530063+0.000399\n",
      "[662]\tcv-test-mlogloss:0.574342+0.002421\tcv-train-mlogloss:0.529932+0.000398\n",
      "[663]\tcv-test-mlogloss:0.574288+0.002414\tcv-train-mlogloss:0.529810+0.000412\n",
      "[664]\tcv-test-mlogloss:0.574233+0.002414\tcv-train-mlogloss:0.529688+0.000409\n",
      "[665]\tcv-test-mlogloss:0.574188+0.002416\tcv-train-mlogloss:0.529573+0.000401\n",
      "[666]\tcv-test-mlogloss:0.574141+0.002421\tcv-train-mlogloss:0.529459+0.000399\n",
      "[667]\tcv-test-mlogloss:0.574090+0.002416\tcv-train-mlogloss:0.529340+0.000411\n",
      "[668]\tcv-test-mlogloss:0.574040+0.002414\tcv-train-mlogloss:0.529213+0.000408\n",
      "[669]\tcv-test-mlogloss:0.573984+0.002412\tcv-train-mlogloss:0.529105+0.000418\n",
      "[670]\tcv-test-mlogloss:0.573934+0.002411\tcv-train-mlogloss:0.528991+0.000419\n",
      "[671]\tcv-test-mlogloss:0.573883+0.002425\tcv-train-mlogloss:0.528856+0.000423\n",
      "[672]\tcv-test-mlogloss:0.573833+0.002418\tcv-train-mlogloss:0.528739+0.000419\n",
      "[673]\tcv-test-mlogloss:0.573777+0.002419\tcv-train-mlogloss:0.528606+0.000425\n",
      "[674]\tcv-test-mlogloss:0.573739+0.002428\tcv-train-mlogloss:0.528499+0.000419\n",
      "[675]\tcv-test-mlogloss:0.573693+0.002428\tcv-train-mlogloss:0.528379+0.000412\n",
      "[676]\tcv-test-mlogloss:0.573647+0.002426\tcv-train-mlogloss:0.528263+0.000426\n",
      "[677]\tcv-test-mlogloss:0.573603+0.002434\tcv-train-mlogloss:0.528150+0.000412\n",
      "[678]\tcv-test-mlogloss:0.573554+0.002422\tcv-train-mlogloss:0.528032+0.000403\n",
      "[679]\tcv-test-mlogloss:0.573516+0.002419\tcv-train-mlogloss:0.527918+0.000397\n",
      "[680]\tcv-test-mlogloss:0.573460+0.002420\tcv-train-mlogloss:0.527794+0.000394\n",
      "[681]\tcv-test-mlogloss:0.573413+0.002424\tcv-train-mlogloss:0.527675+0.000379\n",
      "[682]\tcv-test-mlogloss:0.573364+0.002425\tcv-train-mlogloss:0.527563+0.000369\n",
      "[683]\tcv-test-mlogloss:0.573316+0.002429\tcv-train-mlogloss:0.527443+0.000380\n",
      "[684]\tcv-test-mlogloss:0.573266+0.002442\tcv-train-mlogloss:0.527319+0.000364\n",
      "[685]\tcv-test-mlogloss:0.573214+0.002455\tcv-train-mlogloss:0.527201+0.000346\n",
      "[686]\tcv-test-mlogloss:0.573170+0.002458\tcv-train-mlogloss:0.527083+0.000339\n",
      "[687]\tcv-test-mlogloss:0.573118+0.002451\tcv-train-mlogloss:0.526962+0.000354\n",
      "[688]\tcv-test-mlogloss:0.573079+0.002445\tcv-train-mlogloss:0.526836+0.000361\n",
      "[689]\tcv-test-mlogloss:0.573034+0.002446\tcv-train-mlogloss:0.526724+0.000362\n",
      "[690]\tcv-test-mlogloss:0.572982+0.002439\tcv-train-mlogloss:0.526600+0.000374\n",
      "[691]\tcv-test-mlogloss:0.572929+0.002441\tcv-train-mlogloss:0.526482+0.000385\n",
      "[692]\tcv-test-mlogloss:0.572889+0.002435\tcv-train-mlogloss:0.526376+0.000399\n",
      "[693]\tcv-test-mlogloss:0.572843+0.002435\tcv-train-mlogloss:0.526260+0.000393\n",
      "[694]\tcv-test-mlogloss:0.572783+0.002430\tcv-train-mlogloss:0.526137+0.000395\n",
      "[695]\tcv-test-mlogloss:0.572730+0.002430\tcv-train-mlogloss:0.526021+0.000395\n",
      "[696]\tcv-test-mlogloss:0.572677+0.002421\tcv-train-mlogloss:0.525904+0.000410\n",
      "[697]\tcv-test-mlogloss:0.572639+0.002426\tcv-train-mlogloss:0.525794+0.000408\n",
      "[698]\tcv-test-mlogloss:0.572606+0.002430\tcv-train-mlogloss:0.525696+0.000401\n",
      "[699]\tcv-test-mlogloss:0.572556+0.002434\tcv-train-mlogloss:0.525571+0.000397\n",
      "[700]\tcv-test-mlogloss:0.572517+0.002439\tcv-train-mlogloss:0.525471+0.000397\n",
      "[701]\tcv-test-mlogloss:0.572483+0.002434\tcv-train-mlogloss:0.525365+0.000405\n",
      "[702]\tcv-test-mlogloss:0.572431+0.002439\tcv-train-mlogloss:0.525251+0.000397\n",
      "[703]\tcv-test-mlogloss:0.572396+0.002436\tcv-train-mlogloss:0.525144+0.000400\n",
      "[704]\tcv-test-mlogloss:0.572349+0.002435\tcv-train-mlogloss:0.525027+0.000401\n",
      "[705]\tcv-test-mlogloss:0.572313+0.002437\tcv-train-mlogloss:0.524918+0.000394\n",
      "[706]\tcv-test-mlogloss:0.572270+0.002433\tcv-train-mlogloss:0.524802+0.000397\n",
      "[707]\tcv-test-mlogloss:0.572220+0.002436\tcv-train-mlogloss:0.524687+0.000395\n",
      "[708]\tcv-test-mlogloss:0.572173+0.002439\tcv-train-mlogloss:0.524583+0.000406\n",
      "[709]\tcv-test-mlogloss:0.572125+0.002451\tcv-train-mlogloss:0.524479+0.000403\n",
      "[710]\tcv-test-mlogloss:0.572084+0.002450\tcv-train-mlogloss:0.524369+0.000408\n",
      "[711]\tcv-test-mlogloss:0.572034+0.002452\tcv-train-mlogloss:0.524258+0.000394\n",
      "[712]\tcv-test-mlogloss:0.571992+0.002451\tcv-train-mlogloss:0.524149+0.000400\n",
      "[713]\tcv-test-mlogloss:0.571948+0.002448\tcv-train-mlogloss:0.524042+0.000399\n",
      "[714]\tcv-test-mlogloss:0.571912+0.002444\tcv-train-mlogloss:0.523940+0.000402\n",
      "[715]\tcv-test-mlogloss:0.571879+0.002444\tcv-train-mlogloss:0.523839+0.000405\n",
      "[716]\tcv-test-mlogloss:0.571843+0.002443\tcv-train-mlogloss:0.523724+0.000414\n",
      "[717]\tcv-test-mlogloss:0.571802+0.002452\tcv-train-mlogloss:0.523610+0.000416\n",
      "[718]\tcv-test-mlogloss:0.571757+0.002465\tcv-train-mlogloss:0.523499+0.000402\n",
      "[719]\tcv-test-mlogloss:0.571717+0.002467\tcv-train-mlogloss:0.523382+0.000402\n",
      "[720]\tcv-test-mlogloss:0.571678+0.002466\tcv-train-mlogloss:0.523285+0.000405\n",
      "[721]\tcv-test-mlogloss:0.571632+0.002459\tcv-train-mlogloss:0.523172+0.000409\n",
      "[722]\tcv-test-mlogloss:0.571578+0.002452\tcv-train-mlogloss:0.523056+0.000406\n",
      "[723]\tcv-test-mlogloss:0.571537+0.002458\tcv-train-mlogloss:0.522955+0.000403\n",
      "[724]\tcv-test-mlogloss:0.571489+0.002463\tcv-train-mlogloss:0.522843+0.000401\n",
      "[725]\tcv-test-mlogloss:0.571449+0.002463\tcv-train-mlogloss:0.522734+0.000403\n",
      "[726]\tcv-test-mlogloss:0.571408+0.002465\tcv-train-mlogloss:0.522628+0.000406\n",
      "[727]\tcv-test-mlogloss:0.571370+0.002473\tcv-train-mlogloss:0.522528+0.000409\n",
      "[728]\tcv-test-mlogloss:0.571321+0.002475\tcv-train-mlogloss:0.522423+0.000404\n",
      "[729]\tcv-test-mlogloss:0.571278+0.002479\tcv-train-mlogloss:0.522308+0.000401\n",
      "[730]\tcv-test-mlogloss:0.571230+0.002478\tcv-train-mlogloss:0.522183+0.000403\n",
      "[731]\tcv-test-mlogloss:0.571196+0.002475\tcv-train-mlogloss:0.522078+0.000392\n",
      "[732]\tcv-test-mlogloss:0.571164+0.002474\tcv-train-mlogloss:0.521975+0.000393\n",
      "[733]\tcv-test-mlogloss:0.571137+0.002473\tcv-train-mlogloss:0.521877+0.000396\n",
      "[734]\tcv-test-mlogloss:0.571099+0.002476\tcv-train-mlogloss:0.521781+0.000394\n",
      "[735]\tcv-test-mlogloss:0.571056+0.002480\tcv-train-mlogloss:0.521666+0.000404\n",
      "[736]\tcv-test-mlogloss:0.571015+0.002483\tcv-train-mlogloss:0.521562+0.000406\n",
      "[737]\tcv-test-mlogloss:0.570977+0.002485\tcv-train-mlogloss:0.521461+0.000404\n",
      "[738]\tcv-test-mlogloss:0.570936+0.002484\tcv-train-mlogloss:0.521354+0.000408\n",
      "[739]\tcv-test-mlogloss:0.570893+0.002481\tcv-train-mlogloss:0.521243+0.000398\n",
      "[740]\tcv-test-mlogloss:0.570855+0.002485\tcv-train-mlogloss:0.521139+0.000387\n",
      "[741]\tcv-test-mlogloss:0.570805+0.002493\tcv-train-mlogloss:0.521027+0.000389\n",
      "[742]\tcv-test-mlogloss:0.570761+0.002497\tcv-train-mlogloss:0.520917+0.000388\n",
      "[743]\tcv-test-mlogloss:0.570714+0.002495\tcv-train-mlogloss:0.520799+0.000382\n",
      "[744]\tcv-test-mlogloss:0.570674+0.002493\tcv-train-mlogloss:0.520696+0.000387\n",
      "[745]\tcv-test-mlogloss:0.570635+0.002490\tcv-train-mlogloss:0.520597+0.000387\n",
      "[746]\tcv-test-mlogloss:0.570585+0.002487\tcv-train-mlogloss:0.520488+0.000385\n",
      "[747]\tcv-test-mlogloss:0.570538+0.002487\tcv-train-mlogloss:0.520381+0.000385\n",
      "[748]\tcv-test-mlogloss:0.570496+0.002495\tcv-train-mlogloss:0.520268+0.000383\n",
      "[749]\tcv-test-mlogloss:0.570465+0.002500\tcv-train-mlogloss:0.520164+0.000393\n",
      "[750]\tcv-test-mlogloss:0.570414+0.002512\tcv-train-mlogloss:0.520055+0.000383\n",
      "[751]\tcv-test-mlogloss:0.570372+0.002513\tcv-train-mlogloss:0.519942+0.000389\n",
      "[752]\tcv-test-mlogloss:0.570342+0.002509\tcv-train-mlogloss:0.519844+0.000391\n",
      "[753]\tcv-test-mlogloss:0.570305+0.002506\tcv-train-mlogloss:0.519740+0.000395\n",
      "[754]\tcv-test-mlogloss:0.570271+0.002512\tcv-train-mlogloss:0.519630+0.000401\n",
      "[755]\tcv-test-mlogloss:0.570229+0.002511\tcv-train-mlogloss:0.519520+0.000395\n",
      "[756]\tcv-test-mlogloss:0.570189+0.002505\tcv-train-mlogloss:0.519417+0.000392\n",
      "[757]\tcv-test-mlogloss:0.570146+0.002506\tcv-train-mlogloss:0.519307+0.000392\n",
      "[758]\tcv-test-mlogloss:0.570105+0.002506\tcv-train-mlogloss:0.519199+0.000393\n",
      "[759]\tcv-test-mlogloss:0.570063+0.002502\tcv-train-mlogloss:0.519102+0.000388\n",
      "[760]\tcv-test-mlogloss:0.570024+0.002507\tcv-train-mlogloss:0.519001+0.000379\n",
      "[761]\tcv-test-mlogloss:0.569995+0.002503\tcv-train-mlogloss:0.518893+0.000375\n",
      "[762]\tcv-test-mlogloss:0.569953+0.002506\tcv-train-mlogloss:0.518789+0.000374\n",
      "[763]\tcv-test-mlogloss:0.569908+0.002501\tcv-train-mlogloss:0.518679+0.000372\n",
      "[764]\tcv-test-mlogloss:0.569860+0.002495\tcv-train-mlogloss:0.518565+0.000364\n",
      "[765]\tcv-test-mlogloss:0.569819+0.002510\tcv-train-mlogloss:0.518448+0.000361\n",
      "[766]\tcv-test-mlogloss:0.569785+0.002514\tcv-train-mlogloss:0.518346+0.000350\n",
      "[767]\tcv-test-mlogloss:0.569738+0.002510\tcv-train-mlogloss:0.518234+0.000361\n",
      "[768]\tcv-test-mlogloss:0.569703+0.002510\tcv-train-mlogloss:0.518134+0.000363\n",
      "[769]\tcv-test-mlogloss:0.569678+0.002503\tcv-train-mlogloss:0.518034+0.000367\n",
      "[770]\tcv-test-mlogloss:0.569631+0.002502\tcv-train-mlogloss:0.517914+0.000357\n",
      "[771]\tcv-test-mlogloss:0.569595+0.002502\tcv-train-mlogloss:0.517817+0.000360\n",
      "[772]\tcv-test-mlogloss:0.569559+0.002499\tcv-train-mlogloss:0.517710+0.000350\n",
      "[773]\tcv-test-mlogloss:0.569521+0.002497\tcv-train-mlogloss:0.517606+0.000363\n",
      "[774]\tcv-test-mlogloss:0.569485+0.002493\tcv-train-mlogloss:0.517496+0.000354\n",
      "[775]\tcv-test-mlogloss:0.569453+0.002492\tcv-train-mlogloss:0.517390+0.000360\n",
      "[776]\tcv-test-mlogloss:0.569413+0.002499\tcv-train-mlogloss:0.517293+0.000360\n",
      "[777]\tcv-test-mlogloss:0.569372+0.002495\tcv-train-mlogloss:0.517186+0.000368\n",
      "[778]\tcv-test-mlogloss:0.569338+0.002490\tcv-train-mlogloss:0.517083+0.000366\n",
      "[779]\tcv-test-mlogloss:0.569301+0.002494\tcv-train-mlogloss:0.516986+0.000357\n",
      "[780]\tcv-test-mlogloss:0.569268+0.002490\tcv-train-mlogloss:0.516884+0.000364\n",
      "[781]\tcv-test-mlogloss:0.569233+0.002491\tcv-train-mlogloss:0.516778+0.000366\n",
      "[782]\tcv-test-mlogloss:0.569204+0.002496\tcv-train-mlogloss:0.516682+0.000368\n",
      "[783]\tcv-test-mlogloss:0.569175+0.002498\tcv-train-mlogloss:0.516592+0.000367\n",
      "[784]\tcv-test-mlogloss:0.569146+0.002500\tcv-train-mlogloss:0.516509+0.000364\n",
      "[785]\tcv-test-mlogloss:0.569107+0.002502\tcv-train-mlogloss:0.516396+0.000362\n",
      "[786]\tcv-test-mlogloss:0.569076+0.002499\tcv-train-mlogloss:0.516297+0.000365\n",
      "[787]\tcv-test-mlogloss:0.569033+0.002492\tcv-train-mlogloss:0.516180+0.000357\n",
      "[788]\tcv-test-mlogloss:0.569001+0.002494\tcv-train-mlogloss:0.516083+0.000353\n",
      "[789]\tcv-test-mlogloss:0.568966+0.002497\tcv-train-mlogloss:0.515975+0.000355\n",
      "[790]\tcv-test-mlogloss:0.568924+0.002492\tcv-train-mlogloss:0.515865+0.000349\n",
      "[791]\tcv-test-mlogloss:0.568888+0.002490\tcv-train-mlogloss:0.515762+0.000352\n",
      "[792]\tcv-test-mlogloss:0.568848+0.002487\tcv-train-mlogloss:0.515659+0.000366\n",
      "[793]\tcv-test-mlogloss:0.568807+0.002490\tcv-train-mlogloss:0.515554+0.000359\n",
      "[794]\tcv-test-mlogloss:0.568772+0.002495\tcv-train-mlogloss:0.515462+0.000347\n",
      "[795]\tcv-test-mlogloss:0.568737+0.002500\tcv-train-mlogloss:0.515359+0.000337\n",
      "[796]\tcv-test-mlogloss:0.568695+0.002497\tcv-train-mlogloss:0.515252+0.000339\n",
      "[797]\tcv-test-mlogloss:0.568663+0.002498\tcv-train-mlogloss:0.515160+0.000335\n",
      "[798]\tcv-test-mlogloss:0.568632+0.002504\tcv-train-mlogloss:0.515056+0.000335\n",
      "[799]\tcv-test-mlogloss:0.568600+0.002492\tcv-train-mlogloss:0.514954+0.000342\n",
      "[800]\tcv-test-mlogloss:0.568575+0.002493\tcv-train-mlogloss:0.514860+0.000335\n",
      "[801]\tcv-test-mlogloss:0.568541+0.002496\tcv-train-mlogloss:0.514771+0.000341\n",
      "[802]\tcv-test-mlogloss:0.568512+0.002497\tcv-train-mlogloss:0.514675+0.000341\n",
      "[803]\tcv-test-mlogloss:0.568476+0.002494\tcv-train-mlogloss:0.514558+0.000346\n",
      "[804]\tcv-test-mlogloss:0.568444+0.002489\tcv-train-mlogloss:0.514458+0.000356\n",
      "[805]\tcv-test-mlogloss:0.568408+0.002486\tcv-train-mlogloss:0.514354+0.000358\n",
      "[806]\tcv-test-mlogloss:0.568372+0.002500\tcv-train-mlogloss:0.514258+0.000363\n",
      "[807]\tcv-test-mlogloss:0.568341+0.002502\tcv-train-mlogloss:0.514163+0.000359\n",
      "[808]\tcv-test-mlogloss:0.568308+0.002504\tcv-train-mlogloss:0.514067+0.000362\n",
      "[809]\tcv-test-mlogloss:0.568281+0.002508\tcv-train-mlogloss:0.513968+0.000354\n",
      "[810]\tcv-test-mlogloss:0.568262+0.002504\tcv-train-mlogloss:0.513881+0.000356\n",
      "[811]\tcv-test-mlogloss:0.568221+0.002506\tcv-train-mlogloss:0.513770+0.000359\n",
      "[812]\tcv-test-mlogloss:0.568186+0.002510\tcv-train-mlogloss:0.513671+0.000354\n",
      "[813]\tcv-test-mlogloss:0.568148+0.002508\tcv-train-mlogloss:0.513571+0.000358\n",
      "[814]\tcv-test-mlogloss:0.568122+0.002500\tcv-train-mlogloss:0.513476+0.000354\n",
      "[815]\tcv-test-mlogloss:0.568092+0.002502\tcv-train-mlogloss:0.513386+0.000349\n",
      "[816]\tcv-test-mlogloss:0.568063+0.002504\tcv-train-mlogloss:0.513291+0.000349\n",
      "[817]\tcv-test-mlogloss:0.568025+0.002509\tcv-train-mlogloss:0.513194+0.000347\n",
      "[818]\tcv-test-mlogloss:0.567993+0.002516\tcv-train-mlogloss:0.513093+0.000340\n",
      "[819]\tcv-test-mlogloss:0.567952+0.002519\tcv-train-mlogloss:0.512992+0.000334\n",
      "[820]\tcv-test-mlogloss:0.567917+0.002521\tcv-train-mlogloss:0.512893+0.000341\n",
      "[821]\tcv-test-mlogloss:0.567880+0.002514\tcv-train-mlogloss:0.512796+0.000343\n",
      "[822]\tcv-test-mlogloss:0.567841+0.002507\tcv-train-mlogloss:0.512699+0.000349\n",
      "[823]\tcv-test-mlogloss:0.567802+0.002505\tcv-train-mlogloss:0.512591+0.000353\n",
      "[824]\tcv-test-mlogloss:0.567765+0.002508\tcv-train-mlogloss:0.512485+0.000349\n",
      "[825]\tcv-test-mlogloss:0.567740+0.002503\tcv-train-mlogloss:0.512393+0.000366\n",
      "[826]\tcv-test-mlogloss:0.567706+0.002506\tcv-train-mlogloss:0.512284+0.000370\n",
      "[827]\tcv-test-mlogloss:0.567668+0.002504\tcv-train-mlogloss:0.512187+0.000371\n",
      "[828]\tcv-test-mlogloss:0.567631+0.002506\tcv-train-mlogloss:0.512091+0.000373\n",
      "[829]\tcv-test-mlogloss:0.567601+0.002497\tcv-train-mlogloss:0.511994+0.000387\n",
      "[830]\tcv-test-mlogloss:0.567560+0.002490\tcv-train-mlogloss:0.511888+0.000387\n",
      "[831]\tcv-test-mlogloss:0.567515+0.002495\tcv-train-mlogloss:0.511787+0.000377\n",
      "[832]\tcv-test-mlogloss:0.567490+0.002494\tcv-train-mlogloss:0.511701+0.000375\n",
      "[833]\tcv-test-mlogloss:0.567456+0.002487\tcv-train-mlogloss:0.511610+0.000365\n",
      "[834]\tcv-test-mlogloss:0.567416+0.002491\tcv-train-mlogloss:0.511502+0.000371\n",
      "[835]\tcv-test-mlogloss:0.567380+0.002491\tcv-train-mlogloss:0.511403+0.000369\n",
      "[836]\tcv-test-mlogloss:0.567347+0.002489\tcv-train-mlogloss:0.511291+0.000371\n",
      "[837]\tcv-test-mlogloss:0.567320+0.002491\tcv-train-mlogloss:0.511205+0.000369\n",
      "[838]\tcv-test-mlogloss:0.567282+0.002494\tcv-train-mlogloss:0.511109+0.000370\n",
      "[839]\tcv-test-mlogloss:0.567254+0.002495\tcv-train-mlogloss:0.511027+0.000385\n",
      "[840]\tcv-test-mlogloss:0.567222+0.002499\tcv-train-mlogloss:0.510929+0.000388\n",
      "[841]\tcv-test-mlogloss:0.567185+0.002494\tcv-train-mlogloss:0.510817+0.000389\n",
      "[842]\tcv-test-mlogloss:0.567151+0.002496\tcv-train-mlogloss:0.510721+0.000381\n",
      "[843]\tcv-test-mlogloss:0.567116+0.002493\tcv-train-mlogloss:0.510624+0.000385\n",
      "[844]\tcv-test-mlogloss:0.567086+0.002494\tcv-train-mlogloss:0.510531+0.000381\n",
      "[845]\tcv-test-mlogloss:0.567058+0.002495\tcv-train-mlogloss:0.510440+0.000387\n",
      "[846]\tcv-test-mlogloss:0.567029+0.002491\tcv-train-mlogloss:0.510349+0.000387\n",
      "[847]\tcv-test-mlogloss:0.567014+0.002486\tcv-train-mlogloss:0.510265+0.000386\n",
      "[848]\tcv-test-mlogloss:0.566980+0.002498\tcv-train-mlogloss:0.510164+0.000382\n",
      "[849]\tcv-test-mlogloss:0.566947+0.002499\tcv-train-mlogloss:0.510066+0.000380\n",
      "[850]\tcv-test-mlogloss:0.566913+0.002502\tcv-train-mlogloss:0.509975+0.000386\n",
      "[851]\tcv-test-mlogloss:0.566884+0.002501\tcv-train-mlogloss:0.509879+0.000388\n",
      "[852]\tcv-test-mlogloss:0.566855+0.002502\tcv-train-mlogloss:0.509784+0.000390\n",
      "[853]\tcv-test-mlogloss:0.566824+0.002508\tcv-train-mlogloss:0.509686+0.000395\n",
      "[854]\tcv-test-mlogloss:0.566791+0.002505\tcv-train-mlogloss:0.509586+0.000397\n",
      "[855]\tcv-test-mlogloss:0.566752+0.002511\tcv-train-mlogloss:0.509481+0.000398\n",
      "[856]\tcv-test-mlogloss:0.566725+0.002509\tcv-train-mlogloss:0.509391+0.000403\n",
      "[857]\tcv-test-mlogloss:0.566690+0.002497\tcv-train-mlogloss:0.509293+0.000411\n",
      "[858]\tcv-test-mlogloss:0.566656+0.002501\tcv-train-mlogloss:0.509198+0.000417\n",
      "[859]\tcv-test-mlogloss:0.566626+0.002505\tcv-train-mlogloss:0.509101+0.000408\n",
      "[860]\tcv-test-mlogloss:0.566601+0.002503\tcv-train-mlogloss:0.509006+0.000418\n",
      "[861]\tcv-test-mlogloss:0.566567+0.002496\tcv-train-mlogloss:0.508917+0.000427\n",
      "[862]\tcv-test-mlogloss:0.566536+0.002500\tcv-train-mlogloss:0.508822+0.000435\n",
      "[863]\tcv-test-mlogloss:0.566509+0.002502\tcv-train-mlogloss:0.508732+0.000447\n",
      "[864]\tcv-test-mlogloss:0.566482+0.002505\tcv-train-mlogloss:0.508635+0.000452\n",
      "[865]\tcv-test-mlogloss:0.566458+0.002507\tcv-train-mlogloss:0.508549+0.000454\n",
      "[866]\tcv-test-mlogloss:0.566426+0.002508\tcv-train-mlogloss:0.508456+0.000452\n",
      "[867]\tcv-test-mlogloss:0.566397+0.002514\tcv-train-mlogloss:0.508358+0.000450\n",
      "[868]\tcv-test-mlogloss:0.566370+0.002513\tcv-train-mlogloss:0.508256+0.000451\n",
      "[869]\tcv-test-mlogloss:0.566338+0.002517\tcv-train-mlogloss:0.508156+0.000451\n",
      "[870]\tcv-test-mlogloss:0.566302+0.002512\tcv-train-mlogloss:0.508061+0.000453\n",
      "[871]\tcv-test-mlogloss:0.566269+0.002507\tcv-train-mlogloss:0.507967+0.000463\n",
      "[872]\tcv-test-mlogloss:0.566242+0.002509\tcv-train-mlogloss:0.507873+0.000463\n",
      "[873]\tcv-test-mlogloss:0.566202+0.002518\tcv-train-mlogloss:0.507779+0.000467\n",
      "[874]\tcv-test-mlogloss:0.566172+0.002529\tcv-train-mlogloss:0.507686+0.000464\n",
      "[875]\tcv-test-mlogloss:0.566141+0.002526\tcv-train-mlogloss:0.507591+0.000466\n",
      "[876]\tcv-test-mlogloss:0.566114+0.002524\tcv-train-mlogloss:0.507501+0.000469\n",
      "[877]\tcv-test-mlogloss:0.566083+0.002520\tcv-train-mlogloss:0.507407+0.000468\n",
      "[878]\tcv-test-mlogloss:0.566043+0.002527\tcv-train-mlogloss:0.507307+0.000487\n",
      "[879]\tcv-test-mlogloss:0.566007+0.002518\tcv-train-mlogloss:0.507214+0.000494\n",
      "[880]\tcv-test-mlogloss:0.565973+0.002518\tcv-train-mlogloss:0.507121+0.000494\n",
      "[881]\tcv-test-mlogloss:0.565939+0.002514\tcv-train-mlogloss:0.507026+0.000489\n",
      "[882]\tcv-test-mlogloss:0.565909+0.002511\tcv-train-mlogloss:0.506938+0.000493\n",
      "[883]\tcv-test-mlogloss:0.565873+0.002518\tcv-train-mlogloss:0.506841+0.000477\n",
      "[884]\tcv-test-mlogloss:0.565841+0.002520\tcv-train-mlogloss:0.506749+0.000476\n",
      "[885]\tcv-test-mlogloss:0.565812+0.002521\tcv-train-mlogloss:0.506656+0.000467\n",
      "[886]\tcv-test-mlogloss:0.565783+0.002530\tcv-train-mlogloss:0.506557+0.000476\n",
      "[887]\tcv-test-mlogloss:0.565749+0.002530\tcv-train-mlogloss:0.506463+0.000470\n",
      "[888]\tcv-test-mlogloss:0.565714+0.002543\tcv-train-mlogloss:0.506365+0.000479\n",
      "[889]\tcv-test-mlogloss:0.565687+0.002535\tcv-train-mlogloss:0.506260+0.000483\n",
      "[890]\tcv-test-mlogloss:0.565654+0.002537\tcv-train-mlogloss:0.506164+0.000474\n",
      "[891]\tcv-test-mlogloss:0.565631+0.002539\tcv-train-mlogloss:0.506075+0.000468\n",
      "[892]\tcv-test-mlogloss:0.565605+0.002540\tcv-train-mlogloss:0.505977+0.000477\n",
      "[893]\tcv-test-mlogloss:0.565583+0.002540\tcv-train-mlogloss:0.505889+0.000473\n",
      "[894]\tcv-test-mlogloss:0.565545+0.002543\tcv-train-mlogloss:0.505791+0.000475\n",
      "[895]\tcv-test-mlogloss:0.565514+0.002544\tcv-train-mlogloss:0.505697+0.000477\n",
      "[896]\tcv-test-mlogloss:0.565487+0.002544\tcv-train-mlogloss:0.505608+0.000485\n",
      "[897]\tcv-test-mlogloss:0.565457+0.002542\tcv-train-mlogloss:0.505513+0.000475\n",
      "[898]\tcv-test-mlogloss:0.565429+0.002543\tcv-train-mlogloss:0.505429+0.000474\n",
      "[899]\tcv-test-mlogloss:0.565400+0.002548\tcv-train-mlogloss:0.505333+0.000466\n",
      "[900]\tcv-test-mlogloss:0.565364+0.002547\tcv-train-mlogloss:0.505244+0.000472\n",
      "[901]\tcv-test-mlogloss:0.565337+0.002547\tcv-train-mlogloss:0.505144+0.000481\n",
      "[902]\tcv-test-mlogloss:0.565310+0.002550\tcv-train-mlogloss:0.505059+0.000488\n",
      "[903]\tcv-test-mlogloss:0.565287+0.002553\tcv-train-mlogloss:0.504970+0.000480\n",
      "[904]\tcv-test-mlogloss:0.565262+0.002558\tcv-train-mlogloss:0.504886+0.000489\n",
      "[905]\tcv-test-mlogloss:0.565228+0.002562\tcv-train-mlogloss:0.504786+0.000484\n",
      "[906]\tcv-test-mlogloss:0.565200+0.002561\tcv-train-mlogloss:0.504695+0.000478\n",
      "[907]\tcv-test-mlogloss:0.565171+0.002557\tcv-train-mlogloss:0.504605+0.000487\n",
      "[908]\tcv-test-mlogloss:0.565144+0.002561\tcv-train-mlogloss:0.504513+0.000477\n",
      "[909]\tcv-test-mlogloss:0.565113+0.002558\tcv-train-mlogloss:0.504423+0.000480\n",
      "[910]\tcv-test-mlogloss:0.565088+0.002559\tcv-train-mlogloss:0.504341+0.000478\n",
      "[911]\tcv-test-mlogloss:0.565064+0.002556\tcv-train-mlogloss:0.504248+0.000483\n",
      "[912]\tcv-test-mlogloss:0.565041+0.002556\tcv-train-mlogloss:0.504154+0.000482\n",
      "[913]\tcv-test-mlogloss:0.565020+0.002563\tcv-train-mlogloss:0.504059+0.000476\n",
      "[914]\tcv-test-mlogloss:0.564994+0.002566\tcv-train-mlogloss:0.503971+0.000476\n",
      "[915]\tcv-test-mlogloss:0.564969+0.002565\tcv-train-mlogloss:0.503876+0.000478\n",
      "[916]\tcv-test-mlogloss:0.564942+0.002569\tcv-train-mlogloss:0.503784+0.000473\n",
      "[917]\tcv-test-mlogloss:0.564920+0.002570\tcv-train-mlogloss:0.503698+0.000473\n",
      "[918]\tcv-test-mlogloss:0.564896+0.002579\tcv-train-mlogloss:0.503616+0.000483\n",
      "[919]\tcv-test-mlogloss:0.564861+0.002580\tcv-train-mlogloss:0.503521+0.000491\n",
      "[920]\tcv-test-mlogloss:0.564828+0.002585\tcv-train-mlogloss:0.503427+0.000480\n",
      "[921]\tcv-test-mlogloss:0.564801+0.002575\tcv-train-mlogloss:0.503334+0.000481\n",
      "[922]\tcv-test-mlogloss:0.564771+0.002583\tcv-train-mlogloss:0.503236+0.000483\n",
      "[923]\tcv-test-mlogloss:0.564749+0.002584\tcv-train-mlogloss:0.503147+0.000475\n",
      "[924]\tcv-test-mlogloss:0.564724+0.002582\tcv-train-mlogloss:0.503063+0.000474\n",
      "[925]\tcv-test-mlogloss:0.564704+0.002587\tcv-train-mlogloss:0.502981+0.000469\n",
      "[926]\tcv-test-mlogloss:0.564673+0.002575\tcv-train-mlogloss:0.502888+0.000472\n",
      "[927]\tcv-test-mlogloss:0.564644+0.002580\tcv-train-mlogloss:0.502790+0.000480\n",
      "[928]\tcv-test-mlogloss:0.564616+0.002581\tcv-train-mlogloss:0.502703+0.000496\n",
      "[929]\tcv-test-mlogloss:0.564588+0.002584\tcv-train-mlogloss:0.502608+0.000492\n",
      "[930]\tcv-test-mlogloss:0.564563+0.002578\tcv-train-mlogloss:0.502521+0.000487\n",
      "[931]\tcv-test-mlogloss:0.564533+0.002578\tcv-train-mlogloss:0.502433+0.000480\n",
      "[932]\tcv-test-mlogloss:0.564505+0.002576\tcv-train-mlogloss:0.502341+0.000470\n",
      "[933]\tcv-test-mlogloss:0.564486+0.002577\tcv-train-mlogloss:0.502256+0.000475\n",
      "[934]\tcv-test-mlogloss:0.564461+0.002576\tcv-train-mlogloss:0.502161+0.000479\n",
      "[935]\tcv-test-mlogloss:0.564427+0.002576\tcv-train-mlogloss:0.502065+0.000475\n",
      "[936]\tcv-test-mlogloss:0.564403+0.002580\tcv-train-mlogloss:0.501983+0.000472\n",
      "[937]\tcv-test-mlogloss:0.564377+0.002580\tcv-train-mlogloss:0.501890+0.000470\n",
      "[938]\tcv-test-mlogloss:0.564350+0.002578\tcv-train-mlogloss:0.501796+0.000468\n",
      "[939]\tcv-test-mlogloss:0.564322+0.002579\tcv-train-mlogloss:0.501704+0.000461\n",
      "[940]\tcv-test-mlogloss:0.564300+0.002578\tcv-train-mlogloss:0.501615+0.000449\n",
      "[941]\tcv-test-mlogloss:0.564268+0.002571\tcv-train-mlogloss:0.501527+0.000448\n",
      "[942]\tcv-test-mlogloss:0.564245+0.002577\tcv-train-mlogloss:0.501444+0.000448\n",
      "[943]\tcv-test-mlogloss:0.564222+0.002568\tcv-train-mlogloss:0.501356+0.000443\n",
      "[944]\tcv-test-mlogloss:0.564193+0.002572\tcv-train-mlogloss:0.501272+0.000442\n",
      "[945]\tcv-test-mlogloss:0.564168+0.002574\tcv-train-mlogloss:0.501184+0.000452\n",
      "[946]\tcv-test-mlogloss:0.564146+0.002580\tcv-train-mlogloss:0.501099+0.000452\n",
      "[947]\tcv-test-mlogloss:0.564126+0.002582\tcv-train-mlogloss:0.501020+0.000449\n",
      "[948]\tcv-test-mlogloss:0.564103+0.002589\tcv-train-mlogloss:0.500934+0.000451\n",
      "[949]\tcv-test-mlogloss:0.564077+0.002595\tcv-train-mlogloss:0.500846+0.000451\n",
      "[950]\tcv-test-mlogloss:0.564049+0.002595\tcv-train-mlogloss:0.500750+0.000451\n",
      "[951]\tcv-test-mlogloss:0.564030+0.002593\tcv-train-mlogloss:0.500658+0.000457\n",
      "[952]\tcv-test-mlogloss:0.564000+0.002590\tcv-train-mlogloss:0.500563+0.000456\n",
      "[953]\tcv-test-mlogloss:0.563977+0.002595\tcv-train-mlogloss:0.500488+0.000468\n",
      "[954]\tcv-test-mlogloss:0.563945+0.002589\tcv-train-mlogloss:0.500385+0.000467\n",
      "[955]\tcv-test-mlogloss:0.563931+0.002599\tcv-train-mlogloss:0.500297+0.000468\n",
      "[956]\tcv-test-mlogloss:0.563908+0.002601\tcv-train-mlogloss:0.500212+0.000467\n",
      "[957]\tcv-test-mlogloss:0.563891+0.002603\tcv-train-mlogloss:0.500125+0.000470\n",
      "[958]\tcv-test-mlogloss:0.563865+0.002609\tcv-train-mlogloss:0.500032+0.000469\n",
      "[959]\tcv-test-mlogloss:0.563839+0.002612\tcv-train-mlogloss:0.499946+0.000468\n",
      "[960]\tcv-test-mlogloss:0.563810+0.002616\tcv-train-mlogloss:0.499851+0.000465\n",
      "[961]\tcv-test-mlogloss:0.563779+0.002610\tcv-train-mlogloss:0.499758+0.000475\n",
      "[962]\tcv-test-mlogloss:0.563756+0.002616\tcv-train-mlogloss:0.499678+0.000467\n",
      "[963]\tcv-test-mlogloss:0.563739+0.002616\tcv-train-mlogloss:0.499602+0.000465\n",
      "[964]\tcv-test-mlogloss:0.563713+0.002616\tcv-train-mlogloss:0.499510+0.000457\n",
      "[965]\tcv-test-mlogloss:0.563689+0.002615\tcv-train-mlogloss:0.499418+0.000457\n",
      "[966]\tcv-test-mlogloss:0.563669+0.002615\tcv-train-mlogloss:0.499341+0.000458\n",
      "[967]\tcv-test-mlogloss:0.563643+0.002618\tcv-train-mlogloss:0.499256+0.000470\n",
      "[968]\tcv-test-mlogloss:0.563616+0.002623\tcv-train-mlogloss:0.499168+0.000475\n",
      "[969]\tcv-test-mlogloss:0.563589+0.002627\tcv-train-mlogloss:0.499072+0.000470\n",
      "[970]\tcv-test-mlogloss:0.563567+0.002626\tcv-train-mlogloss:0.498992+0.000472\n",
      "[971]\tcv-test-mlogloss:0.563540+0.002635\tcv-train-mlogloss:0.498907+0.000469\n",
      "[972]\tcv-test-mlogloss:0.563517+0.002644\tcv-train-mlogloss:0.498829+0.000475\n",
      "[973]\tcv-test-mlogloss:0.563498+0.002643\tcv-train-mlogloss:0.498729+0.000474\n",
      "[974]\tcv-test-mlogloss:0.563471+0.002652\tcv-train-mlogloss:0.498629+0.000470\n",
      "[975]\tcv-test-mlogloss:0.563447+0.002656\tcv-train-mlogloss:0.498549+0.000462\n",
      "[976]\tcv-test-mlogloss:0.563422+0.002657\tcv-train-mlogloss:0.498457+0.000456\n",
      "[977]\tcv-test-mlogloss:0.563398+0.002658\tcv-train-mlogloss:0.498361+0.000463\n",
      "[978]\tcv-test-mlogloss:0.563375+0.002661\tcv-train-mlogloss:0.498282+0.000461\n",
      "[979]\tcv-test-mlogloss:0.563354+0.002661\tcv-train-mlogloss:0.498209+0.000456\n",
      "[980]\tcv-test-mlogloss:0.563327+0.002666\tcv-train-mlogloss:0.498122+0.000455\n",
      "[981]\tcv-test-mlogloss:0.563303+0.002668\tcv-train-mlogloss:0.498029+0.000456\n",
      "[982]\tcv-test-mlogloss:0.563283+0.002673\tcv-train-mlogloss:0.497955+0.000465\n",
      "[983]\tcv-test-mlogloss:0.563258+0.002672\tcv-train-mlogloss:0.497862+0.000461\n",
      "[984]\tcv-test-mlogloss:0.563232+0.002683\tcv-train-mlogloss:0.497774+0.000461\n",
      "[985]\tcv-test-mlogloss:0.563204+0.002674\tcv-train-mlogloss:0.497679+0.000466\n",
      "[986]\tcv-test-mlogloss:0.563174+0.002678\tcv-train-mlogloss:0.497589+0.000468\n",
      "[987]\tcv-test-mlogloss:0.563157+0.002684\tcv-train-mlogloss:0.497507+0.000467\n",
      "[988]\tcv-test-mlogloss:0.563129+0.002689\tcv-train-mlogloss:0.497420+0.000459\n",
      "[989]\tcv-test-mlogloss:0.563108+0.002686\tcv-train-mlogloss:0.497337+0.000452\n",
      "[990]\tcv-test-mlogloss:0.563090+0.002685\tcv-train-mlogloss:0.497252+0.000459\n",
      "[991]\tcv-test-mlogloss:0.563060+0.002690\tcv-train-mlogloss:0.497163+0.000461\n",
      "[992]\tcv-test-mlogloss:0.563033+0.002688\tcv-train-mlogloss:0.497062+0.000459\n",
      "[993]\tcv-test-mlogloss:0.563006+0.002693\tcv-train-mlogloss:0.496968+0.000469\n",
      "[994]\tcv-test-mlogloss:0.562988+0.002698\tcv-train-mlogloss:0.496892+0.000467\n",
      "[995]\tcv-test-mlogloss:0.562970+0.002700\tcv-train-mlogloss:0.496805+0.000470\n",
      "[996]\tcv-test-mlogloss:0.562947+0.002701\tcv-train-mlogloss:0.496713+0.000479\n",
      "[997]\tcv-test-mlogloss:0.562923+0.002704\tcv-train-mlogloss:0.496632+0.000473\n",
      "[998]\tcv-test-mlogloss:0.562901+0.002700\tcv-train-mlogloss:0.496542+0.000476\n",
      "[999]\tcv-test-mlogloss:0.562881+0.002698\tcv-train-mlogloss:0.496452+0.000481\n"
     ]
    },
    {
     "ename": "TypeError",
     "evalue": "list indices must be integers or slices, not str",
     "output_type": "error",
     "traceback": [
      "\u001b[1;31m---------------------------------------------------------------------------\u001b[0m",
      "\u001b[1;31mTypeError\u001b[0m                                 Traceback (most recent call last)",
      "\u001b[1;32m<ipython-input-53-507cb352f47f>\u001b[0m in \u001b[0;36m<module>\u001b[1;34m()\u001b[0m\n\u001b[0;32m      1\u001b[0m \u001b[0mbst\u001b[0m \u001b[1;33m=\u001b[0m \u001b[0mxgb\u001b[0m\u001b[1;33m.\u001b[0m\u001b[0mcv\u001b[0m\u001b[1;33m(\u001b[0m\u001b[0mparams\u001b[0m\u001b[1;33m,\u001b[0m \u001b[0mdtrain\u001b[0m\u001b[1;33m,\u001b[0m \u001b[1;36m1000\u001b[0m\u001b[1;33m,\u001b[0m \u001b[0mNFOLDS\u001b[0m\u001b[1;33m)\u001b[0m\u001b[1;33m\u001b[0m\u001b[0m\n\u001b[0;32m      2\u001b[0m \u001b[1;33m\u001b[0m\u001b[0m\n\u001b[1;32m----> 3\u001b[1;33m \u001b[0mbest_rounds\u001b[0m \u001b[1;33m=\u001b[0m \u001b[0mnp\u001b[0m\u001b[1;33m.\u001b[0m\u001b[0margmin\u001b[0m\u001b[1;33m(\u001b[0m\u001b[0mbst\u001b[0m\u001b[1;33m[\u001b[0m\u001b[1;34m'test-mlogloss-mean'\u001b[0m\u001b[1;33m]\u001b[0m\u001b[1;33m)\u001b[0m\u001b[1;33m\u001b[0m\u001b[0m\n\u001b[0m\u001b[0;32m      4\u001b[0m \u001b[1;33m\u001b[0m\u001b[0m\n\u001b[0;32m      5\u001b[0m \u001b[0mbst\u001b[0m \u001b[1;33m=\u001b[0m \u001b[0mxgb\u001b[0m\u001b[1;33m.\u001b[0m\u001b[0mdtrain\u001b[0m\u001b[1;33m(\u001b[0m\u001b[0mparams\u001b[0m\u001b[1;33m,\u001b[0m \u001b[0mdtrain\u001b[0m\u001b[1;33m,\u001b[0m \u001b[0mbest_rounds\u001b[0m\u001b[1;33m)\u001b[0m\u001b[1;33m\u001b[0m\u001b[0m\n",
      "\u001b[1;31mTypeError\u001b[0m: list indices must be integers or slices, not str"
     ]
    }
   ],
   "source": [
    "bst = xgb.cv(params, dtrain, 1000, NFOLDS)\n",
    "\n",
    "best_rounds = np.argmin(bst['test-mlogloss-mean'])\n",
    "\n",
    "bst = xgb.dtrain(params, dtrain, best_rounds)\n",
    "\n",
    "preds = bst.predict(dtest)\n",
    "\n",
    "preds = pd.Dataframe(preds)\n",
    "\n",
    "cols = ['high', 'medium', 'low']\n",
    "\n",
    "preds.columns = cols\n",
    "\n",
    "preds['listing_id'] = listing_id\n",
    "\n",
    "preds.to_csv('C:/Users/parth/Desktop/Git/Projects/TwoSigma/Data/xgb_submission1.csv', index=None)"
   ]
  },
  {
   "cell_type": "code",
   "execution_count": 61,
   "metadata": {
    "collapsed": false
   },
   "outputs": [
    {
     "ename": "TypeError",
     "evalue": "list indices must be integers or slices, not str",
     "output_type": "error",
     "traceback": [
      "\u001b[1;31m---------------------------------------------------------------------------\u001b[0m",
      "\u001b[1;31mTypeError\u001b[0m                                 Traceback (most recent call last)",
      "\u001b[1;32m<ipython-input-61-fe4b39ad4a66>\u001b[0m in \u001b[0;36m<module>\u001b[1;34m()\u001b[0m\n\u001b[1;32m----> 1\u001b[1;33m \u001b[0mprint\u001b[0m\u001b[1;33m(\u001b[0m\u001b[0mnp\u001b[0m\u001b[1;33m.\u001b[0m\u001b[0margmin\u001b[0m\u001b[1;33m(\u001b[0m\u001b[0mbst\u001b[0m\u001b[1;33m[\u001b[0m\u001b[1;34m'cv-test-mlogloss-mean'\u001b[0m\u001b[1;33m]\u001b[0m\u001b[1;33m)\u001b[0m\u001b[1;33m)\u001b[0m\u001b[1;33m\u001b[0m\u001b[0m\n\u001b[0m",
      "\u001b[1;31mTypeError\u001b[0m: list indices must be integers or slices, not str"
     ]
    }
   ],
   "source": [
    "print(np.argmin(bst['cv-test-mlogloss-mean']))"
   ]
  },
  {
   "cell_type": "code",
   "execution_count": 65,
   "metadata": {
    "collapsed": true
   },
   "outputs": [],
   "source": [
    "def runXGB(train_X, train_y, test_X, test_y=None, feature_names=None, seed_val=0, num_rounds=1000):\n",
    "    param = {}\n",
    "    param['objective'] = 'multi:softprob'\n",
    "    param['eta'] = 0.1\n",
    "    param['max_depth'] = 6\n",
    "    param['silent'] = 1\n",
    "    param['num_class'] = 3\n",
    "    param['eval_metric'] = \"mlogloss\"\n",
    "    param['min_child_weight'] = 1\n",
    "    param['subsample'] = 0.7\n",
    "    param['colsample_bytree'] = 0.7\n",
    "    param['seed'] = seed_val\n",
    "    num_rounds = num_rounds\n",
    "\n",
    "    plst = list(param.items())\n",
    "    xgtrain = xgb.DMatrix(train_X, label=train_y)\n",
    "\n",
    "    if test_y is not None:\n",
    "        xgtest = xgb.DMatrix(test_X, label=test_y)\n",
    "        watchlist = [ (xgtrain,'train'), (xgtest, 'test') ]\n",
    "        model = xgb.train(plst, xgtrain, num_rounds, watchlist, early_stopping_rounds=1000)\n",
    "    else:\n",
    "        xgtest = xgb.DMatrix(test_X)\n",
    "        model = xgb.train(plst, xgtrain, num_rounds)\n",
    "\n",
    "    pred_test_y = model.predict(xgtest)\n",
    "    return pred_test_y, model"
   ]
  },
  {
   "cell_type": "code",
   "execution_count": 56,
   "metadata": {
    "collapsed": false
   },
   "outputs": [
    {
     "data": {
      "text/html": [
       "<div>\n",
       "<table border=\"1\" class=\"dataframe\">\n",
       "  <thead>\n",
       "    <tr style=\"text-align: right;\">\n",
       "      <th></th>\n",
       "      <th>bathrooms</th>\n",
       "      <th>bedrooms</th>\n",
       "      <th>price</th>\n",
       "      <th>month_created</th>\n",
       "      <th>day_created</th>\n",
       "      <th>hour_created</th>\n",
       "      <th>noofFeatures</th>\n",
       "      <th>noOfDescWords</th>\n",
       "      <th>latitude</th>\n",
       "      <th>longitude</th>\n",
       "      <th>noofPhotos</th>\n",
       "      <th>manager_id</th>\n",
       "      <th>manager_skill</th>\n",
       "    </tr>\n",
       "  </thead>\n",
       "  <tbody>\n",
       "    <tr>\n",
       "      <th>0</th>\n",
       "      <td>2.0</td>\n",
       "      <td>4</td>\n",
       "      <td>12000.0</td>\n",
       "      <td>6</td>\n",
       "      <td>7</td>\n",
       "      <td>2</td>\n",
       "      <td>5</td>\n",
       "      <td>164</td>\n",
       "      <td>40.7328</td>\n",
       "      <td>-73.9850</td>\n",
       "      <td>3</td>\n",
       "      <td>313</td>\n",
       "      <td>0.395470</td>\n",
       "    </tr>\n",
       "    <tr>\n",
       "      <th>1</th>\n",
       "      <td>1.0</td>\n",
       "      <td>3</td>\n",
       "      <td>3995.0</td>\n",
       "      <td>5</td>\n",
       "      <td>20</td>\n",
       "      <td>6</td>\n",
       "      <td>9</td>\n",
       "      <td>71</td>\n",
       "      <td>40.7319</td>\n",
       "      <td>-73.9817</td>\n",
       "      <td>5</td>\n",
       "      <td>457</td>\n",
       "      <td>0.854839</td>\n",
       "    </tr>\n",
       "    <tr>\n",
       "      <th>2</th>\n",
       "      <td>1.0</td>\n",
       "      <td>0</td>\n",
       "      <td>1875.0</td>\n",
       "      <td>6</td>\n",
       "      <td>5</td>\n",
       "      <td>20</td>\n",
       "      <td>0</td>\n",
       "      <td>60</td>\n",
       "      <td>40.7311</td>\n",
       "      <td>-73.9896</td>\n",
       "      <td>6</td>\n",
       "      <td>762</td>\n",
       "      <td>0.636364</td>\n",
       "    </tr>\n",
       "    <tr>\n",
       "      <th>3</th>\n",
       "      <td>1.0</td>\n",
       "      <td>2</td>\n",
       "      <td>3400.0</td>\n",
       "      <td>6</td>\n",
       "      <td>4</td>\n",
       "      <td>5</td>\n",
       "      <td>7</td>\n",
       "      <td>112</td>\n",
       "      <td>40.7637</td>\n",
       "      <td>-73.9938</td>\n",
       "      <td>4</td>\n",
       "      <td>2523</td>\n",
       "      <td>0.793103</td>\n",
       "    </tr>\n",
       "    <tr>\n",
       "      <th>4</th>\n",
       "      <td>1.0</td>\n",
       "      <td>3</td>\n",
       "      <td>4782.0</td>\n",
       "      <td>6</td>\n",
       "      <td>16</td>\n",
       "      <td>8</td>\n",
       "      <td>6</td>\n",
       "      <td>68</td>\n",
       "      <td>40.7513</td>\n",
       "      <td>-73.9721</td>\n",
       "      <td>4</td>\n",
       "      <td>586</td>\n",
       "      <td>0.432432</td>\n",
       "    </tr>\n",
       "  </tbody>\n",
       "</table>\n",
       "</div>"
      ],
      "text/plain": [
       "   bathrooms  bedrooms    price  month_created  day_created  hour_created  \\\n",
       "0        2.0         4  12000.0              6            7             2   \n",
       "1        1.0         3   3995.0              5           20             6   \n",
       "2        1.0         0   1875.0              6            5            20   \n",
       "3        1.0         2   3400.0              6            4             5   \n",
       "4        1.0         3   4782.0              6           16             8   \n",
       "\n",
       "   noofFeatures  noOfDescWords  latitude  longitude  noofPhotos  manager_id  \\\n",
       "0             5            164   40.7328   -73.9850           3         313   \n",
       "1             9             71   40.7319   -73.9817           5         457   \n",
       "2             0             60   40.7311   -73.9896           6         762   \n",
       "3             7            112   40.7637   -73.9938           4        2523   \n",
       "4             6             68   40.7513   -73.9721           4         586   \n",
       "\n",
       "   manager_skill  \n",
       "0       0.395470  \n",
       "1       0.854839  \n",
       "2       0.636364  \n",
       "3       0.793103  \n",
       "4       0.432432  "
      ]
     },
     "execution_count": 56,
     "metadata": {},
     "output_type": "execute_result"
    }
   ],
   "source": [
    "train_X.head()"
   ]
  },
  {
   "cell_type": "code",
   "execution_count": 63,
   "metadata": {
    "collapsed": false
   },
   "outputs": [],
   "source": [
    "#trainX = sparse.csr_matrix(train_X.values)\n",
    "testX = sparse.csr_matrix(X_test[currentFeatures].values)\n",
    "#testX = sparse.hstack([X_test[currentFeatures]]).tocsr()"
   ]
  },
  {
   "cell_type": "code",
   "execution_count": 66,
   "metadata": {
    "collapsed": false
   },
   "outputs": [
    {
     "name": "stderr",
     "output_type": "stream",
     "text": [
      "Will train until test error hasn't decreased in 1000 rounds.\n",
      "[0]\ttrain-mlogloss:1.037372\ttest-mlogloss:1.036824\n",
      "[1]\ttrain-mlogloss:0.989330\ttest-mlogloss:0.988245\n",
      "[2]\ttrain-mlogloss:0.945050\ttest-mlogloss:0.943350\n",
      "[3]\ttrain-mlogloss:0.909178\ttest-mlogloss:0.907260\n",
      "[4]\ttrain-mlogloss:0.874058\ttest-mlogloss:0.871760\n",
      "[5]\ttrain-mlogloss:0.842097\ttest-mlogloss:0.839600\n",
      "[6]\ttrain-mlogloss:0.814606\ttest-mlogloss:0.811978\n",
      "[7]\ttrain-mlogloss:0.792446\ttest-mlogloss:0.789659\n",
      "[8]\ttrain-mlogloss:0.770231\ttest-mlogloss:0.767358\n",
      "[9]\ttrain-mlogloss:0.750961\ttest-mlogloss:0.747947\n",
      "[10]\ttrain-mlogloss:0.735221\ttest-mlogloss:0.732262\n",
      "[11]\ttrain-mlogloss:0.720223\ttest-mlogloss:0.717370\n",
      "[12]\ttrain-mlogloss:0.707327\ttest-mlogloss:0.704584\n",
      "[13]\ttrain-mlogloss:0.695245\ttest-mlogloss:0.692656\n",
      "[14]\ttrain-mlogloss:0.685266\ttest-mlogloss:0.682834\n",
      "[15]\ttrain-mlogloss:0.675110\ttest-mlogloss:0.672972\n",
      "[16]\ttrain-mlogloss:0.666196\ttest-mlogloss:0.664427\n",
      "[17]\ttrain-mlogloss:0.658587\ttest-mlogloss:0.656984\n",
      "[18]\ttrain-mlogloss:0.650350\ttest-mlogloss:0.649048\n",
      "[19]\ttrain-mlogloss:0.643375\ttest-mlogloss:0.642275\n",
      "[20]\ttrain-mlogloss:0.636929\ttest-mlogloss:0.636210\n",
      "[21]\ttrain-mlogloss:0.631379\ttest-mlogloss:0.631030\n",
      "[22]\ttrain-mlogloss:0.626004\ttest-mlogloss:0.626000\n",
      "[23]\ttrain-mlogloss:0.621290\ttest-mlogloss:0.621618\n",
      "[24]\ttrain-mlogloss:0.616488\ttest-mlogloss:0.617238\n",
      "[25]\ttrain-mlogloss:0.611691\ttest-mlogloss:0.613214\n",
      "[26]\ttrain-mlogloss:0.607719\ttest-mlogloss:0.609815\n",
      "[27]\ttrain-mlogloss:0.604649\ttest-mlogloss:0.607098\n",
      "[28]\ttrain-mlogloss:0.601201\ttest-mlogloss:0.603835\n",
      "[29]\ttrain-mlogloss:0.597789\ttest-mlogloss:0.600892\n",
      "[30]\ttrain-mlogloss:0.595157\ttest-mlogloss:0.599064\n",
      "[31]\ttrain-mlogloss:0.592519\ttest-mlogloss:0.596701\n",
      "[32]\ttrain-mlogloss:0.589998\ttest-mlogloss:0.594877\n",
      "[33]\ttrain-mlogloss:0.587455\ttest-mlogloss:0.592842\n",
      "[34]\ttrain-mlogloss:0.585168\ttest-mlogloss:0.590898\n",
      "[35]\ttrain-mlogloss:0.583243\ttest-mlogloss:0.589712\n",
      "[36]\ttrain-mlogloss:0.580383\ttest-mlogloss:0.587585\n",
      "[37]\ttrain-mlogloss:0.578632\ttest-mlogloss:0.586337\n",
      "[38]\ttrain-mlogloss:0.576939\ttest-mlogloss:0.584975\n",
      "[39]\ttrain-mlogloss:0.574955\ttest-mlogloss:0.583681\n",
      "[40]\ttrain-mlogloss:0.573116\ttest-mlogloss:0.582577\n",
      "[41]\ttrain-mlogloss:0.571512\ttest-mlogloss:0.581368\n",
      "[42]\ttrain-mlogloss:0.570109\ttest-mlogloss:0.580542\n",
      "[43]\ttrain-mlogloss:0.567867\ttest-mlogloss:0.578892\n",
      "[44]\ttrain-mlogloss:0.566418\ttest-mlogloss:0.578336\n",
      "[45]\ttrain-mlogloss:0.564476\ttest-mlogloss:0.577101\n",
      "[46]\ttrain-mlogloss:0.563371\ttest-mlogloss:0.576576\n",
      "[47]\ttrain-mlogloss:0.561711\ttest-mlogloss:0.575377\n",
      "[48]\ttrain-mlogloss:0.560382\ttest-mlogloss:0.574453\n",
      "[49]\ttrain-mlogloss:0.558922\ttest-mlogloss:0.573470\n",
      "[50]\ttrain-mlogloss:0.557481\ttest-mlogloss:0.572615\n",
      "[51]\ttrain-mlogloss:0.555859\ttest-mlogloss:0.571566\n",
      "[52]\ttrain-mlogloss:0.554702\ttest-mlogloss:0.571021\n",
      "[53]\ttrain-mlogloss:0.553550\ttest-mlogloss:0.570505\n",
      "[54]\ttrain-mlogloss:0.551721\ttest-mlogloss:0.569514\n",
      "[55]\ttrain-mlogloss:0.550385\ttest-mlogloss:0.568784\n",
      "[56]\ttrain-mlogloss:0.549534\ttest-mlogloss:0.568465\n",
      "[57]\ttrain-mlogloss:0.548011\ttest-mlogloss:0.567661\n",
      "[58]\ttrain-mlogloss:0.546526\ttest-mlogloss:0.566905\n",
      "[59]\ttrain-mlogloss:0.544863\ttest-mlogloss:0.565879\n",
      "[60]\ttrain-mlogloss:0.543273\ttest-mlogloss:0.565129\n",
      "[61]\ttrain-mlogloss:0.541950\ttest-mlogloss:0.564594\n",
      "[62]\ttrain-mlogloss:0.540549\ttest-mlogloss:0.563987\n",
      "[63]\ttrain-mlogloss:0.539554\ttest-mlogloss:0.563574\n",
      "[64]\ttrain-mlogloss:0.538192\ttest-mlogloss:0.562985\n",
      "[65]\ttrain-mlogloss:0.537030\ttest-mlogloss:0.562329\n",
      "[66]\ttrain-mlogloss:0.535855\ttest-mlogloss:0.561753\n",
      "[67]\ttrain-mlogloss:0.534623\ttest-mlogloss:0.561402\n",
      "[68]\ttrain-mlogloss:0.533502\ttest-mlogloss:0.561005\n",
      "[69]\ttrain-mlogloss:0.532256\ttest-mlogloss:0.560573\n",
      "[70]\ttrain-mlogloss:0.531211\ttest-mlogloss:0.560131\n",
      "[71]\ttrain-mlogloss:0.530121\ttest-mlogloss:0.559801\n",
      "[72]\ttrain-mlogloss:0.529200\ttest-mlogloss:0.559586\n",
      "[73]\ttrain-mlogloss:0.528434\ttest-mlogloss:0.559435\n",
      "[74]\ttrain-mlogloss:0.527139\ttest-mlogloss:0.558940\n",
      "[75]\ttrain-mlogloss:0.526111\ttest-mlogloss:0.558636\n",
      "[76]\ttrain-mlogloss:0.524937\ttest-mlogloss:0.558315\n",
      "[77]\ttrain-mlogloss:0.523819\ttest-mlogloss:0.557975\n",
      "[78]\ttrain-mlogloss:0.522708\ttest-mlogloss:0.557615\n",
      "[79]\ttrain-mlogloss:0.521725\ttest-mlogloss:0.557184\n",
      "[80]\ttrain-mlogloss:0.520839\ttest-mlogloss:0.556719\n",
      "[81]\ttrain-mlogloss:0.519847\ttest-mlogloss:0.556466\n",
      "[82]\ttrain-mlogloss:0.519048\ttest-mlogloss:0.556149\n",
      "[83]\ttrain-mlogloss:0.518284\ttest-mlogloss:0.555852\n",
      "[84]\ttrain-mlogloss:0.517529\ttest-mlogloss:0.555678\n",
      "[85]\ttrain-mlogloss:0.516373\ttest-mlogloss:0.555249\n",
      "[86]\ttrain-mlogloss:0.515264\ttest-mlogloss:0.554986\n",
      "[87]\ttrain-mlogloss:0.514410\ttest-mlogloss:0.554794\n",
      "[88]\ttrain-mlogloss:0.513405\ttest-mlogloss:0.554541\n",
      "[89]\ttrain-mlogloss:0.512387\ttest-mlogloss:0.554186\n",
      "[90]\ttrain-mlogloss:0.511552\ttest-mlogloss:0.553836\n",
      "[91]\ttrain-mlogloss:0.510783\ttest-mlogloss:0.553602\n",
      "[92]\ttrain-mlogloss:0.509969\ttest-mlogloss:0.553441\n",
      "[93]\ttrain-mlogloss:0.509063\ttest-mlogloss:0.553131\n",
      "[94]\ttrain-mlogloss:0.508258\ttest-mlogloss:0.552978\n",
      "[95]\ttrain-mlogloss:0.507630\ttest-mlogloss:0.552798\n",
      "[96]\ttrain-mlogloss:0.506926\ttest-mlogloss:0.552661\n",
      "[97]\ttrain-mlogloss:0.506126\ttest-mlogloss:0.552383\n",
      "[98]\ttrain-mlogloss:0.505222\ttest-mlogloss:0.552179\n",
      "[99]\ttrain-mlogloss:0.504275\ttest-mlogloss:0.551992\n",
      "[100]\ttrain-mlogloss:0.503245\ttest-mlogloss:0.551808\n",
      "[101]\ttrain-mlogloss:0.502491\ttest-mlogloss:0.551558\n",
      "[102]\ttrain-mlogloss:0.501478\ttest-mlogloss:0.551364\n",
      "[103]\ttrain-mlogloss:0.500615\ttest-mlogloss:0.550980\n",
      "[104]\ttrain-mlogloss:0.499783\ttest-mlogloss:0.550774\n",
      "[105]\ttrain-mlogloss:0.498783\ttest-mlogloss:0.550498\n",
      "[106]\ttrain-mlogloss:0.497842\ttest-mlogloss:0.550174\n",
      "[107]\ttrain-mlogloss:0.497322\ttest-mlogloss:0.550071\n",
      "[108]\ttrain-mlogloss:0.496469\ttest-mlogloss:0.549950\n",
      "[109]\ttrain-mlogloss:0.495530\ttest-mlogloss:0.549746\n",
      "[110]\ttrain-mlogloss:0.494689\ttest-mlogloss:0.549490\n",
      "[111]\ttrain-mlogloss:0.493886\ttest-mlogloss:0.549353\n",
      "[112]\ttrain-mlogloss:0.493054\ttest-mlogloss:0.549170\n",
      "[113]\ttrain-mlogloss:0.492255\ttest-mlogloss:0.549073\n",
      "[114]\ttrain-mlogloss:0.491676\ttest-mlogloss:0.548999\n",
      "[115]\ttrain-mlogloss:0.490814\ttest-mlogloss:0.548752\n",
      "[116]\ttrain-mlogloss:0.489944\ttest-mlogloss:0.548521\n",
      "[117]\ttrain-mlogloss:0.489065\ttest-mlogloss:0.548266\n",
      "[118]\ttrain-mlogloss:0.488151\ttest-mlogloss:0.548138\n",
      "[119]\ttrain-mlogloss:0.487504\ttest-mlogloss:0.547991\n",
      "[120]\ttrain-mlogloss:0.486818\ttest-mlogloss:0.547823\n",
      "[121]\ttrain-mlogloss:0.486075\ttest-mlogloss:0.547700\n",
      "[122]\ttrain-mlogloss:0.485435\ttest-mlogloss:0.547680\n",
      "[123]\ttrain-mlogloss:0.484825\ttest-mlogloss:0.547590\n",
      "[124]\ttrain-mlogloss:0.484143\ttest-mlogloss:0.547315\n",
      "[125]\ttrain-mlogloss:0.483488\ttest-mlogloss:0.547246\n",
      "[126]\ttrain-mlogloss:0.482827\ttest-mlogloss:0.547083\n",
      "[127]\ttrain-mlogloss:0.482337\ttest-mlogloss:0.546892\n",
      "[128]\ttrain-mlogloss:0.481632\ttest-mlogloss:0.546713\n",
      "[129]\ttrain-mlogloss:0.481091\ttest-mlogloss:0.546655\n",
      "[130]\ttrain-mlogloss:0.480440\ttest-mlogloss:0.546531\n",
      "[131]\ttrain-mlogloss:0.479734\ttest-mlogloss:0.546442\n",
      "[132]\ttrain-mlogloss:0.479043\ttest-mlogloss:0.546461\n",
      "[133]\ttrain-mlogloss:0.478328\ttest-mlogloss:0.546347\n",
      "[134]\ttrain-mlogloss:0.477685\ttest-mlogloss:0.546382\n",
      "[135]\ttrain-mlogloss:0.477005\ttest-mlogloss:0.546306\n",
      "[136]\ttrain-mlogloss:0.476399\ttest-mlogloss:0.546267\n",
      "[137]\ttrain-mlogloss:0.475853\ttest-mlogloss:0.546310\n",
      "[138]\ttrain-mlogloss:0.475075\ttest-mlogloss:0.546162\n",
      "[139]\ttrain-mlogloss:0.474523\ttest-mlogloss:0.546163\n",
      "[140]\ttrain-mlogloss:0.473627\ttest-mlogloss:0.545821\n",
      "[141]\ttrain-mlogloss:0.473003\ttest-mlogloss:0.545777\n",
      "[142]\ttrain-mlogloss:0.472232\ttest-mlogloss:0.545767\n",
      "[143]\ttrain-mlogloss:0.471313\ttest-mlogloss:0.545654\n",
      "[144]\ttrain-mlogloss:0.470685\ttest-mlogloss:0.545655\n",
      "[145]\ttrain-mlogloss:0.470062\ttest-mlogloss:0.545514\n",
      "[146]\ttrain-mlogloss:0.469529\ttest-mlogloss:0.545561\n",
      "[147]\ttrain-mlogloss:0.468953\ttest-mlogloss:0.545594\n",
      "[148]\ttrain-mlogloss:0.468324\ttest-mlogloss:0.545718\n",
      "[149]\ttrain-mlogloss:0.467602\ttest-mlogloss:0.545578\n",
      "[150]\ttrain-mlogloss:0.467012\ttest-mlogloss:0.545493\n",
      "[151]\ttrain-mlogloss:0.466326\ttest-mlogloss:0.545288\n",
      "[152]\ttrain-mlogloss:0.465697\ttest-mlogloss:0.545103\n",
      "[153]\ttrain-mlogloss:0.465130\ttest-mlogloss:0.545092\n",
      "[154]\ttrain-mlogloss:0.464408\ttest-mlogloss:0.544993\n",
      "[155]\ttrain-mlogloss:0.463810\ttest-mlogloss:0.545042\n",
      "[156]\ttrain-mlogloss:0.463237\ttest-mlogloss:0.544950\n",
      "[157]\ttrain-mlogloss:0.462683\ttest-mlogloss:0.544997\n",
      "[158]\ttrain-mlogloss:0.462054\ttest-mlogloss:0.544916\n",
      "[159]\ttrain-mlogloss:0.461286\ttest-mlogloss:0.544890\n",
      "[160]\ttrain-mlogloss:0.460664\ttest-mlogloss:0.544932\n",
      "[161]\ttrain-mlogloss:0.460188\ttest-mlogloss:0.544800\n",
      "[162]\ttrain-mlogloss:0.459629\ttest-mlogloss:0.544687\n",
      "[163]\ttrain-mlogloss:0.458931\ttest-mlogloss:0.544571\n",
      "[164]\ttrain-mlogloss:0.458497\ttest-mlogloss:0.544545\n",
      "[165]\ttrain-mlogloss:0.457965\ttest-mlogloss:0.544527\n",
      "[166]\ttrain-mlogloss:0.457327\ttest-mlogloss:0.544523\n",
      "[167]\ttrain-mlogloss:0.456676\ttest-mlogloss:0.544502\n",
      "[168]\ttrain-mlogloss:0.456001\ttest-mlogloss:0.544475\n",
      "[169]\ttrain-mlogloss:0.455340\ttest-mlogloss:0.544287\n",
      "[170]\ttrain-mlogloss:0.454746\ttest-mlogloss:0.544248\n",
      "[171]\ttrain-mlogloss:0.454373\ttest-mlogloss:0.544055\n",
      "[172]\ttrain-mlogloss:0.453635\ttest-mlogloss:0.543993\n",
      "[173]\ttrain-mlogloss:0.452998\ttest-mlogloss:0.543984\n",
      "[174]\ttrain-mlogloss:0.452313\ttest-mlogloss:0.543892\n",
      "[175]\ttrain-mlogloss:0.451727\ttest-mlogloss:0.543882\n",
      "[176]\ttrain-mlogloss:0.451186\ttest-mlogloss:0.543904\n",
      "[177]\ttrain-mlogloss:0.450629\ttest-mlogloss:0.543950\n",
      "[178]\ttrain-mlogloss:0.450002\ttest-mlogloss:0.543837\n",
      "[179]\ttrain-mlogloss:0.449353\ttest-mlogloss:0.543751\n",
      "[180]\ttrain-mlogloss:0.448774\ttest-mlogloss:0.543693\n",
      "[181]\ttrain-mlogloss:0.448198\ttest-mlogloss:0.543664\n",
      "[182]\ttrain-mlogloss:0.447664\ttest-mlogloss:0.543671\n",
      "[183]\ttrain-mlogloss:0.447073\ttest-mlogloss:0.543609\n",
      "[184]\ttrain-mlogloss:0.446418\ttest-mlogloss:0.543696\n",
      "[185]\ttrain-mlogloss:0.445992\ttest-mlogloss:0.543655\n",
      "[186]\ttrain-mlogloss:0.445389\ttest-mlogloss:0.543613\n",
      "[187]\ttrain-mlogloss:0.444873\ttest-mlogloss:0.543635\n",
      "[188]\ttrain-mlogloss:0.444174\ttest-mlogloss:0.543789\n",
      "[189]\ttrain-mlogloss:0.443703\ttest-mlogloss:0.543750\n",
      "[190]\ttrain-mlogloss:0.443101\ttest-mlogloss:0.543732\n",
      "[191]\ttrain-mlogloss:0.442669\ttest-mlogloss:0.543711\n",
      "[192]\ttrain-mlogloss:0.442070\ttest-mlogloss:0.543718\n",
      "[193]\ttrain-mlogloss:0.441561\ttest-mlogloss:0.543686\n",
      "[194]\ttrain-mlogloss:0.441013\ttest-mlogloss:0.543573\n",
      "[195]\ttrain-mlogloss:0.440428\ttest-mlogloss:0.543674\n",
      "[196]\ttrain-mlogloss:0.439803\ttest-mlogloss:0.543639\n",
      "[197]\ttrain-mlogloss:0.439194\ttest-mlogloss:0.543535\n",
      "[198]\ttrain-mlogloss:0.438783\ttest-mlogloss:0.543518\n",
      "[199]\ttrain-mlogloss:0.438346\ttest-mlogloss:0.543541\n",
      "[200]\ttrain-mlogloss:0.437894\ttest-mlogloss:0.543480\n",
      "[201]\ttrain-mlogloss:0.437377\ttest-mlogloss:0.543412\n",
      "[202]\ttrain-mlogloss:0.437049\ttest-mlogloss:0.543313\n",
      "[203]\ttrain-mlogloss:0.436646\ttest-mlogloss:0.543262\n",
      "[204]\ttrain-mlogloss:0.436083\ttest-mlogloss:0.543296\n",
      "[205]\ttrain-mlogloss:0.435553\ttest-mlogloss:0.543309\n",
      "[206]\ttrain-mlogloss:0.435037\ttest-mlogloss:0.543338\n",
      "[207]\ttrain-mlogloss:0.434536\ttest-mlogloss:0.543242\n",
      "[208]\ttrain-mlogloss:0.434060\ttest-mlogloss:0.543196\n",
      "[209]\ttrain-mlogloss:0.433610\ttest-mlogloss:0.543274\n",
      "[210]\ttrain-mlogloss:0.433022\ttest-mlogloss:0.543356\n",
      "[211]\ttrain-mlogloss:0.432542\ttest-mlogloss:0.543252\n",
      "[212]\ttrain-mlogloss:0.431970\ttest-mlogloss:0.543354\n",
      "[213]\ttrain-mlogloss:0.431296\ttest-mlogloss:0.543309\n",
      "[214]\ttrain-mlogloss:0.430746\ttest-mlogloss:0.543310\n",
      "[215]\ttrain-mlogloss:0.430198\ttest-mlogloss:0.543287\n",
      "[216]\ttrain-mlogloss:0.429664\ttest-mlogloss:0.543317\n",
      "[217]\ttrain-mlogloss:0.429038\ttest-mlogloss:0.543327\n",
      "[218]\ttrain-mlogloss:0.428628\ttest-mlogloss:0.543249\n",
      "[219]\ttrain-mlogloss:0.428112\ttest-mlogloss:0.543213\n",
      "[220]\ttrain-mlogloss:0.427767\ttest-mlogloss:0.543264\n",
      "[221]\ttrain-mlogloss:0.427215\ttest-mlogloss:0.543372\n",
      "[222]\ttrain-mlogloss:0.426570\ttest-mlogloss:0.543423\n",
      "[223]\ttrain-mlogloss:0.426130\ttest-mlogloss:0.543386\n",
      "[224]\ttrain-mlogloss:0.425567\ttest-mlogloss:0.543384\n",
      "[225]\ttrain-mlogloss:0.425123\ttest-mlogloss:0.543358\n",
      "[226]\ttrain-mlogloss:0.424526\ttest-mlogloss:0.543404\n",
      "[227]\ttrain-mlogloss:0.424086\ttest-mlogloss:0.543373\n",
      "[228]\ttrain-mlogloss:0.423605\ttest-mlogloss:0.543297\n",
      "[229]\ttrain-mlogloss:0.422997\ttest-mlogloss:0.543226\n",
      "[230]\ttrain-mlogloss:0.422359\ttest-mlogloss:0.543171\n",
      "[231]\ttrain-mlogloss:0.421860\ttest-mlogloss:0.543117\n",
      "[232]\ttrain-mlogloss:0.421427\ttest-mlogloss:0.543148\n",
      "[233]\ttrain-mlogloss:0.421012\ttest-mlogloss:0.543086\n",
      "[234]\ttrain-mlogloss:0.420569\ttest-mlogloss:0.543017\n",
      "[235]\ttrain-mlogloss:0.420063\ttest-mlogloss:0.543063\n",
      "[236]\ttrain-mlogloss:0.419475\ttest-mlogloss:0.542899\n",
      "[237]\ttrain-mlogloss:0.419058\ttest-mlogloss:0.542874\n",
      "[238]\ttrain-mlogloss:0.418616\ttest-mlogloss:0.543011\n",
      "[239]\ttrain-mlogloss:0.418139\ttest-mlogloss:0.543071\n",
      "[240]\ttrain-mlogloss:0.417724\ttest-mlogloss:0.543035\n",
      "[241]\ttrain-mlogloss:0.417193\ttest-mlogloss:0.543029\n",
      "[242]\ttrain-mlogloss:0.416786\ttest-mlogloss:0.542950\n",
      "[243]\ttrain-mlogloss:0.416313\ttest-mlogloss:0.542955\n",
      "[244]\ttrain-mlogloss:0.415698\ttest-mlogloss:0.542965\n",
      "[245]\ttrain-mlogloss:0.415268\ttest-mlogloss:0.543027\n",
      "[246]\ttrain-mlogloss:0.414862\ttest-mlogloss:0.543009\n",
      "[247]\ttrain-mlogloss:0.414403\ttest-mlogloss:0.542930\n",
      "[248]\ttrain-mlogloss:0.413815\ttest-mlogloss:0.542899\n",
      "[249]\ttrain-mlogloss:0.413286\ttest-mlogloss:0.542824\n",
      "[250]\ttrain-mlogloss:0.412786\ttest-mlogloss:0.542840\n",
      "[251]\ttrain-mlogloss:0.412210\ttest-mlogloss:0.542803\n",
      "[252]\ttrain-mlogloss:0.411800\ttest-mlogloss:0.542633\n",
      "[253]\ttrain-mlogloss:0.411398\ttest-mlogloss:0.542580\n",
      "[254]\ttrain-mlogloss:0.410799\ttest-mlogloss:0.542671\n",
      "[255]\ttrain-mlogloss:0.410283\ttest-mlogloss:0.542749\n",
      "[256]\ttrain-mlogloss:0.409866\ttest-mlogloss:0.542769\n",
      "[257]\ttrain-mlogloss:0.409354\ttest-mlogloss:0.542813\n",
      "[258]\ttrain-mlogloss:0.408893\ttest-mlogloss:0.542833\n",
      "[259]\ttrain-mlogloss:0.408429\ttest-mlogloss:0.542787\n",
      "[260]\ttrain-mlogloss:0.408036\ttest-mlogloss:0.542825\n",
      "[261]\ttrain-mlogloss:0.407532\ttest-mlogloss:0.542844\n",
      "[262]\ttrain-mlogloss:0.407075\ttest-mlogloss:0.542847\n",
      "[263]\ttrain-mlogloss:0.406682\ttest-mlogloss:0.542860\n",
      "[264]\ttrain-mlogloss:0.406138\ttest-mlogloss:0.542832\n",
      "[265]\ttrain-mlogloss:0.405665\ttest-mlogloss:0.542931\n",
      "[266]\ttrain-mlogloss:0.405241\ttest-mlogloss:0.542904\n",
      "[267]\ttrain-mlogloss:0.404684\ttest-mlogloss:0.542824\n",
      "[268]\ttrain-mlogloss:0.404120\ttest-mlogloss:0.542861\n",
      "[269]\ttrain-mlogloss:0.403565\ttest-mlogloss:0.542853\n",
      "[270]\ttrain-mlogloss:0.403297\ttest-mlogloss:0.542850\n",
      "[271]\ttrain-mlogloss:0.402830\ttest-mlogloss:0.542873\n",
      "[272]\ttrain-mlogloss:0.402384\ttest-mlogloss:0.542826\n",
      "[273]\ttrain-mlogloss:0.401777\ttest-mlogloss:0.542881\n",
      "[274]\ttrain-mlogloss:0.401207\ttest-mlogloss:0.542918\n",
      "[275]\ttrain-mlogloss:0.400694\ttest-mlogloss:0.542867\n",
      "[276]\ttrain-mlogloss:0.400210\ttest-mlogloss:0.542862\n",
      "[277]\ttrain-mlogloss:0.399812\ttest-mlogloss:0.542885\n",
      "[278]\ttrain-mlogloss:0.399383\ttest-mlogloss:0.542862\n",
      "[279]\ttrain-mlogloss:0.398946\ttest-mlogloss:0.542822\n",
      "[280]\ttrain-mlogloss:0.398430\ttest-mlogloss:0.542907\n",
      "[281]\ttrain-mlogloss:0.397934\ttest-mlogloss:0.542934\n",
      "[282]\ttrain-mlogloss:0.397453\ttest-mlogloss:0.542900\n",
      "[283]\ttrain-mlogloss:0.397125\ttest-mlogloss:0.542989\n",
      "[284]\ttrain-mlogloss:0.396701\ttest-mlogloss:0.542947\n",
      "[285]\ttrain-mlogloss:0.396174\ttest-mlogloss:0.542931\n",
      "[286]\ttrain-mlogloss:0.395675\ttest-mlogloss:0.542875\n",
      "[287]\ttrain-mlogloss:0.395274\ttest-mlogloss:0.542940\n",
      "[288]\ttrain-mlogloss:0.394769\ttest-mlogloss:0.542914\n",
      "[289]\ttrain-mlogloss:0.394379\ttest-mlogloss:0.542879\n",
      "[290]\ttrain-mlogloss:0.393924\ttest-mlogloss:0.542924\n",
      "[291]\ttrain-mlogloss:0.393590\ttest-mlogloss:0.542950\n",
      "[292]\ttrain-mlogloss:0.393234\ttest-mlogloss:0.542916\n",
      "[293]\ttrain-mlogloss:0.392808\ttest-mlogloss:0.542943\n",
      "[294]\ttrain-mlogloss:0.392347\ttest-mlogloss:0.542983\n",
      "[295]\ttrain-mlogloss:0.392006\ttest-mlogloss:0.542918\n",
      "[296]\ttrain-mlogloss:0.391652\ttest-mlogloss:0.542907\n",
      "[297]\ttrain-mlogloss:0.391309\ttest-mlogloss:0.542896\n",
      "[298]\ttrain-mlogloss:0.390913\ttest-mlogloss:0.542878\n",
      "[299]\ttrain-mlogloss:0.390500\ttest-mlogloss:0.542968\n",
      "[300]\ttrain-mlogloss:0.390060\ttest-mlogloss:0.543034\n",
      "[301]\ttrain-mlogloss:0.389620\ttest-mlogloss:0.543045\n",
      "[302]\ttrain-mlogloss:0.389242\ttest-mlogloss:0.543113\n",
      "[303]\ttrain-mlogloss:0.388797\ttest-mlogloss:0.543085\n",
      "[304]\ttrain-mlogloss:0.388477\ttest-mlogloss:0.543159\n",
      "[305]\ttrain-mlogloss:0.388058\ttest-mlogloss:0.543248\n",
      "[306]\ttrain-mlogloss:0.387655\ttest-mlogloss:0.543202\n",
      "[307]\ttrain-mlogloss:0.387282\ttest-mlogloss:0.543233\n",
      "[308]\ttrain-mlogloss:0.386816\ttest-mlogloss:0.543388\n",
      "[309]\ttrain-mlogloss:0.386536\ttest-mlogloss:0.543365\n",
      "[310]\ttrain-mlogloss:0.386118\ttest-mlogloss:0.543276\n",
      "[311]\ttrain-mlogloss:0.385673\ttest-mlogloss:0.543203\n",
      "[312]\ttrain-mlogloss:0.385234\ttest-mlogloss:0.543337\n",
      "[313]\ttrain-mlogloss:0.384863\ttest-mlogloss:0.543238\n",
      "[314]\ttrain-mlogloss:0.384488\ttest-mlogloss:0.543303\n",
      "[315]\ttrain-mlogloss:0.384106\ttest-mlogloss:0.543278\n",
      "[316]\ttrain-mlogloss:0.383591\ttest-mlogloss:0.543279\n",
      "[317]\ttrain-mlogloss:0.383369\ttest-mlogloss:0.543252\n",
      "[318]\ttrain-mlogloss:0.382980\ttest-mlogloss:0.543245\n",
      "[319]\ttrain-mlogloss:0.382520\ttest-mlogloss:0.543239\n",
      "[320]\ttrain-mlogloss:0.382089\ttest-mlogloss:0.543224\n",
      "[321]\ttrain-mlogloss:0.381688\ttest-mlogloss:0.543221\n",
      "[322]\ttrain-mlogloss:0.381215\ttest-mlogloss:0.543256\n",
      "[323]\ttrain-mlogloss:0.380801\ttest-mlogloss:0.543316\n",
      "[324]\ttrain-mlogloss:0.380354\ttest-mlogloss:0.543362\n",
      "[325]\ttrain-mlogloss:0.379885\ttest-mlogloss:0.543351\n",
      "[326]\ttrain-mlogloss:0.379518\ttest-mlogloss:0.543368\n",
      "[327]\ttrain-mlogloss:0.379117\ttest-mlogloss:0.543323\n",
      "[328]\ttrain-mlogloss:0.378764\ttest-mlogloss:0.543298\n",
      "[329]\ttrain-mlogloss:0.378411\ttest-mlogloss:0.543286\n",
      "[330]\ttrain-mlogloss:0.377944\ttest-mlogloss:0.543303\n",
      "[331]\ttrain-mlogloss:0.377680\ttest-mlogloss:0.543352\n",
      "[332]\ttrain-mlogloss:0.377216\ttest-mlogloss:0.543360\n",
      "[333]\ttrain-mlogloss:0.376800\ttest-mlogloss:0.543403\n",
      "[334]\ttrain-mlogloss:0.376399\ttest-mlogloss:0.543378\n",
      "[335]\ttrain-mlogloss:0.376015\ttest-mlogloss:0.543439\n",
      "[336]\ttrain-mlogloss:0.375549\ttest-mlogloss:0.543495\n",
      "[337]\ttrain-mlogloss:0.375217\ttest-mlogloss:0.543441\n",
      "[338]\ttrain-mlogloss:0.374863\ttest-mlogloss:0.543445\n",
      "[339]\ttrain-mlogloss:0.374462\ttest-mlogloss:0.543372\n",
      "[340]\ttrain-mlogloss:0.374147\ttest-mlogloss:0.543308\n",
      "[341]\ttrain-mlogloss:0.373745\ttest-mlogloss:0.543428\n",
      "[342]\ttrain-mlogloss:0.373375\ttest-mlogloss:0.543328\n",
      "[343]\ttrain-mlogloss:0.372919\ttest-mlogloss:0.543408\n",
      "[344]\ttrain-mlogloss:0.372435\ttest-mlogloss:0.543390\n",
      "[345]\ttrain-mlogloss:0.372000\ttest-mlogloss:0.543372\n",
      "[346]\ttrain-mlogloss:0.371671\ttest-mlogloss:0.543485\n",
      "[347]\ttrain-mlogloss:0.371225\ttest-mlogloss:0.543556\n",
      "[348]\ttrain-mlogloss:0.370749\ttest-mlogloss:0.543564\n",
      "[349]\ttrain-mlogloss:0.370443\ttest-mlogloss:0.543499\n",
      "[350]\ttrain-mlogloss:0.370024\ttest-mlogloss:0.543495\n",
      "[351]\ttrain-mlogloss:0.369746\ttest-mlogloss:0.543489\n",
      "[352]\ttrain-mlogloss:0.369280\ttest-mlogloss:0.543439\n",
      "[353]\ttrain-mlogloss:0.368961\ttest-mlogloss:0.543482\n",
      "[354]\ttrain-mlogloss:0.368527\ttest-mlogloss:0.543546\n",
      "[355]\ttrain-mlogloss:0.367973\ttest-mlogloss:0.543672\n",
      "[356]\ttrain-mlogloss:0.367691\ttest-mlogloss:0.543717\n",
      "[357]\ttrain-mlogloss:0.367195\ttest-mlogloss:0.543688\n",
      "[358]\ttrain-mlogloss:0.366806\ttest-mlogloss:0.543756\n",
      "[359]\ttrain-mlogloss:0.366365\ttest-mlogloss:0.543864\n",
      "[360]\ttrain-mlogloss:0.366015\ttest-mlogloss:0.543846\n",
      "[361]\ttrain-mlogloss:0.365634\ttest-mlogloss:0.543781\n",
      "[362]\ttrain-mlogloss:0.365223\ttest-mlogloss:0.543743\n",
      "[363]\ttrain-mlogloss:0.364829\ttest-mlogloss:0.543715\n",
      "[364]\ttrain-mlogloss:0.364432\ttest-mlogloss:0.543705\n",
      "[365]\ttrain-mlogloss:0.364137\ttest-mlogloss:0.543684\n",
      "[366]\ttrain-mlogloss:0.363705\ttest-mlogloss:0.543753\n",
      "[367]\ttrain-mlogloss:0.363343\ttest-mlogloss:0.543686\n",
      "[368]\ttrain-mlogloss:0.363107\ttest-mlogloss:0.543680\n",
      "[369]\ttrain-mlogloss:0.362702\ttest-mlogloss:0.543624\n",
      "[370]\ttrain-mlogloss:0.362234\ttest-mlogloss:0.543704\n",
      "[371]\ttrain-mlogloss:0.361914\ttest-mlogloss:0.543735\n",
      "[372]\ttrain-mlogloss:0.361507\ttest-mlogloss:0.543727\n",
      "[373]\ttrain-mlogloss:0.361257\ttest-mlogloss:0.543759\n",
      "[374]\ttrain-mlogloss:0.360936\ttest-mlogloss:0.543844\n",
      "[375]\ttrain-mlogloss:0.360616\ttest-mlogloss:0.543848\n",
      "[376]\ttrain-mlogloss:0.360214\ttest-mlogloss:0.543906\n",
      "[377]\ttrain-mlogloss:0.359944\ttest-mlogloss:0.543978\n",
      "[378]\ttrain-mlogloss:0.359526\ttest-mlogloss:0.544011\n",
      "[379]\ttrain-mlogloss:0.359143\ttest-mlogloss:0.543902\n",
      "[380]\ttrain-mlogloss:0.358803\ttest-mlogloss:0.543856\n",
      "[381]\ttrain-mlogloss:0.358535\ttest-mlogloss:0.543897\n",
      "[382]\ttrain-mlogloss:0.358196\ttest-mlogloss:0.543994\n",
      "[383]\ttrain-mlogloss:0.357751\ttest-mlogloss:0.544115\n",
      "[384]\ttrain-mlogloss:0.357353\ttest-mlogloss:0.544126\n",
      "[385]\ttrain-mlogloss:0.356902\ttest-mlogloss:0.544139\n",
      "[386]\ttrain-mlogloss:0.356479\ttest-mlogloss:0.544063\n",
      "[387]\ttrain-mlogloss:0.356200\ttest-mlogloss:0.543974\n",
      "[388]\ttrain-mlogloss:0.355894\ttest-mlogloss:0.544053\n",
      "[389]\ttrain-mlogloss:0.355534\ttest-mlogloss:0.544166\n",
      "[390]\ttrain-mlogloss:0.355227\ttest-mlogloss:0.544190\n",
      "[391]\ttrain-mlogloss:0.354829\ttest-mlogloss:0.544215\n",
      "[392]\ttrain-mlogloss:0.354361\ttest-mlogloss:0.544289\n",
      "[393]\ttrain-mlogloss:0.353939\ttest-mlogloss:0.544283\n",
      "[394]\ttrain-mlogloss:0.353532\ttest-mlogloss:0.544314\n",
      "[395]\ttrain-mlogloss:0.353067\ttest-mlogloss:0.544251\n",
      "[396]\ttrain-mlogloss:0.352770\ttest-mlogloss:0.544364\n",
      "[397]\ttrain-mlogloss:0.352419\ttest-mlogloss:0.544406\n",
      "[398]\ttrain-mlogloss:0.352077\ttest-mlogloss:0.544465\n",
      "[399]\ttrain-mlogloss:0.351689\ttest-mlogloss:0.544536\n",
      "[400]\ttrain-mlogloss:0.351255\ttest-mlogloss:0.544493\n",
      "[401]\ttrain-mlogloss:0.350945\ttest-mlogloss:0.544551\n",
      "[402]\ttrain-mlogloss:0.350513\ttest-mlogloss:0.544600\n",
      "[403]\ttrain-mlogloss:0.350105\ttest-mlogloss:0.544568\n",
      "[404]\ttrain-mlogloss:0.349767\ttest-mlogloss:0.544621\n",
      "[405]\ttrain-mlogloss:0.349333\ttest-mlogloss:0.544647\n",
      "[406]\ttrain-mlogloss:0.348935\ttest-mlogloss:0.544585\n",
      "[407]\ttrain-mlogloss:0.348519\ttest-mlogloss:0.544601\n",
      "[408]\ttrain-mlogloss:0.348242\ttest-mlogloss:0.544564\n",
      "[409]\ttrain-mlogloss:0.347900\ttest-mlogloss:0.544657\n",
      "[410]\ttrain-mlogloss:0.347528\ttest-mlogloss:0.544680\n",
      "[411]\ttrain-mlogloss:0.347210\ttest-mlogloss:0.544683\n",
      "[412]\ttrain-mlogloss:0.346892\ttest-mlogloss:0.544733\n",
      "[413]\ttrain-mlogloss:0.346601\ttest-mlogloss:0.544808\n",
      "[414]\ttrain-mlogloss:0.346294\ttest-mlogloss:0.544876\n",
      "[415]\ttrain-mlogloss:0.345905\ttest-mlogloss:0.544880\n",
      "[416]\ttrain-mlogloss:0.345565\ttest-mlogloss:0.544930\n",
      "[417]\ttrain-mlogloss:0.345255\ttest-mlogloss:0.545036\n",
      "[418]\ttrain-mlogloss:0.344975\ttest-mlogloss:0.545031\n",
      "[419]\ttrain-mlogloss:0.344605\ttest-mlogloss:0.545085\n",
      "[420]\ttrain-mlogloss:0.344213\ttest-mlogloss:0.545142\n",
      "[421]\ttrain-mlogloss:0.343867\ttest-mlogloss:0.545252\n",
      "[422]\ttrain-mlogloss:0.343451\ttest-mlogloss:0.545246\n",
      "[423]\ttrain-mlogloss:0.343167\ttest-mlogloss:0.545246\n",
      "[424]\ttrain-mlogloss:0.342824\ttest-mlogloss:0.545260\n",
      "[425]\ttrain-mlogloss:0.342558\ttest-mlogloss:0.545289\n",
      "[426]\ttrain-mlogloss:0.342162\ttest-mlogloss:0.545250\n",
      "[427]\ttrain-mlogloss:0.341812\ttest-mlogloss:0.545267\n",
      "[428]\ttrain-mlogloss:0.341515\ttest-mlogloss:0.545385\n",
      "[429]\ttrain-mlogloss:0.341095\ttest-mlogloss:0.545408\n",
      "[430]\ttrain-mlogloss:0.340675\ttest-mlogloss:0.545447\n",
      "[431]\ttrain-mlogloss:0.340307\ttest-mlogloss:0.545439\n",
      "[432]\ttrain-mlogloss:0.339943\ttest-mlogloss:0.545426\n",
      "[433]\ttrain-mlogloss:0.339523\ttest-mlogloss:0.545406\n",
      "[434]\ttrain-mlogloss:0.339246\ttest-mlogloss:0.545350\n",
      "[435]\ttrain-mlogloss:0.338983\ttest-mlogloss:0.545288\n",
      "[436]\ttrain-mlogloss:0.338727\ttest-mlogloss:0.545243\n",
      "[437]\ttrain-mlogloss:0.338354\ttest-mlogloss:0.545272\n",
      "[438]\ttrain-mlogloss:0.338015\ttest-mlogloss:0.545321\n",
      "[439]\ttrain-mlogloss:0.337582\ttest-mlogloss:0.545330\n",
      "[440]\ttrain-mlogloss:0.337208\ttest-mlogloss:0.545286\n",
      "[441]\ttrain-mlogloss:0.336828\ttest-mlogloss:0.545245\n",
      "[442]\ttrain-mlogloss:0.336528\ttest-mlogloss:0.545265\n",
      "[443]\ttrain-mlogloss:0.336172\ttest-mlogloss:0.545331\n",
      "[444]\ttrain-mlogloss:0.335727\ttest-mlogloss:0.545458\n",
      "[445]\ttrain-mlogloss:0.335339\ttest-mlogloss:0.545501\n",
      "[446]\ttrain-mlogloss:0.335046\ttest-mlogloss:0.545603\n",
      "[447]\ttrain-mlogloss:0.334801\ttest-mlogloss:0.545674\n",
      "[448]\ttrain-mlogloss:0.334406\ttest-mlogloss:0.545775\n",
      "[449]\ttrain-mlogloss:0.334049\ttest-mlogloss:0.545789\n",
      "[450]\ttrain-mlogloss:0.333770\ttest-mlogloss:0.545865\n",
      "[451]\ttrain-mlogloss:0.333377\ttest-mlogloss:0.545813\n",
      "[452]\ttrain-mlogloss:0.333105\ttest-mlogloss:0.545921\n",
      "[453]\ttrain-mlogloss:0.332756\ttest-mlogloss:0.545989\n",
      "[454]\ttrain-mlogloss:0.332422\ttest-mlogloss:0.546020\n",
      "[455]\ttrain-mlogloss:0.332135\ttest-mlogloss:0.546130\n",
      "[456]\ttrain-mlogloss:0.331839\ttest-mlogloss:0.546139\n",
      "[457]\ttrain-mlogloss:0.331589\ttest-mlogloss:0.546181\n",
      "[458]\ttrain-mlogloss:0.331306\ttest-mlogloss:0.546176\n",
      "[459]\ttrain-mlogloss:0.331039\ttest-mlogloss:0.546146\n",
      "[460]\ttrain-mlogloss:0.330671\ttest-mlogloss:0.546107\n",
      "[461]\ttrain-mlogloss:0.330288\ttest-mlogloss:0.546222\n",
      "[462]\ttrain-mlogloss:0.329964\ttest-mlogloss:0.546200\n",
      "[463]\ttrain-mlogloss:0.329587\ttest-mlogloss:0.546249\n",
      "[464]\ttrain-mlogloss:0.329317\ttest-mlogloss:0.546261\n",
      "[465]\ttrain-mlogloss:0.328989\ttest-mlogloss:0.546337\n",
      "[466]\ttrain-mlogloss:0.328546\ttest-mlogloss:0.546423\n",
      "[467]\ttrain-mlogloss:0.328210\ttest-mlogloss:0.546503\n",
      "[468]\ttrain-mlogloss:0.327949\ttest-mlogloss:0.546528\n",
      "[469]\ttrain-mlogloss:0.327611\ttest-mlogloss:0.546577\n",
      "[470]\ttrain-mlogloss:0.327298\ttest-mlogloss:0.546561\n",
      "[471]\ttrain-mlogloss:0.327105\ttest-mlogloss:0.546585\n",
      "[472]\ttrain-mlogloss:0.326718\ttest-mlogloss:0.546554\n",
      "[473]\ttrain-mlogloss:0.326394\ttest-mlogloss:0.546656\n",
      "[474]\ttrain-mlogloss:0.326058\ttest-mlogloss:0.546765\n",
      "[475]\ttrain-mlogloss:0.325727\ttest-mlogloss:0.546692\n",
      "[476]\ttrain-mlogloss:0.325441\ttest-mlogloss:0.546705\n",
      "[477]\ttrain-mlogloss:0.325164\ttest-mlogloss:0.546724\n",
      "[478]\ttrain-mlogloss:0.324769\ttest-mlogloss:0.546862\n",
      "[479]\ttrain-mlogloss:0.324386\ttest-mlogloss:0.546963\n",
      "[480]\ttrain-mlogloss:0.324064\ttest-mlogloss:0.547001\n",
      "[481]\ttrain-mlogloss:0.323731\ttest-mlogloss:0.547035\n",
      "[482]\ttrain-mlogloss:0.323428\ttest-mlogloss:0.546930\n",
      "[483]\ttrain-mlogloss:0.323165\ttest-mlogloss:0.546943\n",
      "[484]\ttrain-mlogloss:0.322855\ttest-mlogloss:0.546933\n",
      "[485]\ttrain-mlogloss:0.322512\ttest-mlogloss:0.546993\n",
      "[486]\ttrain-mlogloss:0.322201\ttest-mlogloss:0.547106\n",
      "[487]\ttrain-mlogloss:0.321867\ttest-mlogloss:0.547179\n",
      "[488]\ttrain-mlogloss:0.321647\ttest-mlogloss:0.547264\n",
      "[489]\ttrain-mlogloss:0.321295\ttest-mlogloss:0.547333\n",
      "[490]\ttrain-mlogloss:0.320862\ttest-mlogloss:0.547536\n",
      "[491]\ttrain-mlogloss:0.320516\ttest-mlogloss:0.547500\n",
      "[492]\ttrain-mlogloss:0.320065\ttest-mlogloss:0.547709\n",
      "[493]\ttrain-mlogloss:0.319841\ttest-mlogloss:0.547785\n",
      "[494]\ttrain-mlogloss:0.319547\ttest-mlogloss:0.547805\n",
      "[495]\ttrain-mlogloss:0.319217\ttest-mlogloss:0.547908\n",
      "[496]\ttrain-mlogloss:0.318803\ttest-mlogloss:0.548008\n",
      "[497]\ttrain-mlogloss:0.318528\ttest-mlogloss:0.548034\n",
      "[498]\ttrain-mlogloss:0.318257\ttest-mlogloss:0.548112\n",
      "[499]\ttrain-mlogloss:0.317882\ttest-mlogloss:0.548174\n",
      "[500]\ttrain-mlogloss:0.317524\ttest-mlogloss:0.548321\n",
      "[501]\ttrain-mlogloss:0.317173\ttest-mlogloss:0.548421\n",
      "[502]\ttrain-mlogloss:0.316846\ttest-mlogloss:0.548408\n",
      "[503]\ttrain-mlogloss:0.316556\ttest-mlogloss:0.548458\n",
      "[504]\ttrain-mlogloss:0.316245\ttest-mlogloss:0.548468\n",
      "[505]\ttrain-mlogloss:0.316034\ttest-mlogloss:0.548514\n",
      "[506]\ttrain-mlogloss:0.315735\ttest-mlogloss:0.548436\n",
      "[507]\ttrain-mlogloss:0.315396\ttest-mlogloss:0.548452\n",
      "[508]\ttrain-mlogloss:0.315168\ttest-mlogloss:0.548617\n",
      "[509]\ttrain-mlogloss:0.314877\ttest-mlogloss:0.548622\n",
      "[510]\ttrain-mlogloss:0.314605\ttest-mlogloss:0.548626\n",
      "[511]\ttrain-mlogloss:0.314156\ttest-mlogloss:0.548667\n",
      "[512]\ttrain-mlogloss:0.313916\ttest-mlogloss:0.548716\n",
      "[513]\ttrain-mlogloss:0.313649\ttest-mlogloss:0.548663\n",
      "[514]\ttrain-mlogloss:0.313337\ttest-mlogloss:0.548644\n",
      "[515]\ttrain-mlogloss:0.313076\ttest-mlogloss:0.548728\n",
      "[516]\ttrain-mlogloss:0.312861\ttest-mlogloss:0.548802\n",
      "[517]\ttrain-mlogloss:0.312550\ttest-mlogloss:0.548794\n",
      "[518]\ttrain-mlogloss:0.312223\ttest-mlogloss:0.548859\n",
      "[519]\ttrain-mlogloss:0.311942\ttest-mlogloss:0.548871\n",
      "[520]\ttrain-mlogloss:0.311659\ttest-mlogloss:0.549024\n",
      "[521]\ttrain-mlogloss:0.311419\ttest-mlogloss:0.549052\n",
      "[522]\ttrain-mlogloss:0.311103\ttest-mlogloss:0.549023\n",
      "[523]\ttrain-mlogloss:0.310788\ttest-mlogloss:0.549084\n",
      "[524]\ttrain-mlogloss:0.310441\ttest-mlogloss:0.549079\n",
      "[525]\ttrain-mlogloss:0.310248\ttest-mlogloss:0.549052\n",
      "[526]\ttrain-mlogloss:0.309981\ttest-mlogloss:0.549019\n",
      "[527]\ttrain-mlogloss:0.309625\ttest-mlogloss:0.549126\n",
      "[528]\ttrain-mlogloss:0.309294\ttest-mlogloss:0.549177\n",
      "[529]\ttrain-mlogloss:0.308944\ttest-mlogloss:0.549298\n",
      "[530]\ttrain-mlogloss:0.308671\ttest-mlogloss:0.549243\n",
      "[531]\ttrain-mlogloss:0.308373\ttest-mlogloss:0.549332\n",
      "[532]\ttrain-mlogloss:0.307995\ttest-mlogloss:0.549415\n",
      "[533]\ttrain-mlogloss:0.307743\ttest-mlogloss:0.549425\n",
      "[534]\ttrain-mlogloss:0.307417\ttest-mlogloss:0.549523\n",
      "[535]\ttrain-mlogloss:0.307163\ttest-mlogloss:0.549568\n",
      "[536]\ttrain-mlogloss:0.306797\ttest-mlogloss:0.549636\n",
      "[537]\ttrain-mlogloss:0.306522\ttest-mlogloss:0.549640\n",
      "[538]\ttrain-mlogloss:0.306312\ttest-mlogloss:0.549779\n",
      "[539]\ttrain-mlogloss:0.306017\ttest-mlogloss:0.549870\n",
      "[540]\ttrain-mlogloss:0.305726\ttest-mlogloss:0.549880\n",
      "[541]\ttrain-mlogloss:0.305515\ttest-mlogloss:0.549858\n",
      "[542]\ttrain-mlogloss:0.305165\ttest-mlogloss:0.549922\n",
      "[543]\ttrain-mlogloss:0.304819\ttest-mlogloss:0.549903\n",
      "[544]\ttrain-mlogloss:0.304558\ttest-mlogloss:0.549907\n",
      "[545]\ttrain-mlogloss:0.304228\ttest-mlogloss:0.550021\n",
      "[546]\ttrain-mlogloss:0.303858\ttest-mlogloss:0.550061\n",
      "[547]\ttrain-mlogloss:0.303510\ttest-mlogloss:0.550077\n",
      "[548]\ttrain-mlogloss:0.303287\ttest-mlogloss:0.550100\n",
      "[549]\ttrain-mlogloss:0.303053\ttest-mlogloss:0.550186\n",
      "[550]\ttrain-mlogloss:0.302743\ttest-mlogloss:0.550241\n",
      "[551]\ttrain-mlogloss:0.302498\ttest-mlogloss:0.550320\n",
      "[552]\ttrain-mlogloss:0.302320\ttest-mlogloss:0.550327\n",
      "[553]\ttrain-mlogloss:0.302037\ttest-mlogloss:0.550412\n",
      "[554]\ttrain-mlogloss:0.301669\ttest-mlogloss:0.550431\n",
      "[555]\ttrain-mlogloss:0.301390\ttest-mlogloss:0.550502\n",
      "[556]\ttrain-mlogloss:0.301072\ttest-mlogloss:0.550558\n",
      "[557]\ttrain-mlogloss:0.300756\ttest-mlogloss:0.550590\n",
      "[558]\ttrain-mlogloss:0.300389\ttest-mlogloss:0.550686\n",
      "[559]\ttrain-mlogloss:0.300019\ttest-mlogloss:0.550744\n",
      "[560]\ttrain-mlogloss:0.299696\ttest-mlogloss:0.550802\n",
      "[561]\ttrain-mlogloss:0.299378\ttest-mlogloss:0.550865\n",
      "[562]\ttrain-mlogloss:0.299153\ttest-mlogloss:0.550874\n",
      "[563]\ttrain-mlogloss:0.298889\ttest-mlogloss:0.550877\n",
      "[564]\ttrain-mlogloss:0.298560\ttest-mlogloss:0.550976\n",
      "[565]\ttrain-mlogloss:0.298278\ttest-mlogloss:0.551004\n",
      "[566]\ttrain-mlogloss:0.298032\ttest-mlogloss:0.551024\n",
      "[567]\ttrain-mlogloss:0.297699\ttest-mlogloss:0.551014\n",
      "[568]\ttrain-mlogloss:0.297438\ttest-mlogloss:0.551077\n",
      "[569]\ttrain-mlogloss:0.297135\ttest-mlogloss:0.551137\n",
      "[570]\ttrain-mlogloss:0.296893\ttest-mlogloss:0.551170\n",
      "[571]\ttrain-mlogloss:0.296636\ttest-mlogloss:0.551192\n",
      "[572]\ttrain-mlogloss:0.296440\ttest-mlogloss:0.551244\n",
      "[573]\ttrain-mlogloss:0.296149\ttest-mlogloss:0.551218\n",
      "[574]\ttrain-mlogloss:0.295819\ttest-mlogloss:0.551289\n",
      "[575]\ttrain-mlogloss:0.295537\ttest-mlogloss:0.551263\n",
      "[576]\ttrain-mlogloss:0.295227\ttest-mlogloss:0.551339\n",
      "[577]\ttrain-mlogloss:0.294842\ttest-mlogloss:0.551369\n",
      "[578]\ttrain-mlogloss:0.294576\ttest-mlogloss:0.551412\n",
      "[579]\ttrain-mlogloss:0.294193\ttest-mlogloss:0.551471\n",
      "[580]\ttrain-mlogloss:0.293919\ttest-mlogloss:0.551445\n",
      "[581]\ttrain-mlogloss:0.293556\ttest-mlogloss:0.551503\n",
      "[582]\ttrain-mlogloss:0.293396\ttest-mlogloss:0.551440\n",
      "[583]\ttrain-mlogloss:0.293183\ttest-mlogloss:0.551460\n",
      "[584]\ttrain-mlogloss:0.292921\ttest-mlogloss:0.551517\n",
      "[585]\ttrain-mlogloss:0.292649\ttest-mlogloss:0.551585\n",
      "[586]\ttrain-mlogloss:0.292425\ttest-mlogloss:0.551645\n",
      "[587]\ttrain-mlogloss:0.292094\ttest-mlogloss:0.551666\n",
      "[588]\ttrain-mlogloss:0.291833\ttest-mlogloss:0.551788\n",
      "[589]\ttrain-mlogloss:0.291586\ttest-mlogloss:0.551861\n",
      "[590]\ttrain-mlogloss:0.291332\ttest-mlogloss:0.551917\n",
      "[591]\ttrain-mlogloss:0.291068\ttest-mlogloss:0.552039\n",
      "[592]\ttrain-mlogloss:0.290868\ttest-mlogloss:0.552036\n",
      "[593]\ttrain-mlogloss:0.290597\ttest-mlogloss:0.552125\n",
      "[594]\ttrain-mlogloss:0.290316\ttest-mlogloss:0.552173\n",
      "[595]\ttrain-mlogloss:0.289989\ttest-mlogloss:0.552258\n",
      "[596]\ttrain-mlogloss:0.289814\ttest-mlogloss:0.552270\n",
      "[597]\ttrain-mlogloss:0.289552\ttest-mlogloss:0.552301\n",
      "[598]\ttrain-mlogloss:0.289329\ttest-mlogloss:0.552398\n",
      "[599]\ttrain-mlogloss:0.289122\ttest-mlogloss:0.552497\n",
      "[600]\ttrain-mlogloss:0.288908\ttest-mlogloss:0.552490\n",
      "[601]\ttrain-mlogloss:0.288655\ttest-mlogloss:0.552552\n",
      "[602]\ttrain-mlogloss:0.288372\ttest-mlogloss:0.552604\n",
      "[603]\ttrain-mlogloss:0.288072\ttest-mlogloss:0.552617\n",
      "[604]\ttrain-mlogloss:0.287781\ttest-mlogloss:0.552709\n",
      "[605]\ttrain-mlogloss:0.287454\ttest-mlogloss:0.552728\n",
      "[606]\ttrain-mlogloss:0.287101\ttest-mlogloss:0.552668\n",
      "[607]\ttrain-mlogloss:0.286883\ttest-mlogloss:0.552690\n",
      "[608]\ttrain-mlogloss:0.286681\ttest-mlogloss:0.552699\n",
      "[609]\ttrain-mlogloss:0.286358\ttest-mlogloss:0.552652\n",
      "[610]\ttrain-mlogloss:0.286106\ttest-mlogloss:0.552808\n",
      "[611]\ttrain-mlogloss:0.285785\ttest-mlogloss:0.552868\n",
      "[612]\ttrain-mlogloss:0.285573\ttest-mlogloss:0.552821\n",
      "[613]\ttrain-mlogloss:0.285246\ttest-mlogloss:0.552848\n",
      "[614]\ttrain-mlogloss:0.284939\ttest-mlogloss:0.552842\n",
      "[615]\ttrain-mlogloss:0.284639\ttest-mlogloss:0.552874\n",
      "[616]\ttrain-mlogloss:0.284385\ttest-mlogloss:0.552782\n",
      "[617]\ttrain-mlogloss:0.284159\ttest-mlogloss:0.552933\n",
      "[618]\ttrain-mlogloss:0.283942\ttest-mlogloss:0.552996\n",
      "[619]\ttrain-mlogloss:0.283670\ttest-mlogloss:0.553039\n",
      "[620]\ttrain-mlogloss:0.283352\ttest-mlogloss:0.553181\n",
      "[621]\ttrain-mlogloss:0.282999\ttest-mlogloss:0.553126\n",
      "[622]\ttrain-mlogloss:0.282748\ttest-mlogloss:0.553141\n",
      "[623]\ttrain-mlogloss:0.282539\ttest-mlogloss:0.553170\n",
      "[624]\ttrain-mlogloss:0.282319\ttest-mlogloss:0.553273\n",
      "[625]\ttrain-mlogloss:0.282023\ttest-mlogloss:0.553246\n",
      "[626]\ttrain-mlogloss:0.281795\ttest-mlogloss:0.553259\n",
      "[627]\ttrain-mlogloss:0.281461\ttest-mlogloss:0.553275\n",
      "[628]\ttrain-mlogloss:0.281231\ttest-mlogloss:0.553340\n",
      "[629]\ttrain-mlogloss:0.280970\ttest-mlogloss:0.553392\n",
      "[630]\ttrain-mlogloss:0.280651\ttest-mlogloss:0.553451\n",
      "[631]\ttrain-mlogloss:0.280431\ttest-mlogloss:0.553470\n",
      "[632]\ttrain-mlogloss:0.280072\ttest-mlogloss:0.553526\n",
      "[633]\ttrain-mlogloss:0.279856\ttest-mlogloss:0.553574\n",
      "[634]\ttrain-mlogloss:0.279644\ttest-mlogloss:0.553624\n",
      "[635]\ttrain-mlogloss:0.279392\ttest-mlogloss:0.553734\n",
      "[636]\ttrain-mlogloss:0.279202\ttest-mlogloss:0.553797\n",
      "[637]\ttrain-mlogloss:0.278922\ttest-mlogloss:0.553806\n",
      "[638]\ttrain-mlogloss:0.278660\ttest-mlogloss:0.553983\n",
      "[639]\ttrain-mlogloss:0.278387\ttest-mlogloss:0.554147\n",
      "[640]\ttrain-mlogloss:0.278198\ttest-mlogloss:0.554227\n",
      "[641]\ttrain-mlogloss:0.277939\ttest-mlogloss:0.554342\n",
      "[642]\ttrain-mlogloss:0.277698\ttest-mlogloss:0.554412\n",
      "[643]\ttrain-mlogloss:0.277496\ttest-mlogloss:0.554546\n",
      "[644]\ttrain-mlogloss:0.277302\ttest-mlogloss:0.554547\n",
      "[645]\ttrain-mlogloss:0.277022\ttest-mlogloss:0.554606\n",
      "[646]\ttrain-mlogloss:0.276752\ttest-mlogloss:0.554644\n",
      "[647]\ttrain-mlogloss:0.276464\ttest-mlogloss:0.554637\n",
      "[648]\ttrain-mlogloss:0.276182\ttest-mlogloss:0.554722\n",
      "[649]\ttrain-mlogloss:0.275936\ttest-mlogloss:0.554763\n",
      "[650]\ttrain-mlogloss:0.275642\ttest-mlogloss:0.554801\n",
      "[651]\ttrain-mlogloss:0.275422\ttest-mlogloss:0.554864\n",
      "[652]\ttrain-mlogloss:0.275138\ttest-mlogloss:0.554965\n",
      "[653]\ttrain-mlogloss:0.274883\ttest-mlogloss:0.555003\n",
      "[654]\ttrain-mlogloss:0.274594\ttest-mlogloss:0.555117\n",
      "[655]\ttrain-mlogloss:0.274393\ttest-mlogloss:0.555131\n",
      "[656]\ttrain-mlogloss:0.274094\ttest-mlogloss:0.555250\n",
      "[657]\ttrain-mlogloss:0.273852\ttest-mlogloss:0.555354\n",
      "[658]\ttrain-mlogloss:0.273510\ttest-mlogloss:0.555391\n",
      "[659]\ttrain-mlogloss:0.273129\ttest-mlogloss:0.555578\n",
      "[660]\ttrain-mlogloss:0.272838\ttest-mlogloss:0.555686\n",
      "[661]\ttrain-mlogloss:0.272617\ttest-mlogloss:0.555667\n",
      "[662]\ttrain-mlogloss:0.272319\ttest-mlogloss:0.555609\n",
      "[663]\ttrain-mlogloss:0.272035\ttest-mlogloss:0.555636\n",
      "[664]\ttrain-mlogloss:0.271753\ttest-mlogloss:0.555704\n",
      "[665]\ttrain-mlogloss:0.271494\ttest-mlogloss:0.555815\n",
      "[666]\ttrain-mlogloss:0.271326\ttest-mlogloss:0.555936\n",
      "[667]\ttrain-mlogloss:0.271114\ttest-mlogloss:0.555959\n",
      "[668]\ttrain-mlogloss:0.270891\ttest-mlogloss:0.556023\n",
      "[669]\ttrain-mlogloss:0.270690\ttest-mlogloss:0.556076\n",
      "[670]\ttrain-mlogloss:0.270456\ttest-mlogloss:0.556038\n",
      "[671]\ttrain-mlogloss:0.270235\ttest-mlogloss:0.556016\n",
      "[672]\ttrain-mlogloss:0.270029\ttest-mlogloss:0.556136\n",
      "[673]\ttrain-mlogloss:0.269727\ttest-mlogloss:0.556210\n",
      "[674]\ttrain-mlogloss:0.269367\ttest-mlogloss:0.556240\n",
      "[675]\ttrain-mlogloss:0.269205\ttest-mlogloss:0.556222\n",
      "[676]\ttrain-mlogloss:0.268981\ttest-mlogloss:0.556249\n",
      "[677]\ttrain-mlogloss:0.268748\ttest-mlogloss:0.556321\n",
      "[678]\ttrain-mlogloss:0.268550\ttest-mlogloss:0.556422\n",
      "[679]\ttrain-mlogloss:0.268306\ttest-mlogloss:0.556473\n",
      "[680]\ttrain-mlogloss:0.268017\ttest-mlogloss:0.556502\n",
      "[681]\ttrain-mlogloss:0.267734\ttest-mlogloss:0.556644\n",
      "[682]\ttrain-mlogloss:0.267371\ttest-mlogloss:0.556676\n",
      "[683]\ttrain-mlogloss:0.267165\ttest-mlogloss:0.556714\n",
      "[684]\ttrain-mlogloss:0.266889\ttest-mlogloss:0.556808\n",
      "[685]\ttrain-mlogloss:0.266623\ttest-mlogloss:0.556797\n",
      "[686]\ttrain-mlogloss:0.266442\ttest-mlogloss:0.556815\n",
      "[687]\ttrain-mlogloss:0.266160\ttest-mlogloss:0.556832\n",
      "[688]\ttrain-mlogloss:0.265919\ttest-mlogloss:0.556838\n",
      "[689]\ttrain-mlogloss:0.265690\ttest-mlogloss:0.556833\n",
      "[690]\ttrain-mlogloss:0.265491\ttest-mlogloss:0.556875\n",
      "[691]\ttrain-mlogloss:0.265284\ttest-mlogloss:0.556906\n",
      "[692]\ttrain-mlogloss:0.264998\ttest-mlogloss:0.557072\n",
      "[693]\ttrain-mlogloss:0.264686\ttest-mlogloss:0.557009\n",
      "[694]\ttrain-mlogloss:0.264434\ttest-mlogloss:0.557040\n",
      "[695]\ttrain-mlogloss:0.264162\ttest-mlogloss:0.557002\n",
      "[696]\ttrain-mlogloss:0.263919\ttest-mlogloss:0.557039\n",
      "[697]\ttrain-mlogloss:0.263749\ttest-mlogloss:0.557056\n",
      "[698]\ttrain-mlogloss:0.263427\ttest-mlogloss:0.556996\n",
      "[699]\ttrain-mlogloss:0.263184\ttest-mlogloss:0.557094\n",
      "[700]\ttrain-mlogloss:0.262900\ttest-mlogloss:0.557153\n",
      "[701]\ttrain-mlogloss:0.262651\ttest-mlogloss:0.557239\n",
      "[702]\ttrain-mlogloss:0.262394\ttest-mlogloss:0.557282\n",
      "[703]\ttrain-mlogloss:0.262185\ttest-mlogloss:0.557330\n",
      "[704]\ttrain-mlogloss:0.261919\ttest-mlogloss:0.557433\n",
      "[705]\ttrain-mlogloss:0.261654\ttest-mlogloss:0.557453\n",
      "[706]\ttrain-mlogloss:0.261369\ttest-mlogloss:0.557512\n",
      "[707]\ttrain-mlogloss:0.261114\ttest-mlogloss:0.557603\n",
      "[708]\ttrain-mlogloss:0.260848\ttest-mlogloss:0.557522\n",
      "[709]\ttrain-mlogloss:0.260609\ttest-mlogloss:0.557537\n",
      "[710]\ttrain-mlogloss:0.260373\ttest-mlogloss:0.557684\n",
      "[711]\ttrain-mlogloss:0.260181\ttest-mlogloss:0.557749\n",
      "[712]\ttrain-mlogloss:0.260000\ttest-mlogloss:0.557710\n",
      "[713]\ttrain-mlogloss:0.259791\ttest-mlogloss:0.557819\n",
      "[714]\ttrain-mlogloss:0.259520\ttest-mlogloss:0.557759\n",
      "[715]\ttrain-mlogloss:0.259230\ttest-mlogloss:0.557768\n",
      "[716]\ttrain-mlogloss:0.258954\ttest-mlogloss:0.557719\n",
      "[717]\ttrain-mlogloss:0.258707\ttest-mlogloss:0.557669\n",
      "[718]\ttrain-mlogloss:0.258502\ttest-mlogloss:0.557725\n",
      "[719]\ttrain-mlogloss:0.258259\ttest-mlogloss:0.557813\n",
      "[720]\ttrain-mlogloss:0.258107\ttest-mlogloss:0.557946\n",
      "[721]\ttrain-mlogloss:0.257845\ttest-mlogloss:0.558170\n",
      "[722]\ttrain-mlogloss:0.257590\ttest-mlogloss:0.558206\n",
      "[723]\ttrain-mlogloss:0.257334\ttest-mlogloss:0.558219\n",
      "[724]\ttrain-mlogloss:0.257135\ttest-mlogloss:0.558345\n",
      "[725]\ttrain-mlogloss:0.256935\ttest-mlogloss:0.558417\n",
      "[726]\ttrain-mlogloss:0.256667\ttest-mlogloss:0.558503\n",
      "[727]\ttrain-mlogloss:0.256428\ttest-mlogloss:0.558516\n",
      "[728]\ttrain-mlogloss:0.256257\ttest-mlogloss:0.558584\n",
      "[729]\ttrain-mlogloss:0.256053\ttest-mlogloss:0.558539\n",
      "[730]\ttrain-mlogloss:0.255840\ttest-mlogloss:0.558573\n",
      "[731]\ttrain-mlogloss:0.255603\ttest-mlogloss:0.558665\n",
      "[732]\ttrain-mlogloss:0.255428\ttest-mlogloss:0.558645\n",
      "[733]\ttrain-mlogloss:0.255216\ttest-mlogloss:0.558781\n",
      "[734]\ttrain-mlogloss:0.255014\ttest-mlogloss:0.558899\n",
      "[735]\ttrain-mlogloss:0.254712\ttest-mlogloss:0.559027\n",
      "[736]\ttrain-mlogloss:0.254500\ttest-mlogloss:0.559136\n",
      "[737]\ttrain-mlogloss:0.254328\ttest-mlogloss:0.559210\n",
      "[738]\ttrain-mlogloss:0.254153\ttest-mlogloss:0.559242\n",
      "[739]\ttrain-mlogloss:0.253982\ttest-mlogloss:0.559222\n",
      "[740]\ttrain-mlogloss:0.253823\ttest-mlogloss:0.559186\n",
      "[741]\ttrain-mlogloss:0.253527\ttest-mlogloss:0.559238\n",
      "[742]\ttrain-mlogloss:0.253365\ttest-mlogloss:0.559274\n",
      "[743]\ttrain-mlogloss:0.253146\ttest-mlogloss:0.559250\n",
      "[744]\ttrain-mlogloss:0.252937\ttest-mlogloss:0.559290\n",
      "[745]\ttrain-mlogloss:0.252681\ttest-mlogloss:0.559406\n",
      "[746]\ttrain-mlogloss:0.252493\ttest-mlogloss:0.559394\n",
      "[747]\ttrain-mlogloss:0.252287\ttest-mlogloss:0.559480\n",
      "[748]\ttrain-mlogloss:0.252148\ttest-mlogloss:0.559521\n",
      "[749]\ttrain-mlogloss:0.251873\ttest-mlogloss:0.559611\n",
      "[750]\ttrain-mlogloss:0.251709\ttest-mlogloss:0.559646\n",
      "[751]\ttrain-mlogloss:0.251489\ttest-mlogloss:0.559715\n",
      "[752]\ttrain-mlogloss:0.251292\ttest-mlogloss:0.559836\n",
      "[753]\ttrain-mlogloss:0.251025\ttest-mlogloss:0.559851\n",
      "[754]\ttrain-mlogloss:0.250728\ttest-mlogloss:0.559881\n",
      "[755]\ttrain-mlogloss:0.250479\ttest-mlogloss:0.559913\n",
      "[756]\ttrain-mlogloss:0.250302\ttest-mlogloss:0.559938\n",
      "[757]\ttrain-mlogloss:0.250069\ttest-mlogloss:0.560028\n",
      "[758]\ttrain-mlogloss:0.249843\ttest-mlogloss:0.560078\n",
      "[759]\ttrain-mlogloss:0.249644\ttest-mlogloss:0.560114\n",
      "[760]\ttrain-mlogloss:0.249446\ttest-mlogloss:0.560110\n",
      "[761]\ttrain-mlogloss:0.249230\ttest-mlogloss:0.560138\n",
      "[762]\ttrain-mlogloss:0.249004\ttest-mlogloss:0.560116\n",
      "[763]\ttrain-mlogloss:0.248808\ttest-mlogloss:0.560089\n",
      "[764]\ttrain-mlogloss:0.248574\ttest-mlogloss:0.560117\n",
      "[765]\ttrain-mlogloss:0.248359\ttest-mlogloss:0.560179\n",
      "[766]\ttrain-mlogloss:0.248157\ttest-mlogloss:0.560220\n",
      "[767]\ttrain-mlogloss:0.247824\ttest-mlogloss:0.560351\n",
      "[768]\ttrain-mlogloss:0.247651\ttest-mlogloss:0.560419\n",
      "[769]\ttrain-mlogloss:0.247429\ttest-mlogloss:0.560437\n",
      "[770]\ttrain-mlogloss:0.247210\ttest-mlogloss:0.560433\n",
      "[771]\ttrain-mlogloss:0.247034\ttest-mlogloss:0.560544\n",
      "[772]\ttrain-mlogloss:0.246805\ttest-mlogloss:0.560611\n",
      "[773]\ttrain-mlogloss:0.246574\ttest-mlogloss:0.560685\n",
      "[774]\ttrain-mlogloss:0.246366\ttest-mlogloss:0.560611\n",
      "[775]\ttrain-mlogloss:0.246142\ttest-mlogloss:0.560694\n",
      "[776]\ttrain-mlogloss:0.245894\ttest-mlogloss:0.560722\n",
      "[777]\ttrain-mlogloss:0.245690\ttest-mlogloss:0.560719\n",
      "[778]\ttrain-mlogloss:0.245487\ttest-mlogloss:0.560802\n",
      "[779]\ttrain-mlogloss:0.245316\ttest-mlogloss:0.560888\n",
      "[780]\ttrain-mlogloss:0.245109\ttest-mlogloss:0.560992\n",
      "[781]\ttrain-mlogloss:0.244875\ttest-mlogloss:0.561030\n",
      "[782]\ttrain-mlogloss:0.244754\ttest-mlogloss:0.561108\n",
      "[783]\ttrain-mlogloss:0.244540\ttest-mlogloss:0.561137\n",
      "[784]\ttrain-mlogloss:0.244294\ttest-mlogloss:0.561281\n",
      "[785]\ttrain-mlogloss:0.244045\ttest-mlogloss:0.561364\n",
      "[786]\ttrain-mlogloss:0.243793\ttest-mlogloss:0.561476\n",
      "[787]\ttrain-mlogloss:0.243539\ttest-mlogloss:0.561519\n",
      "[788]\ttrain-mlogloss:0.243248\ttest-mlogloss:0.561611\n",
      "[789]\ttrain-mlogloss:0.243000\ttest-mlogloss:0.561596\n",
      "[790]\ttrain-mlogloss:0.242738\ttest-mlogloss:0.561684\n",
      "[791]\ttrain-mlogloss:0.242550\ttest-mlogloss:0.561751\n",
      "[792]\ttrain-mlogloss:0.242314\ttest-mlogloss:0.561895\n",
      "[793]\ttrain-mlogloss:0.242059\ttest-mlogloss:0.561997\n",
      "[794]\ttrain-mlogloss:0.241824\ttest-mlogloss:0.562058\n",
      "[795]\ttrain-mlogloss:0.241594\ttest-mlogloss:0.562168\n",
      "[796]\ttrain-mlogloss:0.241484\ttest-mlogloss:0.562197\n",
      "[797]\ttrain-mlogloss:0.241260\ttest-mlogloss:0.562256\n",
      "[798]\ttrain-mlogloss:0.241108\ttest-mlogloss:0.562288\n",
      "[799]\ttrain-mlogloss:0.240865\ttest-mlogloss:0.562278\n",
      "[800]\ttrain-mlogloss:0.240702\ttest-mlogloss:0.562325\n",
      "[801]\ttrain-mlogloss:0.240558\ttest-mlogloss:0.562380\n",
      "[802]\ttrain-mlogloss:0.240300\ttest-mlogloss:0.562421\n",
      "[803]\ttrain-mlogloss:0.240132\ttest-mlogloss:0.562509\n",
      "[804]\ttrain-mlogloss:0.239918\ttest-mlogloss:0.562482\n",
      "[805]\ttrain-mlogloss:0.239689\ttest-mlogloss:0.562539\n",
      "[806]\ttrain-mlogloss:0.239456\ttest-mlogloss:0.562613\n",
      "[807]\ttrain-mlogloss:0.239259\ttest-mlogloss:0.562674\n",
      "[808]\ttrain-mlogloss:0.239046\ttest-mlogloss:0.562704\n",
      "[809]\ttrain-mlogloss:0.238840\ttest-mlogloss:0.562730\n",
      "[810]\ttrain-mlogloss:0.238567\ttest-mlogloss:0.562852\n",
      "[811]\ttrain-mlogloss:0.238359\ttest-mlogloss:0.562870\n",
      "[812]\ttrain-mlogloss:0.238164\ttest-mlogloss:0.562917\n",
      "[813]\ttrain-mlogloss:0.237970\ttest-mlogloss:0.563028\n",
      "[814]\ttrain-mlogloss:0.237790\ttest-mlogloss:0.563147\n",
      "[815]\ttrain-mlogloss:0.237583\ttest-mlogloss:0.563097\n",
      "[816]\ttrain-mlogloss:0.237373\ttest-mlogloss:0.563197\n",
      "[817]\ttrain-mlogloss:0.237153\ttest-mlogloss:0.563296\n",
      "[818]\ttrain-mlogloss:0.236993\ttest-mlogloss:0.563378\n",
      "[819]\ttrain-mlogloss:0.236827\ttest-mlogloss:0.563405\n",
      "[820]\ttrain-mlogloss:0.236676\ttest-mlogloss:0.563426\n",
      "[821]\ttrain-mlogloss:0.236481\ttest-mlogloss:0.563417\n",
      "[822]\ttrain-mlogloss:0.236232\ttest-mlogloss:0.563530\n",
      "[823]\ttrain-mlogloss:0.236008\ttest-mlogloss:0.563581\n",
      "[824]\ttrain-mlogloss:0.235803\ttest-mlogloss:0.563595\n",
      "[825]\ttrain-mlogloss:0.235562\ttest-mlogloss:0.563680\n",
      "[826]\ttrain-mlogloss:0.235374\ttest-mlogloss:0.563763\n",
      "[827]\ttrain-mlogloss:0.235159\ttest-mlogloss:0.563861\n",
      "[828]\ttrain-mlogloss:0.234929\ttest-mlogloss:0.563918\n",
      "[829]\ttrain-mlogloss:0.234688\ttest-mlogloss:0.563961\n",
      "[830]\ttrain-mlogloss:0.234457\ttest-mlogloss:0.563906\n",
      "[831]\ttrain-mlogloss:0.234172\ttest-mlogloss:0.564003\n",
      "[832]\ttrain-mlogloss:0.233961\ttest-mlogloss:0.564072\n",
      "[833]\ttrain-mlogloss:0.233793\ttest-mlogloss:0.564210\n",
      "[834]\ttrain-mlogloss:0.233560\ttest-mlogloss:0.564187\n",
      "[835]\ttrain-mlogloss:0.233318\ttest-mlogloss:0.564180\n",
      "[836]\ttrain-mlogloss:0.233126\ttest-mlogloss:0.564261\n",
      "[837]\ttrain-mlogloss:0.232914\ttest-mlogloss:0.564338\n",
      "[838]\ttrain-mlogloss:0.232725\ttest-mlogloss:0.564376\n",
      "[839]\ttrain-mlogloss:0.232589\ttest-mlogloss:0.564432\n",
      "[840]\ttrain-mlogloss:0.232426\ttest-mlogloss:0.564554\n",
      "[841]\ttrain-mlogloss:0.232213\ttest-mlogloss:0.564577\n",
      "[842]\ttrain-mlogloss:0.232025\ttest-mlogloss:0.564718\n",
      "[843]\ttrain-mlogloss:0.231822\ttest-mlogloss:0.564797\n",
      "[844]\ttrain-mlogloss:0.231616\ttest-mlogloss:0.564954\n",
      "[845]\ttrain-mlogloss:0.231388\ttest-mlogloss:0.565084\n",
      "[846]\ttrain-mlogloss:0.231212\ttest-mlogloss:0.565145\n",
      "[847]\ttrain-mlogloss:0.231011\ttest-mlogloss:0.565282\n",
      "[848]\ttrain-mlogloss:0.230839\ttest-mlogloss:0.565365\n",
      "[849]\ttrain-mlogloss:0.230662\ttest-mlogloss:0.565402\n",
      "[850]\ttrain-mlogloss:0.230488\ttest-mlogloss:0.565425\n",
      "[851]\ttrain-mlogloss:0.230257\ttest-mlogloss:0.565524\n",
      "[852]\ttrain-mlogloss:0.230011\ttest-mlogloss:0.565529\n",
      "[853]\ttrain-mlogloss:0.229817\ttest-mlogloss:0.565648\n",
      "[854]\ttrain-mlogloss:0.229611\ttest-mlogloss:0.565677\n",
      "[855]\ttrain-mlogloss:0.229434\ttest-mlogloss:0.565656\n",
      "[856]\ttrain-mlogloss:0.229258\ttest-mlogloss:0.565786\n",
      "[857]\ttrain-mlogloss:0.229087\ttest-mlogloss:0.565854\n",
      "[858]\ttrain-mlogloss:0.228853\ttest-mlogloss:0.565931\n",
      "[859]\ttrain-mlogloss:0.228712\ttest-mlogloss:0.566026\n",
      "[860]\ttrain-mlogloss:0.228510\ttest-mlogloss:0.566045\n",
      "[861]\ttrain-mlogloss:0.228330\ttest-mlogloss:0.566079\n",
      "[862]\ttrain-mlogloss:0.228095\ttest-mlogloss:0.566266\n",
      "[863]\ttrain-mlogloss:0.227876\ttest-mlogloss:0.566303\n",
      "[864]\ttrain-mlogloss:0.227592\ttest-mlogloss:0.566335\n",
      "[865]\ttrain-mlogloss:0.227425\ttest-mlogloss:0.566419\n",
      "[866]\ttrain-mlogloss:0.227213\ttest-mlogloss:0.566471\n",
      "[867]\ttrain-mlogloss:0.226989\ttest-mlogloss:0.566531\n",
      "[868]\ttrain-mlogloss:0.226792\ttest-mlogloss:0.566654\n",
      "[869]\ttrain-mlogloss:0.226610\ttest-mlogloss:0.566694\n",
      "[870]\ttrain-mlogloss:0.226414\ttest-mlogloss:0.566733\n",
      "[871]\ttrain-mlogloss:0.226223\ttest-mlogloss:0.566760\n",
      "[872]\ttrain-mlogloss:0.226020\ttest-mlogloss:0.566827\n",
      "[873]\ttrain-mlogloss:0.225890\ttest-mlogloss:0.566884\n",
      "[874]\ttrain-mlogloss:0.225716\ttest-mlogloss:0.566916\n",
      "[875]\ttrain-mlogloss:0.225507\ttest-mlogloss:0.567060\n",
      "[876]\ttrain-mlogloss:0.225267\ttest-mlogloss:0.567179\n",
      "[877]\ttrain-mlogloss:0.225144\ttest-mlogloss:0.567198\n",
      "[878]\ttrain-mlogloss:0.224945\ttest-mlogloss:0.567257\n",
      "[879]\ttrain-mlogloss:0.224792\ttest-mlogloss:0.567258\n",
      "[880]\ttrain-mlogloss:0.224590\ttest-mlogloss:0.567317\n",
      "[881]\ttrain-mlogloss:0.224395\ttest-mlogloss:0.567279\n",
      "[882]\ttrain-mlogloss:0.224223\ttest-mlogloss:0.567291\n",
      "[883]\ttrain-mlogloss:0.224006\ttest-mlogloss:0.567308\n",
      "[884]\ttrain-mlogloss:0.223770\ttest-mlogloss:0.567356\n",
      "[885]\ttrain-mlogloss:0.223527\ttest-mlogloss:0.567409\n",
      "[886]\ttrain-mlogloss:0.223349\ttest-mlogloss:0.567521\n",
      "[887]\ttrain-mlogloss:0.223113\ttest-mlogloss:0.567625\n",
      "[888]\ttrain-mlogloss:0.222927\ttest-mlogloss:0.567639\n",
      "[889]\ttrain-mlogloss:0.222731\ttest-mlogloss:0.567686\n",
      "[890]\ttrain-mlogloss:0.222531\ttest-mlogloss:0.567782\n",
      "[891]\ttrain-mlogloss:0.222383\ttest-mlogloss:0.567892\n",
      "[892]\ttrain-mlogloss:0.222177\ttest-mlogloss:0.567976\n",
      "[893]\ttrain-mlogloss:0.222020\ttest-mlogloss:0.567835\n",
      "[894]\ttrain-mlogloss:0.221851\ttest-mlogloss:0.567859\n",
      "[895]\ttrain-mlogloss:0.221632\ttest-mlogloss:0.567897\n",
      "[896]\ttrain-mlogloss:0.221424\ttest-mlogloss:0.567922\n",
      "[897]\ttrain-mlogloss:0.221260\ttest-mlogloss:0.567966\n",
      "[898]\ttrain-mlogloss:0.221102\ttest-mlogloss:0.568048\n",
      "[899]\ttrain-mlogloss:0.220924\ttest-mlogloss:0.568009\n",
      "[900]\ttrain-mlogloss:0.220726\ttest-mlogloss:0.568047\n",
      "[901]\ttrain-mlogloss:0.220520\ttest-mlogloss:0.568165\n",
      "[902]\ttrain-mlogloss:0.220373\ttest-mlogloss:0.568199\n",
      "[903]\ttrain-mlogloss:0.220163\ttest-mlogloss:0.568214\n",
      "[904]\ttrain-mlogloss:0.219986\ttest-mlogloss:0.568282\n",
      "[905]\ttrain-mlogloss:0.219811\ttest-mlogloss:0.568298\n",
      "[906]\ttrain-mlogloss:0.219602\ttest-mlogloss:0.568271\n",
      "[907]\ttrain-mlogloss:0.219436\ttest-mlogloss:0.568319\n",
      "[908]\ttrain-mlogloss:0.219247\ttest-mlogloss:0.568385\n",
      "[909]\ttrain-mlogloss:0.219041\ttest-mlogloss:0.568511\n",
      "[910]\ttrain-mlogloss:0.218901\ttest-mlogloss:0.568562\n",
      "[911]\ttrain-mlogloss:0.218744\ttest-mlogloss:0.568645\n",
      "[912]\ttrain-mlogloss:0.218525\ttest-mlogloss:0.568751\n",
      "[913]\ttrain-mlogloss:0.218364\ttest-mlogloss:0.568786\n",
      "[914]\ttrain-mlogloss:0.218192\ttest-mlogloss:0.568746\n",
      "[915]\ttrain-mlogloss:0.217998\ttest-mlogloss:0.568882\n",
      "[916]\ttrain-mlogloss:0.217802\ttest-mlogloss:0.568985\n",
      "[917]\ttrain-mlogloss:0.217590\ttest-mlogloss:0.568962\n",
      "[918]\ttrain-mlogloss:0.217402\ttest-mlogloss:0.569075\n",
      "[919]\ttrain-mlogloss:0.217211\ttest-mlogloss:0.569098\n",
      "[920]\ttrain-mlogloss:0.217042\ttest-mlogloss:0.569138\n",
      "[921]\ttrain-mlogloss:0.216822\ttest-mlogloss:0.569210\n",
      "[922]\ttrain-mlogloss:0.216642\ttest-mlogloss:0.569181\n",
      "[923]\ttrain-mlogloss:0.216460\ttest-mlogloss:0.569203\n",
      "[924]\ttrain-mlogloss:0.216266\ttest-mlogloss:0.569230\n",
      "[925]\ttrain-mlogloss:0.216060\ttest-mlogloss:0.569297\n",
      "[926]\ttrain-mlogloss:0.215840\ttest-mlogloss:0.569302\n",
      "[927]\ttrain-mlogloss:0.215671\ttest-mlogloss:0.569440\n",
      "[928]\ttrain-mlogloss:0.215480\ttest-mlogloss:0.569607\n",
      "[929]\ttrain-mlogloss:0.215273\ttest-mlogloss:0.569641\n",
      "[930]\ttrain-mlogloss:0.215068\ttest-mlogloss:0.569694\n",
      "[931]\ttrain-mlogloss:0.214866\ttest-mlogloss:0.569722\n",
      "[932]\ttrain-mlogloss:0.214718\ttest-mlogloss:0.569794\n",
      "[933]\ttrain-mlogloss:0.214508\ttest-mlogloss:0.569783\n",
      "[934]\ttrain-mlogloss:0.214311\ttest-mlogloss:0.569963\n",
      "[935]\ttrain-mlogloss:0.214118\ttest-mlogloss:0.570067\n",
      "[936]\ttrain-mlogloss:0.213971\ttest-mlogloss:0.570126\n",
      "[937]\ttrain-mlogloss:0.213801\ttest-mlogloss:0.570211\n",
      "[938]\ttrain-mlogloss:0.213589\ttest-mlogloss:0.570290\n",
      "[939]\ttrain-mlogloss:0.213477\ttest-mlogloss:0.570362\n",
      "[940]\ttrain-mlogloss:0.213304\ttest-mlogloss:0.570372\n",
      "[941]\ttrain-mlogloss:0.213126\ttest-mlogloss:0.570531\n",
      "[942]\ttrain-mlogloss:0.212958\ttest-mlogloss:0.570509\n",
      "[943]\ttrain-mlogloss:0.212763\ttest-mlogloss:0.570500\n",
      "[944]\ttrain-mlogloss:0.212570\ttest-mlogloss:0.570609\n",
      "[945]\ttrain-mlogloss:0.212393\ttest-mlogloss:0.570633\n",
      "[946]\ttrain-mlogloss:0.212252\ttest-mlogloss:0.570658\n",
      "[947]\ttrain-mlogloss:0.212056\ttest-mlogloss:0.570664\n",
      "[948]\ttrain-mlogloss:0.211913\ttest-mlogloss:0.570693\n",
      "[949]\ttrain-mlogloss:0.211689\ttest-mlogloss:0.570753\n",
      "[950]\ttrain-mlogloss:0.211507\ttest-mlogloss:0.570697\n",
      "[951]\ttrain-mlogloss:0.211356\ttest-mlogloss:0.570768\n",
      "[952]\ttrain-mlogloss:0.211175\ttest-mlogloss:0.570865\n",
      "[953]\ttrain-mlogloss:0.210995\ttest-mlogloss:0.570923\n",
      "[954]\ttrain-mlogloss:0.210832\ttest-mlogloss:0.571003\n",
      "[955]\ttrain-mlogloss:0.210654\ttest-mlogloss:0.571108\n",
      "[956]\ttrain-mlogloss:0.210463\ttest-mlogloss:0.571183\n",
      "[957]\ttrain-mlogloss:0.210243\ttest-mlogloss:0.571184\n",
      "[958]\ttrain-mlogloss:0.210006\ttest-mlogloss:0.571272\n",
      "[959]\ttrain-mlogloss:0.209850\ttest-mlogloss:0.571451\n",
      "[960]\ttrain-mlogloss:0.209625\ttest-mlogloss:0.571564\n",
      "[961]\ttrain-mlogloss:0.209421\ttest-mlogloss:0.571570\n",
      "[962]\ttrain-mlogloss:0.209260\ttest-mlogloss:0.571627\n",
      "[963]\ttrain-mlogloss:0.209126\ttest-mlogloss:0.571621\n",
      "[964]\ttrain-mlogloss:0.208977\ttest-mlogloss:0.571694\n",
      "[965]\ttrain-mlogloss:0.208773\ttest-mlogloss:0.571797\n",
      "[966]\ttrain-mlogloss:0.208564\ttest-mlogloss:0.571802\n",
      "[967]\ttrain-mlogloss:0.208335\ttest-mlogloss:0.571733\n",
      "[968]\ttrain-mlogloss:0.208183\ttest-mlogloss:0.571867\n",
      "[969]\ttrain-mlogloss:0.208028\ttest-mlogloss:0.571925\n",
      "[970]\ttrain-mlogloss:0.207867\ttest-mlogloss:0.571940\n",
      "[971]\ttrain-mlogloss:0.207701\ttest-mlogloss:0.572049\n",
      "[972]\ttrain-mlogloss:0.207503\ttest-mlogloss:0.571987\n",
      "[973]\ttrain-mlogloss:0.207371\ttest-mlogloss:0.571968\n",
      "[974]\ttrain-mlogloss:0.207227\ttest-mlogloss:0.572040\n",
      "[975]\ttrain-mlogloss:0.207022\ttest-mlogloss:0.572124\n",
      "[976]\ttrain-mlogloss:0.206866\ttest-mlogloss:0.572290\n",
      "[977]\ttrain-mlogloss:0.206637\ttest-mlogloss:0.572308\n",
      "[978]\ttrain-mlogloss:0.206477\ttest-mlogloss:0.572371\n",
      "[979]\ttrain-mlogloss:0.206325\ttest-mlogloss:0.572528\n",
      "[980]\ttrain-mlogloss:0.206129\ttest-mlogloss:0.572628\n",
      "[981]\ttrain-mlogloss:0.205903\ttest-mlogloss:0.572682\n",
      "[982]\ttrain-mlogloss:0.205770\ttest-mlogloss:0.572701\n",
      "[983]\ttrain-mlogloss:0.205569\ttest-mlogloss:0.572765\n",
      "[984]\ttrain-mlogloss:0.205403\ttest-mlogloss:0.572831\n",
      "[985]\ttrain-mlogloss:0.205205\ttest-mlogloss:0.572946\n",
      "[986]\ttrain-mlogloss:0.204984\ttest-mlogloss:0.573005\n",
      "[987]\ttrain-mlogloss:0.204797\ttest-mlogloss:0.573028\n",
      "[988]\ttrain-mlogloss:0.204619\ttest-mlogloss:0.573109\n",
      "[989]\ttrain-mlogloss:0.204464\ttest-mlogloss:0.573227\n",
      "[990]\ttrain-mlogloss:0.204250\ttest-mlogloss:0.573361\n",
      "[991]\ttrain-mlogloss:0.204085\ttest-mlogloss:0.573455\n",
      "[992]\ttrain-mlogloss:0.203873\ttest-mlogloss:0.573547\n",
      "[993]\ttrain-mlogloss:0.203715\ttest-mlogloss:0.573569\n",
      "[994]\ttrain-mlogloss:0.203604\ttest-mlogloss:0.573647\n",
      "[995]\ttrain-mlogloss:0.203405\ttest-mlogloss:0.573683\n",
      "[996]\ttrain-mlogloss:0.203214\ttest-mlogloss:0.573826\n",
      "[997]\ttrain-mlogloss:0.203031\ttest-mlogloss:0.573862\n"
     ]
    },
    {
     "name": "stdout",
     "output_type": "stream",
     "text": [
      "[0.57402668283770453]\n"
     ]
    },
    {
     "name": "stderr",
     "output_type": "stream",
     "text": [
      "[998]\ttrain-mlogloss:0.202878\ttest-mlogloss:0.573933\n",
      "[999]\ttrain-mlogloss:0.202711\ttest-mlogloss:0.574026\n",
      "C:\\Users\\parth\\Anaconda3\\lib\\site-packages\\xgboost-0.40-py3.5.egg\\xgboost.py:474: VisibleDeprecationWarning: using a non-integer number instead of an integer will result in an error in the future\n",
      "  preds = preds.reshape(nrow, preds.size / nrow)\n"
     ]
    }
   ],
   "source": [
    "cv_scores = []\n",
    "kf = model_selection.KFold(n_splits=5, shuffle=True, random_state=2016)\n",
    "for dev_index, val_index in kf.split(range(trainX.shape[0])):\n",
    "        dev_X, val_X = trainX[dev_index,:], trainX[val_index,:]\n",
    "        dev_y, val_y = train_Y[dev_index], train_Y[val_index]\n",
    "        preds, model = runXGB(dev_X, dev_y, val_X, val_y)\n",
    "        cv_scores.append(log_loss(val_y, preds))\n",
    "        print(cv_scores)\n",
    "        break"
   ]
  },
  {
   "cell_type": "code",
   "execution_count": 67,
   "metadata": {
    "collapsed": false
   },
   "outputs": [
    {
     "name": "stderr",
     "output_type": "stream",
     "text": [
      "C:\\Users\\parth\\Anaconda3\\lib\\site-packages\\xgboost-0.40-py3.5.egg\\xgboost.py:474: VisibleDeprecationWarning: using a non-integer number instead of an integer will result in an error in the future\n",
      "  preds = preds.reshape(nrow, preds.size / nrow)\n"
     ]
    }
   ],
   "source": [
    "preds, model = runXGB(trainX, train_Y, testX, num_rounds=400)\n",
    "out_df = pd.DataFrame(preds)\n",
    "out_df.columns = [\"high\", \"medium\", \"low\"]\n",
    "out_df[\"listing_id\"] = test_df.listing_id.values\n",
    "out_df.to_csv(\"C:/Users/parth/Desktop/Git/Projects/TwoSigma/Data/xgb_submission1.csv\", index=False)"
   ]
  },
  {
   "cell_type": "code",
   "execution_count": null,
   "metadata": {
    "collapsed": true
   },
   "outputs": [],
   "source": []
  }
 ],
 "metadata": {
  "anaconda-cloud": {},
  "kernelspec": {
   "display_name": "Python [Root]",
   "language": "python",
   "name": "Python [Root]"
  },
  "language_info": {
   "codemirror_mode": {
    "name": "ipython",
    "version": 3
   },
   "file_extension": ".py",
   "mimetype": "text/x-python",
   "name": "python",
   "nbconvert_exporter": "python",
   "pygments_lexer": "ipython3",
   "version": "3.5.2"
  }
 },
 "nbformat": 4,
 "nbformat_minor": 0
}
